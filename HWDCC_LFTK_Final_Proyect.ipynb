{
  "nbformat": 4,
  "nbformat_minor": 0,
  "metadata": {
    "colab": {
      "name": "HWDCC-LFTK Final Proyect.ipynb",
      "provenance": [],
      "collapsed_sections": [],
      "machine_shape": "hm",
      "mount_file_id": "18yVGbVoPNkJFI_ZrnlYuu-UU-7Ra8lRh",
      "authorship_tag": "ABX9TyNxH/kJi+LWlv/MJz2uOVrO",
      "include_colab_link": true
    },
    "kernelspec": {
      "name": "python3",
      "display_name": "Python 3"
    },
    "accelerator": "GPU"
  },
  "cells": [
    {
      "cell_type": "markdown",
      "metadata": {
        "id": "view-in-github",
        "colab_type": "text"
      },
      "source": [
        "<a href=\"https://colab.research.google.com/github/andresvir14/HWDCC_LFTK-/blob/master/HWDCC_LFTK_Final_Proyect.ipynb\" target=\"_parent\"><img src=\"https://colab.research.google.com/assets/colab-badge.svg\" alt=\"Open In Colab\"/></a>"
      ]
    },
    {
      "cell_type": "code",
      "metadata": {
        "id": "Xr-u9bHh6qbA",
        "colab_type": "code",
        "colab": {}
      },
      "source": [
        "# Import libraries\n",
        "# Basic libraries\n",
        "import pandas as pd\n",
        "import numpy as np\n",
        "\n",
        "# Preprocesing and feature extraction\n",
        "from itertools import product\n",
        "from sklearn import preprocessing\n",
        "from sklearn.feature_extraction.text import TfidfVectorizer\n",
        "\n",
        "# Modeling\n",
        "from sklearn.linear_model import LinearRegression\n",
        "from xgboost import XGBRegressor\n",
        "from xgboost import plot_importance\n",
        "\n",
        "# Ploting\n",
        "import matplotlib.pyplot as plt\n",
        "from matplotlib.pyplot import figure\n",
        "import seaborn as sns\n",
        "\n",
        "# To deal with downloaded files\n",
        "from google.colab import files\n",
        "\n",
        "# Others\n",
        "import time"
      ],
      "execution_count": 0,
      "outputs": []
    },
    {
      "cell_type": "code",
      "metadata": {
        "id": "RWhrGXi38Jom",
        "colab_type": "code",
        "colab": {}
      },
      "source": [
        "# Functions used\n",
        "\n",
        "# Downcast variables \n",
        "def downcast(df):\n",
        "  '''\n",
        "    Change columns types from 64 to 32 bits\n",
        "  '''\n",
        "  float64columns = df.select_dtypes(['float64']).columns.tolist()\n",
        "  int64columns = df.select_dtypes(['int64']).columns.tolist()\n",
        "  df[float64columns] = df[float64columns].astype('float32')\n",
        "  df[int64columns] = df[int64columns].astype('int32')\n",
        "  return df\n",
        "\n",
        "# Averages of target variables\n",
        "def averagevalues(df, group, target):\n",
        "  '''\n",
        "  Takes a group of variables (from one two three) and a target variables to return the average \n",
        "  '''\n",
        "  grouped = df.groupby(group).agg({target: ['mean']})\n",
        "  \n",
        "  if (len(group) == 1):\n",
        "    grouped.columns = [group[0]+'_avg_'+target]\n",
        "  elif (len(group) == 2):\n",
        "    grouped.columns = [group[0]+'_'+group[1]+'_avg_'+target]\n",
        "  else:\n",
        "    grouped.columns = [group[0]+'_'+group[1]+'-'+group[2]+'_avg_'+target]\n",
        "\n",
        "  grouped.reset_index(inplace=True)\n",
        "  df = pd.merge(df, grouped, on=group, how='left')\n",
        "  return df\n",
        "\n",
        "# Function that creates the lags of given columns\n",
        "def lag_feature(df, lags, col):\n",
        "    tmp = df[['date_block_num','shop_id','item_id', col]]\n",
        "    for i in lags:\n",
        "        shifted = tmp.copy()\n",
        "        shifted.columns = ['date_block_num','shop_id','item_id', col+'_lag_'+ str(i)]\n",
        "        shifted['date_block_num'] += i\n",
        "        shifted[col+'_lag_'+ str(i)] = shifted[col+'_lag_'+ str(i)].astype('float16')\n",
        "        df = pd.merge(df, shifted, on=['date_block_num','shop_id','item_id'], how='left')\n",
        "    return df    "
      ],
      "execution_count": 0,
      "outputs": []
    },
    {
      "cell_type": "code",
      "metadata": {
        "id": "dVmnEFrM66HL",
        "colab_type": "code",
        "colab": {}
      },
      "source": [
        "# Load de the data\n",
        "transactions    = pd.read_csv('/content/drive/My Drive/DataScience/data/competitive-data-science-predict-future-sales/sales_train.csv')\n",
        "items           = pd.read_csv('/content/drive/My Drive/DataScience/data/competitive-data-science-predict-future-sales/items.csv')\n",
        "item_categories = pd.read_csv('/content/drive/My Drive/DataScience/data/competitive-data-science-predict-future-sales/item_categories.csv')\n",
        "shops           = pd.read_csv('/content/drive/My Drive/DataScience/data/competitive-data-science-predict-future-sales/shops.csv')\n",
        "transactions_test    = pd.read_csv('/content/drive/My Drive/DataScience/data/competitive-data-science-predict-future-sales/test.csv')\n"
      ],
      "execution_count": 0,
      "outputs": []
    },
    {
      "cell_type": "code",
      "metadata": {
        "id": "GEKnqvug6-gR",
        "colab_type": "code",
        "colab": {}
      },
      "source": [
        "index_cols = ['shop_id', 'item_id', 'date_block_num']\n",
        "\n",
        "# For every month we create a grid from all shops/items combinations from that month\n",
        "grid = [] \n",
        "for block_num in transactions['date_block_num'].unique():\n",
        "    cur_shops = transactions[transactions['date_block_num']==block_num]['shop_id'].unique()\n",
        "    cur_items = transactions[transactions['date_block_num']==block_num]['item_id'].unique()\n",
        "    grid.append(np.array(list(product(*[cur_shops, cur_items, [block_num]])), dtype = 'int16'))\n",
        "\n",
        "# Turn the grid into pandas dataframe\n",
        "grid = pd.DataFrame(np.vstack(grid), columns = index_cols, dtype = np.int32)\n",
        "\n",
        "# Get aggregated values of sales by shop_id, item_id\n",
        "gb = transactions.groupby(index_cols).agg({'item_cnt_day':'sum'})\n",
        "gb.columns = ['target']\n",
        "gb.reset_index(inplace = True)\n",
        "\n",
        "# Join aggregated data to the grid and sort the data\n",
        "train = pd.merge(grid, gb, how='left',on=index_cols).fillna(0)\n",
        "train['target'] = train['target'].clip(0,20)\n",
        "train.sort_values(['date_block_num','shop_id','item_id'],inplace=True)\n",
        "\n",
        "del grid, gb"
      ],
      "execution_count": 0,
      "outputs": []
    },
    {
      "cell_type": "code",
      "metadata": {
        "id": "PSirxUgkmwbk",
        "colab_type": "code",
        "colab": {}
      },
      "source": [
        "# Add information from items and shops to train set\n",
        "train = pd.merge(train, items, on = ['item_id']) # Join item_name and item category\n",
        "train = pd.merge(train, shops, on = ['shop_id']) # Join shop_name"
      ],
      "execution_count": 0,
      "outputs": []
    },
    {
      "cell_type": "code",
      "metadata": {
        "id": "FrWjfu5mnPL2",
        "colab_type": "code",
        "colab": {
          "base_uri": "https://localhost:8080/",
          "height": 360
        },
        "outputId": "4c96945e-c862-4391-cb94-cf9c1e84aa01"
      },
      "source": [
        "# Mean encoding with regularization via 5 fold scheme\n",
        "from sklearn.model_selection import KFold\n",
        "\n",
        "kf = KFold(8, shuffle = False, random_state = 123)\n",
        "\n",
        "train['date_block_target_ME'] = 0\n",
        "#train['shop_target_ME'] = 0\n",
        "train['item_target_ME'] = 0\n",
        "train['item_cat_target_ME'] = 0\n",
        "\n",
        "for tr_ind_ME, val_ind_ME in kf.split(train):\n",
        "    X_tr_ME, X_val_ME = train.iloc[tr_ind_ME], train.iloc[val_ind_ME]\n",
        "    \n",
        "    X_val_ME['date_block_target_ME'] = X_val_ME['date_block_num'].map(X_tr_ME.groupby('date_block_num').target.mean())\n",
        " #   X_val_ME['shop_target_ME'] = X_val_ME['shop_id'].map(X_tr_ME.groupby('shop_id').target.mean())\n",
        "    X_val_ME['item_target_ME'] = X_val_ME['item_id'].map(X_tr_ME.groupby('item_id').target.mean())\n",
        "    X_val_ME['item_cat_target_ME'] = X_val_ME['item_category_id'].map(X_tr_ME.groupby('item_category_id').target.mean())\n",
        "\n",
        "    train.iloc[val_ind_ME] = X_val_ME\n",
        "\n",
        "# Fill nas with the mean of target for all the rows\n",
        "ME_cols = train.filter(regex=(\"ME\")).columns\n",
        "train[ME_cols.tolist()] = train[ME_cols.tolist()].fillna(train['target'].mean)\n"
      ],
      "execution_count": 20,
      "outputs": [
        {
          "output_type": "stream",
          "text": [
            "/usr/local/lib/python3.6/dist-packages/sklearn/model_selection/_split.py:296: FutureWarning: Setting a random_state has no effect since shuffle is False. This will raise an error in 0.24. You should leave random_state to its default (None), or set shuffle=True.\n",
            "  FutureWarning\n",
            "/usr/local/lib/python3.6/dist-packages/ipykernel_launcher.py:14: SettingWithCopyWarning: \n",
            "A value is trying to be set on a copy of a slice from a DataFrame.\n",
            "Try using .loc[row_indexer,col_indexer] = value instead\n",
            "\n",
            "See the caveats in the documentation: https://pandas.pydata.org/pandas-docs/stable/user_guide/indexing.html#returning-a-view-versus-a-copy\n",
            "  \n",
            "/usr/local/lib/python3.6/dist-packages/ipykernel_launcher.py:16: SettingWithCopyWarning: \n",
            "A value is trying to be set on a copy of a slice from a DataFrame.\n",
            "Try using .loc[row_indexer,col_indexer] = value instead\n",
            "\n",
            "See the caveats in the documentation: https://pandas.pydata.org/pandas-docs/stable/user_guide/indexing.html#returning-a-view-versus-a-copy\n",
            "  app.launch_new_instance()\n",
            "/usr/local/lib/python3.6/dist-packages/ipykernel_launcher.py:17: SettingWithCopyWarning: \n",
            "A value is trying to be set on a copy of a slice from a DataFrame.\n",
            "Try using .loc[row_indexer,col_indexer] = value instead\n",
            "\n",
            "See the caveats in the documentation: https://pandas.pydata.org/pandas-docs/stable/user_guide/indexing.html#returning-a-view-versus-a-copy\n"
          ],
          "name": "stderr"
        }
      ]
    },
    {
      "cell_type": "code",
      "metadata": {
        "id": "y8lsFtHT84V9",
        "colab_type": "code",
        "colab": {}
      },
      "source": [
        "# Add itesm and shops to test data\n",
        "test = pd.merge(transactions_test, items, on = ['item_id']) # Join item_name and item category\n",
        "test = pd.merge(test, shops, on = ['shop_id']) # Join shop_name\n",
        "\n",
        "# Set ID as index and join train with test data\n",
        "test.set_index('ID', inplace = True)\n",
        "test['date_block_num'] = 34\n",
        "data = pd.concat([train, test], sort = False)\n",
        "data = downcast(data)\n",
        "\n",
        "del items, shops, item_categories, train, test"
      ],
      "execution_count": 0,
      "outputs": []
    },
    {
      "cell_type": "code",
      "metadata": {
        "id": "wc2r0LYG87sj",
        "colab_type": "code",
        "colab": {
          "base_uri": "https://localhost:8080/",
          "height": 204
        },
        "outputId": "2351ad01-0558-49e3-81c4-37f0d06c7467"
      },
      "source": [
        "data.isnull().sum()\n",
        "#data.tail()"
      ],
      "execution_count": 22,
      "outputs": [
        {
          "output_type": "execute_result",
          "data": {
            "text/plain": [
              "shop_id                      0\n",
              "item_id                      0\n",
              "date_block_num               0\n",
              "target                  214200\n",
              "item_name                    0\n",
              "item_category_id             0\n",
              "shop_name                    0\n",
              "date_block_target_ME    214200\n",
              "item_target_ME          214200\n",
              "item_cat_target_ME      214200\n",
              "dtype: int64"
            ]
          },
          "metadata": {
            "tags": []
          },
          "execution_count": 22
        }
      ]
    },
    {
      "cell_type": "code",
      "metadata": {
        "id": "iGiwdsb1mNfH",
        "colab_type": "code",
        "colab": {
          "base_uri": "https://localhost:8080/",
          "height": 85
        },
        "outputId": "2ef2715b-54b3-4f4b-f888-a7bed9c0433f"
      },
      "source": [
        "data.columns"
      ],
      "execution_count": 11,
      "outputs": [
        {
          "output_type": "execute_result",
          "data": {
            "text/plain": [
              "Index(['shop_id', 'item_id', 'date_block_num', 'target', 'item_name',\n",
              "       'item_category_id', 'shop_name', 'date_block_target_ME',\n",
              "       'item_target_ME', 'item_cat_target_ME'],\n",
              "      dtype='object')"
            ]
          },
          "metadata": {
            "tags": []
          },
          "execution_count": 11
        }
      ]
    },
    {
      "cell_type": "code",
      "metadata": {
        "id": "koOh6nvY9QeI",
        "colab_type": "code",
        "colab": {
          "base_uri": "https://localhost:8080/",
          "height": 34
        },
        "outputId": "8ef582d0-3103-4c1a-ae10-3b3a79de2fc3"
      },
      "source": [
        "# Lagged values\n",
        "ts = time.time()\n",
        "\n",
        "data = lag_feature(data, [1, 2, 3, 4, 5, 12], 'target')\n",
        "data = lag_feature(data, [1, 2, 3, 4, 5, 12], 'date_block_target_ME')\n",
        "#data = lag_feature(data, [1, 2, 3, 4, 5, 12], 'shop_target_ME')\n",
        "data = lag_feature(data, [1, 2, 3, 4, 5, 12], 'item_target_ME')\n",
        "data = lag_feature(data, [1, 2, 3, 4, 5, 12], 'item_cat_target_ME')\n",
        "\n",
        "data = downcast(data)\n",
        "\n",
        "time.time() - ts"
      ],
      "execution_count": 23,
      "outputs": [
        {
          "output_type": "execute_result",
          "data": {
            "text/plain": [
              "219.98853754997253"
            ]
          },
          "metadata": {
            "tags": []
          },
          "execution_count": 23
        }
      ]
    },
    {
      "cell_type": "code",
      "metadata": {
        "id": "nqegq3ir_og-",
        "colab_type": "code",
        "colab": {}
      },
      "source": [
        "# Drop level 0 lagged features\n",
        "data.drop(['date_block_target_ME', 'item_target_ME', 'item_cat_target_ME'], axis = 1, inplace = True) # Drop object columns\n",
        "data = downcast(data)"
      ],
      "execution_count": 0,
      "outputs": []
    },
    {
      "cell_type": "code",
      "metadata": {
        "id": "7PPCCLD79k6z",
        "colab_type": "code",
        "colab": {}
      },
      "source": [
        "data.fillna(0, inplace=True)\n",
        "data.drop(['item_name', 'shop_name'], axis = 1, inplace = True) # Drop object columns\n",
        "\n",
        "X_train = data[(data.date_block_num > 13) & (data.date_block_num < 33)].drop(['target'], axis=1)\n",
        "Y_train = data[(data.date_block_num > 13) & (data.date_block_num < 33)]['target']\n",
        "X_valid = data[data.date_block_num == 33].drop(['target'], axis=1)\n",
        "Y_valid = data[data.date_block_num == 33]['target']\n",
        "X_test = data[data.date_block_num == 34].drop(['target'], axis=1)\n",
        "\n",
        "# del data"
      ],
      "execution_count": 0,
      "outputs": []
    },
    {
      "cell_type": "code",
      "metadata": {
        "id": "2n0rV2l7-TUu",
        "colab_type": "code",
        "colab": {
          "base_uri": "https://localhost:8080/",
          "height": 1000
        },
        "outputId": "201ca22b-7f4a-48c4-cfeb-b8bc07358185"
      },
      "source": [
        "ts = time.time()\n",
        "\n",
        "model = XGBRegressor(\n",
        "    tree_method = \"gpu_hist\",\n",
        "    max_depth = 6, # Tree related parameter: determines how deeply each tree is allowed to grow during any boosting round\n",
        "    min_child_weight = 600, # \n",
        "    colsample_bytree=0.8, # percentage of features used per tree. High value can lead to overfitting\n",
        "    n_estimators = 500, # number of trees you want to build.\n",
        "    subsample=0.8, # Boosting parameter: percentage of samples used per tree. Low value can lead to underfitting\n",
        "    eta=0.3, #  Boosting parameter\n",
        "    seed=123)\n",
        "\n",
        "model.fit(\n",
        "    X_train, \n",
        "    Y_train, \n",
        "    eval_metric=\"rmse\", \n",
        "    eval_set=[(X_train, Y_train), (X_valid, Y_valid)], \n",
        "    verbose=True, \n",
        "    early_stopping_rounds = 10)\n",
        "\n",
        "time.time() - ts\n"
      ],
      "execution_count": 28,
      "outputs": [
        {
          "output_type": "stream",
          "text": [
            "[23:34:06] WARNING: /workspace/src/objective/regression_obj.cu:152: reg:linear is now deprecated in favor of reg:squarederror.\n",
            "[0]\tvalidation_0-rmse:1.15493\tvalidation_1-rmse:1.12402\n",
            "Multiple eval metrics have been passed: 'validation_1-rmse' will be used for early stopping.\n",
            "\n",
            "Will train until validation_1-rmse hasn't improved in 10 rounds.\n",
            "[1]\tvalidation_0-rmse:1.11538\tvalidation_1-rmse:1.09422\n",
            "[2]\tvalidation_0-rmse:1.08231\tvalidation_1-rmse:1.07012\n",
            "[3]\tvalidation_0-rmse:1.05927\tvalidation_1-rmse:1.05027\n",
            "[4]\tvalidation_0-rmse:1.03842\tvalidation_1-rmse:1.03389\n",
            "[5]\tvalidation_0-rmse:1.02055\tvalidation_1-rmse:1.02172\n",
            "[6]\tvalidation_0-rmse:1.00068\tvalidation_1-rmse:1.00884\n",
            "[7]\tvalidation_0-rmse:0.988109\tvalidation_1-rmse:1.00016\n",
            "[8]\tvalidation_0-rmse:0.973428\tvalidation_1-rmse:0.991452\n",
            "[9]\tvalidation_0-rmse:0.963968\tvalidation_1-rmse:0.986162\n",
            "[10]\tvalidation_0-rmse:0.952924\tvalidation_1-rmse:0.980131\n",
            "[11]\tvalidation_0-rmse:0.94375\tvalidation_1-rmse:0.975254\n",
            "[12]\tvalidation_0-rmse:0.936124\tvalidation_1-rmse:0.971857\n",
            "[13]\tvalidation_0-rmse:0.929709\tvalidation_1-rmse:0.968962\n",
            "[14]\tvalidation_0-rmse:0.924415\tvalidation_1-rmse:0.966633\n",
            "[15]\tvalidation_0-rmse:0.920679\tvalidation_1-rmse:0.964645\n",
            "[16]\tvalidation_0-rmse:0.916692\tvalidation_1-rmse:0.96302\n",
            "[17]\tvalidation_0-rmse:0.913329\tvalidation_1-rmse:0.961675\n",
            "[18]\tvalidation_0-rmse:0.910102\tvalidation_1-rmse:0.959771\n",
            "[19]\tvalidation_0-rmse:0.90746\tvalidation_1-rmse:0.958808\n",
            "[20]\tvalidation_0-rmse:0.904374\tvalidation_1-rmse:0.956954\n",
            "[21]\tvalidation_0-rmse:0.90223\tvalidation_1-rmse:0.956191\n",
            "[22]\tvalidation_0-rmse:0.899929\tvalidation_1-rmse:0.954826\n",
            "[23]\tvalidation_0-rmse:0.898403\tvalidation_1-rmse:0.95402\n",
            "[24]\tvalidation_0-rmse:0.897174\tvalidation_1-rmse:0.953813\n",
            "[25]\tvalidation_0-rmse:0.895582\tvalidation_1-rmse:0.953769\n",
            "[26]\tvalidation_0-rmse:0.894465\tvalidation_1-rmse:0.953424\n",
            "[27]\tvalidation_0-rmse:0.893425\tvalidation_1-rmse:0.952962\n",
            "[28]\tvalidation_0-rmse:0.892427\tvalidation_1-rmse:0.952767\n",
            "[29]\tvalidation_0-rmse:0.891531\tvalidation_1-rmse:0.952699\n",
            "[30]\tvalidation_0-rmse:0.890284\tvalidation_1-rmse:0.952048\n",
            "[31]\tvalidation_0-rmse:0.889356\tvalidation_1-rmse:0.951905\n",
            "[32]\tvalidation_0-rmse:0.888352\tvalidation_1-rmse:0.951667\n",
            "[33]\tvalidation_0-rmse:0.887865\tvalidation_1-rmse:0.951594\n",
            "[34]\tvalidation_0-rmse:0.885987\tvalidation_1-rmse:0.949255\n",
            "[35]\tvalidation_0-rmse:0.88525\tvalidation_1-rmse:0.949272\n",
            "[36]\tvalidation_0-rmse:0.88462\tvalidation_1-rmse:0.949097\n",
            "[37]\tvalidation_0-rmse:0.884066\tvalidation_1-rmse:0.949061\n",
            "[38]\tvalidation_0-rmse:0.8836\tvalidation_1-rmse:0.948664\n",
            "[39]\tvalidation_0-rmse:0.883165\tvalidation_1-rmse:0.948383\n",
            "[40]\tvalidation_0-rmse:0.882325\tvalidation_1-rmse:0.947506\n",
            "[41]\tvalidation_0-rmse:0.881565\tvalidation_1-rmse:0.947528\n",
            "[42]\tvalidation_0-rmse:0.879668\tvalidation_1-rmse:0.945646\n",
            "[43]\tvalidation_0-rmse:0.878103\tvalidation_1-rmse:0.944198\n",
            "[44]\tvalidation_0-rmse:0.877026\tvalidation_1-rmse:0.94334\n",
            "[45]\tvalidation_0-rmse:0.876701\tvalidation_1-rmse:0.943072\n",
            "[46]\tvalidation_0-rmse:0.876365\tvalidation_1-rmse:0.942776\n",
            "[47]\tvalidation_0-rmse:0.875564\tvalidation_1-rmse:0.941573\n",
            "[48]\tvalidation_0-rmse:0.874951\tvalidation_1-rmse:0.941208\n",
            "[49]\tvalidation_0-rmse:0.874533\tvalidation_1-rmse:0.941376\n",
            "[50]\tvalidation_0-rmse:0.874216\tvalidation_1-rmse:0.941595\n",
            "[51]\tvalidation_0-rmse:0.873894\tvalidation_1-rmse:0.941192\n",
            "[52]\tvalidation_0-rmse:0.872552\tvalidation_1-rmse:0.94063\n",
            "[53]\tvalidation_0-rmse:0.872115\tvalidation_1-rmse:0.940667\n",
            "[54]\tvalidation_0-rmse:0.871282\tvalidation_1-rmse:0.940493\n",
            "[55]\tvalidation_0-rmse:0.870966\tvalidation_1-rmse:0.940505\n",
            "[56]\tvalidation_0-rmse:0.870717\tvalidation_1-rmse:0.94064\n",
            "[57]\tvalidation_0-rmse:0.870054\tvalidation_1-rmse:0.940071\n",
            "[58]\tvalidation_0-rmse:0.869523\tvalidation_1-rmse:0.939498\n",
            "[59]\tvalidation_0-rmse:0.867847\tvalidation_1-rmse:0.939065\n",
            "[60]\tvalidation_0-rmse:0.867385\tvalidation_1-rmse:0.93873\n",
            "[61]\tvalidation_0-rmse:0.86684\tvalidation_1-rmse:0.939204\n",
            "[62]\tvalidation_0-rmse:0.866041\tvalidation_1-rmse:0.938728\n",
            "[63]\tvalidation_0-rmse:0.865751\tvalidation_1-rmse:0.938228\n",
            "[64]\tvalidation_0-rmse:0.86528\tvalidation_1-rmse:0.938049\n",
            "[65]\tvalidation_0-rmse:0.864973\tvalidation_1-rmse:0.937872\n",
            "[66]\tvalidation_0-rmse:0.864614\tvalidation_1-rmse:0.937674\n",
            "[67]\tvalidation_0-rmse:0.864519\tvalidation_1-rmse:0.937555\n",
            "[68]\tvalidation_0-rmse:0.863805\tvalidation_1-rmse:0.937436\n",
            "[69]\tvalidation_0-rmse:0.863587\tvalidation_1-rmse:0.936922\n",
            "[70]\tvalidation_0-rmse:0.863293\tvalidation_1-rmse:0.936893\n",
            "[71]\tvalidation_0-rmse:0.862688\tvalidation_1-rmse:0.936455\n",
            "[72]\tvalidation_0-rmse:0.862469\tvalidation_1-rmse:0.936302\n",
            "[73]\tvalidation_0-rmse:0.861922\tvalidation_1-rmse:0.935903\n",
            "[74]\tvalidation_0-rmse:0.860699\tvalidation_1-rmse:0.935903\n",
            "[75]\tvalidation_0-rmse:0.860318\tvalidation_1-rmse:0.935531\n",
            "[76]\tvalidation_0-rmse:0.859977\tvalidation_1-rmse:0.935397\n",
            "[77]\tvalidation_0-rmse:0.859053\tvalidation_1-rmse:0.935379\n",
            "[78]\tvalidation_0-rmse:0.858617\tvalidation_1-rmse:0.935437\n",
            "[79]\tvalidation_0-rmse:0.858302\tvalidation_1-rmse:0.935369\n",
            "[80]\tvalidation_0-rmse:0.858111\tvalidation_1-rmse:0.935278\n",
            "[81]\tvalidation_0-rmse:0.857643\tvalidation_1-rmse:0.935022\n",
            "[82]\tvalidation_0-rmse:0.857178\tvalidation_1-rmse:0.934475\n",
            "[83]\tvalidation_0-rmse:0.856984\tvalidation_1-rmse:0.934148\n",
            "[84]\tvalidation_0-rmse:0.85655\tvalidation_1-rmse:0.933715\n",
            "[85]\tvalidation_0-rmse:0.855961\tvalidation_1-rmse:0.933745\n",
            "[86]\tvalidation_0-rmse:0.85525\tvalidation_1-rmse:0.933741\n",
            "[87]\tvalidation_0-rmse:0.855001\tvalidation_1-rmse:0.933866\n",
            "[88]\tvalidation_0-rmse:0.854326\tvalidation_1-rmse:0.933931\n",
            "[89]\tvalidation_0-rmse:0.854009\tvalidation_1-rmse:0.934026\n",
            "[90]\tvalidation_0-rmse:0.853696\tvalidation_1-rmse:0.934012\n",
            "[91]\tvalidation_0-rmse:0.853464\tvalidation_1-rmse:0.933954\n",
            "[92]\tvalidation_0-rmse:0.853296\tvalidation_1-rmse:0.933953\n",
            "[93]\tvalidation_0-rmse:0.852608\tvalidation_1-rmse:0.933628\n",
            "[94]\tvalidation_0-rmse:0.852459\tvalidation_1-rmse:0.933481\n",
            "[95]\tvalidation_0-rmse:0.852235\tvalidation_1-rmse:0.933422\n",
            "[96]\tvalidation_0-rmse:0.851964\tvalidation_1-rmse:0.933278\n",
            "[97]\tvalidation_0-rmse:0.851833\tvalidation_1-rmse:0.933086\n",
            "[98]\tvalidation_0-rmse:0.851676\tvalidation_1-rmse:0.933202\n",
            "[99]\tvalidation_0-rmse:0.851439\tvalidation_1-rmse:0.933358\n",
            "[100]\tvalidation_0-rmse:0.851342\tvalidation_1-rmse:0.933488\n",
            "[101]\tvalidation_0-rmse:0.85121\tvalidation_1-rmse:0.933443\n",
            "[102]\tvalidation_0-rmse:0.851048\tvalidation_1-rmse:0.933346\n",
            "[103]\tvalidation_0-rmse:0.850567\tvalidation_1-rmse:0.933285\n",
            "[104]\tvalidation_0-rmse:0.850438\tvalidation_1-rmse:0.933151\n",
            "[105]\tvalidation_0-rmse:0.850335\tvalidation_1-rmse:0.933137\n",
            "[106]\tvalidation_0-rmse:0.849767\tvalidation_1-rmse:0.933317\n",
            "[107]\tvalidation_0-rmse:0.849514\tvalidation_1-rmse:0.933379\n",
            "Stopping. Best iteration:\n",
            "[97]\tvalidation_0-rmse:0.851833\tvalidation_1-rmse:0.933086\n",
            "\n"
          ],
          "name": "stdout"
        },
        {
          "output_type": "execute_result",
          "data": {
            "text/plain": [
              "510.1131179332733"
            ]
          },
          "metadata": {
            "tags": []
          },
          "execution_count": 28
        }
      ]
    },
    {
      "cell_type": "code",
      "metadata": {
        "id": "rkUnAPYa-qfc",
        "colab_type": "code",
        "colab": {
          "base_uri": "https://localhost:8080/",
          "height": 282
        },
        "outputId": "2afcbafc-6693-4a67-d3e0-70f1e46fe381"
      },
      "source": [
        "feat_importances = pd.Series(model.feature_importances_, index=X_train.columns)\n",
        "feat_importances.nlargest(15).plot(kind='barh')"
      ],
      "execution_count": 29,
      "outputs": [
        {
          "output_type": "execute_result",
          "data": {
            "text/plain": [
              "<matplotlib.axes._subplots.AxesSubplot at 0x7f470e9786d8>"
            ]
          },
          "metadata": {
            "tags": []
          },
          "execution_count": 29
        },
        {
          "output_type": "display_data",
          "data": {
            "image/png": "[encoded data removed]",
            "text/plain": [
              "<Figure size 432x288 with 1 Axes>"
            ]
          },
          "metadata": {
            "tags": [],
            "needs_background": "light"
          }
        }
      ]
    },
    {
      "cell_type": "code",
      "metadata": {
        "id": "8gj3WoGm-sd7",
        "colab_type": "code",
        "colab": {}
      },
      "source": [
        "Y_test = model.predict(X_test).clip(0, 20)\n",
        "testdata = X_test\n",
        "testdata['Y_test'] = Y_test\n",
        "\n",
        "# Add target variable to transactions_test and leave only ID and target\n",
        "transactions_test.reset_index(inplace = True)\n",
        "submition = pd.merge(transactions_test, testdata[['shop_id', 'item_id', 'Y_test']], on = ['shop_id', 'item_id'])\n",
        "submition = submition[['ID', 'Y_test']]\n",
        "submition.columns = ['ID', 'item_cnt_month']"
      ],
      "execution_count": 0,
      "outputs": []
    },
    {
      "cell_type": "code",
      "metadata": {
        "id": "OaaBIjeh-s48",
        "colab_type": "code",
        "colab": {}
      },
      "source": [
        "# Export results\n",
        "submition.to_csv('V3.csv', index=False)\n",
        "files.download('V3.csv')"
      ],
      "execution_count": 0,
      "outputs": []
    },
    {
      "cell_type": "markdown",
      "metadata": {
        "id": "k2WPL_ByIZmg",
        "colab_type": "text"
      },
      "source": [
        ""
      ]
    }
  ]
}