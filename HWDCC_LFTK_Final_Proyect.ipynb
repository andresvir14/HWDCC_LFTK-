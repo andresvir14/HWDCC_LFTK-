{
  "nbformat": 4,
  "nbformat_minor": 0,
  "metadata": {
    "colab": {
      "name": "HWDCC-LFTK Final Proyect.ipynb",
      "provenance": [],
      "collapsed_sections": [],
      "machine_shape": "hm",
      "mount_file_id": "18yVGbVoPNkJFI_ZrnlYuu-UU-7Ra8lRh",
      "authorship_tag": "ABX9TyMvDaP4V8UfN4HbOEQ3ctwz",
      "include_colab_link": true
    },
    "kernelspec": {
      "name": "python3",
      "display_name": "Python 3"
    },
    "accelerator": "GPU"
  },
  "cells": [
    {
      "cell_type": "markdown",
      "metadata": {
        "id": "view-in-github",
        "colab_type": "text"
      },
      "source": [
        "<a href=\"https://colab.research.google.com/github/andresvir14/HWDCC_LFTK-/blob/master/HWDCC_LFTK_Final_Proyect.ipynb\" target=\"_parent\"><img src=\"https://colab.research.google.com/assets/colab-badge.svg\" alt=\"Open In Colab\"/></a>"
      ]
    },
    {
      "cell_type": "code",
      "metadata": {
        "id": "Xr-u9bHh6qbA",
        "colab_type": "code",
        "colab": {
          "base_uri": "https://localhost:8080/",
          "height": 71
        },
        "outputId": "ec256ed9-f510-41df-b046-ce3c47bce581"
      },
      "source": [
        "# Import libraries\n",
        "# Basic libraries\n",
        "import pandas as pd\n",
        "import numpy as np\n",
        "\n",
        "# Preprocesing and feature extraction\n",
        "from sklearn.model_selection import KFold\n",
        "from itertools import product\n",
        "from sklearn import preprocessing\n",
        "from sklearn.feature_extraction.text import TfidfVectorizer\n",
        "\n",
        "# Modeling\n",
        "from sklearn.linear_model import LinearRegression\n",
        "from xgboost import XGBRegressor\n",
        "from xgboost import plot_importance\n",
        "\n",
        "# Ploting\n",
        "import matplotlib.pyplot as plt\n",
        "from matplotlib.pyplot import figure\n",
        "import seaborn as sns\n",
        "\n",
        "# To deal with downloaded files\n",
        "from google.colab import files\n",
        "\n",
        "# Others\n",
        "import time"
      ],
      "execution_count": 1,
      "outputs": [
        {
          "output_type": "stream",
          "text": [
            "/usr/local/lib/python3.6/dist-packages/statsmodels/tools/_testing.py:19: FutureWarning: pandas.util.testing is deprecated. Use the functions in the public API at pandas.testing instead.\n",
            "  import pandas.util.testing as tm\n"
          ],
          "name": "stderr"
        }
      ]
    },
    {
      "cell_type": "code",
      "metadata": {
        "id": "RWhrGXi38Jom",
        "colab_type": "code",
        "colab": {}
      },
      "source": [
        "# Functions used\n",
        "\n",
        "# Downcast variables \n",
        "def downcast(df):\n",
        "  '''\n",
        "    Change columns types from 64 to 32 bits\n",
        "  '''\n",
        "  float64columns = df.select_dtypes(['float64']).columns.tolist()\n",
        "  int64columns = df.select_dtypes(['int64']).columns.tolist()\n",
        "  df[float64columns] = df[float64columns].astype('float32')\n",
        "  df[int64columns] = df[int64columns].astype('int32')\n",
        "  return df\n",
        "\n",
        "# Averages of target variables\n",
        "def averagevalues(df, group, target):\n",
        "  '''\n",
        "  Takes a group of variables (from one two three) and a target variables to return the average \n",
        "  '''\n",
        "  grouped = df.groupby(group).agg({target: ['mean']})\n",
        "  \n",
        "  if (len(group) == 1):\n",
        "    grouped.columns = [group[0]+'_avg_'+target]\n",
        "  elif (len(group) == 2):\n",
        "    grouped.columns = [group[0]+'_'+group[1]+'_avg_'+target]\n",
        "  else:\n",
        "    grouped.columns = [group[0]+'_'+group[1]+'-'+group[2]+'_avg_'+target]\n",
        "\n",
        "  grouped.reset_index(inplace=True)\n",
        "  df = pd.merge(df, grouped, on=group, how='left')\n",
        "  return df\n",
        "\n",
        "# Function for mean encodings using LOO scheme\n",
        "def meaneconloo(df, groupvar):\n",
        "    \"\"\"\n",
        "    df: Pandas data frame that contains categorical and target features\n",
        "    catfeature: feature we want to create the mean encoding regularized through LOO scheme\n",
        "    \"\"\"\n",
        "    target_sum = df.groupby(groupvar)['target'].transform('sum')\n",
        "    n_objects  = df.groupby(groupvar)['target'].transform('count')\n",
        "    df[groupvar+'_target_ME'] = (target_sum - df['target']) / (n_objects - 1)\n",
        "    df[groupvar+'_target_ME'].fillna(df[groupvar+'_target_ME'].mean(), inplace=True)\n",
        "    print('Correlation of', groupvar, '_target_ME:', np.corrcoef(df['target'].values, df[groupvar+'_target_ME'].values)[0][1])\n",
        "    return df\n",
        "\n",
        "# Function for mean encoding with smothing method\n",
        "def me_smoothing(df, groupvar, alpha):\n",
        "  n_objects = df.groupby(groupvar)['target'].transform('count')\n",
        "  meantarget = df.groupby(groupvar)['target'].transform('mean')\n",
        "  df[groupvar+'_target_ME'] = (meantarget * n_objects + 0.3343 * alpha) / (n_objects + 100)\n",
        "  print('Correlation of', groupvar, '_target_ME:', np.corrcoef(df['target'].values, df[groupvar+'_target_ME'].values)[0][1])\n",
        "  return df\n",
        "\n",
        "# Function for kfold mean target encoding\n",
        "def me_kfold(df, folds, groupvar):\n",
        "  df[groupvar+'_target_ME'] = 0\n",
        "  kf = KFold(folds, shuffle = False, random_state = 123)\n",
        "\n",
        "  for tr_ind_ME, val_ind_ME in kf.split(train):\n",
        "    X_tr_ME, X_val_ME = df.loc[tr_ind_ME], df.loc[val_ind_ME]\n",
        "    X_val_ME[groupvar+'_target_ME'] = X_val_ME[groupvar].map(X_tr_ME.groupby(groupvar).target.mean())\n",
        "    df.loc[val_ind_ME] = X_val_ME\n",
        "  df[groupvar+'_target_ME'].fillna(0.3343, inplace=True)\n",
        "  print('Correlation of', groupvar, '_target_ME:', np.corrcoef(df['target'].values, df[groupvar+'_target_ME'].values)[0][1])\n",
        "  return df\n",
        "\n",
        "# Function that creates the lags of given columns\n",
        "def lag_feature(df, lags, col):\n",
        "    tmp = df[['date_block_num','shop_id','item_id', col]]\n",
        "    for i in lags:\n",
        "        shifted = tmp.copy()\n",
        "        shifted.columns = ['date_block_num','shop_id','item_id', col+'_lag_'+ str(i)]\n",
        "        shifted['date_block_num'] += i\n",
        "        shifted[col+'_lag_'+ str(i)] = shifted[col+'_lag_'+ str(i)].astype('float16')\n",
        "        df = pd.merge(df, shifted, on=['date_block_num','shop_id','item_id'], how='left')\n",
        "    return df    "
      ],
      "execution_count": 0,
      "outputs": []
    },
    {
      "cell_type": "code",
      "metadata": {
        "id": "dVmnEFrM66HL",
        "colab_type": "code",
        "colab": {}
      },
      "source": [
        "# Load de the data\n",
        "transactions    = pd.read_csv('/content/drive/My Drive/DataScience/data/competitive-data-science-predict-future-sales/sales_train.csv')\n",
        "items           = pd.read_csv('/content/drive/My Drive/DataScience/data/competitive-data-science-predict-future-sales/items.csv')\n",
        "item_categories = pd.read_csv('/content/drive/My Drive/DataScience/data/competitive-data-science-predict-future-sales/item_categories.csv')\n",
        "shops           = pd.read_csv('/content/drive/My Drive/DataScience/data/competitive-data-science-predict-future-sales/shops.csv')\n",
        "transactions_test    = pd.read_csv('/content/drive/My Drive/DataScience/data/competitive-data-science-predict-future-sales/test.csv')\n"
      ],
      "execution_count": 0,
      "outputs": []
    },
    {
      "cell_type": "code",
      "metadata": {
        "id": "GEKnqvug6-gR",
        "colab_type": "code",
        "colab": {}
      },
      "source": [
        "index_cols = ['shop_id', 'item_id', 'date_block_num']\n",
        "\n",
        "# For every month we create a grid from all shops/items combinations from that month\n",
        "grid = [] \n",
        "for block_num in transactions['date_block_num'].unique():\n",
        "    cur_shops = transactions[transactions['date_block_num']==block_num]['shop_id'].unique()\n",
        "    cur_items = transactions[transactions['date_block_num']==block_num]['item_id'].unique()\n",
        "    grid.append(np.array(list(product(*[cur_shops, cur_items, [block_num]])), dtype = 'int16'))\n",
        "\n",
        "# Turn the grid into pandas dataframe\n",
        "grid = pd.DataFrame(np.vstack(grid), columns = index_cols, dtype = np.int32)\n",
        "\n",
        "# Get aggregated values of sales by shop_id, item_id\n",
        "gb = transactions.groupby(index_cols).agg({'item_cnt_day':'sum'})\n",
        "gb.columns = ['target']\n",
        "gb.reset_index(inplace = True)\n",
        "\n",
        "# Join aggregated data to the grid and sort the data\n",
        "train = pd.merge(grid, gb, how='left',on=index_cols).fillna(0)\n",
        "train['target'] = train['target'].clip(0,20)\n",
        "train.sort_values(['date_block_num','shop_id','item_id'],inplace=True)\n",
        "\n",
        "del grid, gb"
      ],
      "execution_count": 0,
      "outputs": []
    },
    {
      "cell_type": "code",
      "metadata": {
        "id": "PSirxUgkmwbk",
        "colab_type": "code",
        "colab": {}
      },
      "source": [
        "# Add information from items and shops to train set\n",
        "train = pd.merge(train, items, on = ['item_id']) # Join item_name and item category\n",
        "train = pd.merge(train, shops, on = ['shop_id']) # Join shop_name"
      ],
      "execution_count": 0,
      "outputs": []
    },
    {
      "cell_type": "code",
      "metadata": {
        "id": "0MXOiCOMW0Z6",
        "colab_type": "code",
        "colab": {
          "base_uri": "https://localhost:8080/",
          "height": 68
        },
        "outputId": "6cc891d0-fc78-4a74-bd0d-f00b5db3344f"
      },
      "source": [
        "train.columns"
      ],
      "execution_count": 6,
      "outputs": [
        {
          "output_type": "execute_result",
          "data": {
            "text/plain": [
              "Index(['shop_id', 'item_id', 'date_block_num', 'target', 'item_name',\n",
              "       'item_category_id', 'shop_name'],\n",
              "      dtype='object')"
            ]
          },
          "metadata": {
            "tags": []
          },
          "execution_count": 6
        }
      ]
    },
    {
      "cell_type": "code",
      "metadata": {
        "id": "FrWjfu5mnPL2",
        "colab_type": "code",
        "colab": {
          "base_uri": "https://localhost:8080/",
          "height": 153
        },
        "outputId": "3a64aa1b-3c6b-47ed-ce33-f7e045cd57da"
      },
      "source": [
        "# Mean encoding with regularization smothing alpha 100\n",
        "\n",
        "# Simple grouping\n",
        "train = me_smoothing(train, 'date_block_num', 100)\n",
        "train = me_smoothing(train, 'shop_id', 100)\n",
        "train = me_smoothing(train, 'item_category_id', 100)\n",
        "train = me_smoothing(train, 'item_id', 100)\n",
        "\n",
        "# Pairs of vars\n",
        "train['date_item'] = train['date_block_num'].astype(str) + train['item_id'].astype(str)\n",
        "train['date_shop'] = train['date_block_num'].astype(str) + train['shop_id'].astype(str)\n",
        "train['date_cat'] = train['date_block_num'].astype(str) + train['item_category_id'].astype(str)\n",
        "train['shop_cat'] = train['shop_id'].astype(str) + train['item_category_id'].astype(str)\n",
        "\n",
        "train = me_smoothing(train, 'date_item', 100)\n",
        "train = me_smoothing(train, 'date_shop', 100)\n",
        "train = me_smoothing(train, 'date_cat', 100)\n",
        "train = me_smoothing(train, 'shop_cat', 100)\n",
        "\n",
        "train.drop(['date_item', 'date_shop', 'date_cat', 'shop_cat'], axis = 1, inplace=True)"
      ],
      "execution_count": 7,
      "outputs": [
        {
          "output_type": "stream",
          "text": [
            "Correlation of date_block_num _target_ME: 0.03537973322529838\n",
            "Correlation of shop_id _target_ME: 0.1698073584540353\n",
            "Correlation of item_category_id _target_ME: 0.2795308222248856\n",
            "Correlation of item_id _target_ME: 0.47532181523048084\n",
            "Correlation of date_item _target_ME: 0.680901017776996\n",
            "Correlation of date_shop _target_ME: 0.17735682458100113\n",
            "Correlation of date_cat _target_ME: 0.29571124325540665\n",
            "Correlation of shop_cat _target_ME: 0.3670590836139813\n"
          ],
          "name": "stdout"
        }
      ]
    },
    {
      "cell_type": "code",
      "metadata": {
        "id": "y8lsFtHT84V9",
        "colab_type": "code",
        "colab": {}
      },
      "source": [
        "# Add items and shops to test data\n",
        "test = pd.merge(transactions_test, items, on = ['item_id']) # Join item_name and item category\n",
        "test = pd.merge(test, shops, on = ['shop_id']) # Join shop_name\n",
        "\n",
        "# Set ID as index and join train with test data\n",
        "test.set_index('ID', inplace = True)\n",
        "test['date_block_num'] = 34\n",
        "data = pd.concat([train, test], sort = False)\n",
        "data = downcast(data)\n",
        "\n",
        "del items, shops, item_categories, test, train"
      ],
      "execution_count": 0,
      "outputs": []
    },
    {
      "cell_type": "code",
      "metadata": {
        "id": "AvZu80Ox6wKp",
        "colab_type": "code",
        "colab": {
          "base_uri": "https://localhost:8080/",
          "height": 119
        },
        "outputId": "20d25b88-56e6-4be4-efba-fb7725334661"
      },
      "source": [
        "data.columns"
      ],
      "execution_count": 9,
      "outputs": [
        {
          "output_type": "execute_result",
          "data": {
            "text/plain": [
              "Index(['shop_id', 'item_id', 'date_block_num', 'target', 'item_name',\n",
              "       'item_category_id', 'shop_name', 'date_block_num_target_ME',\n",
              "       'shop_id_target_ME', 'item_category_id_target_ME', 'item_id_target_ME',\n",
              "       'date_item_target_ME', 'date_shop_target_ME', 'date_cat_target_ME',\n",
              "       'shop_cat_target_ME'],\n",
              "      dtype='object')"
            ]
          },
          "metadata": {
            "tags": []
          },
          "execution_count": 9
        }
      ]
    },
    {
      "cell_type": "code",
      "metadata": {
        "id": "koOh6nvY9QeI",
        "colab_type": "code",
        "colab": {
          "base_uri": "https://localhost:8080/",
          "height": 34
        },
        "outputId": "5861470d-970f-4841-c1c7-0ff8558cbd98"
      },
      "source": [
        "# Lagged values\n",
        "ts = time.time()\n",
        "\n",
        "data = lag_feature(data, [1, 2, 3, 4, 5, 12], 'target')\n",
        "data = lag_feature(data, [1, 2, 3, 4, 5, 12], 'date_block_num_target_ME')\n",
        "data = lag_feature(data, [1, 2, 3, 4, 5, 12], 'shop_id_target_ME')\n",
        "data = lag_feature(data, [1, 2, 3, 4, 5, 12], 'item_category_id_target_ME')\n",
        "data = lag_feature(data, [1, 2, 3, 4, 5, 12], 'item_id_target_ME')\n",
        "data = lag_feature(data, [1, 2, 3, 4, 5, 12], 'date_item_target_ME')\n",
        "data = lag_feature(data, [1, 2, 3, 4, 5, 12], 'date_shop_target_ME')\n",
        "data = lag_feature(data, [1, 2, 3, 4, 5, 12], 'date_cat_target_ME')\n",
        "data = lag_feature(data, [1, 2, 3, 4, 5, 12], 'shop_cat_target_ME')\n",
        "\n",
        "data = downcast(data)\n",
        "\n",
        "time.time() - ts"
      ],
      "execution_count": 10,
      "outputs": [
        {
          "output_type": "execute_result",
          "data": {
            "text/plain": [
              "509.4086537361145"
            ]
          },
          "metadata": {
            "tags": []
          },
          "execution_count": 10
        }
      ]
    },
    {
      "cell_type": "code",
      "metadata": {
        "id": "nqegq3ir_og-",
        "colab_type": "code",
        "colab": {}
      },
      "source": [
        "# Drop level 0 lagged features\n",
        "data.drop(['date_block_num_target_ME', 'shop_id_target_ME', 'item_category_id_target_ME', 'item_id_target_ME', 'date_item_target_ME', 'date_shop_target_ME', 'date_cat_target_ME', 'shop_cat_target_ME'], axis = 1, inplace = True) # Drop object columns\n",
        "data = downcast(data)"
      ],
      "execution_count": 0,
      "outputs": []
    },
    {
      "cell_type": "code",
      "metadata": {
        "id": "7PPCCLD79k6z",
        "colab_type": "code",
        "colab": {}
      },
      "source": [
        "data.fillna(0, inplace=True)\n",
        "data.drop(['item_name', 'shop_name'], axis = 1, inplace = True) # Drop object columns\n",
        "\n",
        "X_train = data[(data.date_block_num > 11) & (data.date_block_num < 33)].drop(['target'], axis=1)\n",
        "Y_train = data[(data.date_block_num > 11) & (data.date_block_num < 33)]['target']\n",
        "X_valid = data[data.date_block_num == 33].drop(['target'], axis=1)\n",
        "Y_valid = data[data.date_block_num == 33]['target']\n",
        "X_test = data[data.date_block_num == 34].drop(['target'], axis=1)\n",
        "\n",
        "# del data"
      ],
      "execution_count": 0,
      "outputs": []
    },
    {
      "cell_type": "code",
      "metadata": {
        "id": "2n0rV2l7-TUu",
        "colab_type": "code",
        "colab": {
          "base_uri": "https://localhost:8080/",
          "height": 1000
        },
        "outputId": "b2394130-d74b-45fd-f591-19e05beac171"
      },
      "source": [
        "ts = time.time()\n",
        "\n",
        "model = XGBRegressor(\n",
        "    tree_method = \"gpu_hist\",\n",
        "    max_depth = 6, # Tree related parameter: determines how deeply each tree is allowed to grow during any boosting round\n",
        "    min_child_weight = 600, # \n",
        "    colsample_bytree=0.8, # percentage of features used per tree. High value can lead to overfitting\n",
        "    n_estimators = 500, # number of trees you want to build.\n",
        "    subsample=0.8, # Boosting parameter: percentage of samples used per tree. Low value can lead to underfitting\n",
        "    eta=0.3, #  Boosting parameter\n",
        "    seed=123)\n",
        "\n",
        "model.fit(\n",
        "    X_train, \n",
        "    Y_train, \n",
        "    eval_metric=\"rmse\", \n",
        "    eval_set=[(X_train, Y_train), (X_valid, Y_valid)], \n",
        "    verbose=True, \n",
        "    early_stopping_rounds = 10)\n",
        "\n",
        "time.time() - ts\n"
      ],
      "execution_count": 13,
      "outputs": [
        {
          "output_type": "stream",
          "text": [
            "[16:07:46] WARNING: /workspace/src/objective/regression_obj.cu:152: reg:linear is now deprecated in favor of reg:squarederror.\n",
            "[0]\tvalidation_0-rmse:1.16229\tvalidation_1-rmse:1.12804\n",
            "Multiple eval metrics have been passed: 'validation_1-rmse' will be used for early stopping.\n",
            "\n",
            "Will train until validation_1-rmse hasn't improved in 10 rounds.\n",
            "[1]\tvalidation_0-rmse:1.11846\tvalidation_1-rmse:1.09426\n",
            "[2]\tvalidation_0-rmse:1.08189\tvalidation_1-rmse:1.0673\n",
            "[3]\tvalidation_0-rmse:1.05061\tvalidation_1-rmse:1.04514\n",
            "[4]\tvalidation_0-rmse:1.02576\tvalidation_1-rmse:1.02809\n",
            "[5]\tvalidation_0-rmse:1.00307\tvalidation_1-rmse:1.01274\n",
            "[6]\tvalidation_0-rmse:0.984121\tvalidation_1-rmse:1.00031\n",
            "[7]\tvalidation_0-rmse:0.967851\tvalidation_1-rmse:0.990341\n",
            "[8]\tvalidation_0-rmse:0.954448\tvalidation_1-rmse:0.981645\n",
            "[9]\tvalidation_0-rmse:0.942623\tvalidation_1-rmse:0.974927\n",
            "[10]\tvalidation_0-rmse:0.932494\tvalidation_1-rmse:0.969364\n",
            "[11]\tvalidation_0-rmse:0.922191\tvalidation_1-rmse:0.961\n",
            "[12]\tvalidation_0-rmse:0.914903\tvalidation_1-rmse:0.958013\n",
            "[13]\tvalidation_0-rmse:0.908488\tvalidation_1-rmse:0.955191\n",
            "[14]\tvalidation_0-rmse:0.903194\tvalidation_1-rmse:0.952803\n",
            "[15]\tvalidation_0-rmse:0.898433\tvalidation_1-rmse:0.950512\n",
            "[16]\tvalidation_0-rmse:0.894212\tvalidation_1-rmse:0.948349\n",
            "[17]\tvalidation_0-rmse:0.890815\tvalidation_1-rmse:0.946765\n",
            "[18]\tvalidation_0-rmse:0.887421\tvalidation_1-rmse:0.945539\n",
            "[19]\tvalidation_0-rmse:0.884368\tvalidation_1-rmse:0.944827\n",
            "[20]\tvalidation_0-rmse:0.881131\tvalidation_1-rmse:0.942809\n",
            "[21]\tvalidation_0-rmse:0.878856\tvalidation_1-rmse:0.942291\n",
            "[22]\tvalidation_0-rmse:0.876742\tvalidation_1-rmse:0.941334\n",
            "[23]\tvalidation_0-rmse:0.875044\tvalidation_1-rmse:0.940782\n",
            "[24]\tvalidation_0-rmse:0.873552\tvalidation_1-rmse:0.94031\n",
            "[25]\tvalidation_0-rmse:0.87234\tvalidation_1-rmse:0.939911\n",
            "[26]\tvalidation_0-rmse:0.870748\tvalidation_1-rmse:0.939483\n",
            "[27]\tvalidation_0-rmse:0.868674\tvalidation_1-rmse:0.937535\n",
            "[28]\tvalidation_0-rmse:0.867737\tvalidation_1-rmse:0.93741\n",
            "[29]\tvalidation_0-rmse:0.866685\tvalidation_1-rmse:0.936635\n",
            "[30]\tvalidation_0-rmse:0.865044\tvalidation_1-rmse:0.936433\n",
            "[31]\tvalidation_0-rmse:0.862985\tvalidation_1-rmse:0.934416\n",
            "[32]\tvalidation_0-rmse:0.861333\tvalidation_1-rmse:0.933374\n",
            "[33]\tvalidation_0-rmse:0.86047\tvalidation_1-rmse:0.933317\n",
            "[34]\tvalidation_0-rmse:0.859718\tvalidation_1-rmse:0.933195\n",
            "[35]\tvalidation_0-rmse:0.858939\tvalidation_1-rmse:0.933472\n",
            "[36]\tvalidation_0-rmse:0.85806\tvalidation_1-rmse:0.932763\n",
            "[37]\tvalidation_0-rmse:0.857421\tvalidation_1-rmse:0.932863\n",
            "[38]\tvalidation_0-rmse:0.855963\tvalidation_1-rmse:0.931823\n",
            "[39]\tvalidation_0-rmse:0.855283\tvalidation_1-rmse:0.931508\n",
            "[40]\tvalidation_0-rmse:0.85424\tvalidation_1-rmse:0.930754\n",
            "[41]\tvalidation_0-rmse:0.853868\tvalidation_1-rmse:0.930444\n",
            "[42]\tvalidation_0-rmse:0.853238\tvalidation_1-rmse:0.930029\n",
            "[43]\tvalidation_0-rmse:0.852759\tvalidation_1-rmse:0.929687\n",
            "[44]\tvalidation_0-rmse:0.852234\tvalidation_1-rmse:0.929462\n",
            "[45]\tvalidation_0-rmse:0.851662\tvalidation_1-rmse:0.928957\n",
            "[46]\tvalidation_0-rmse:0.850608\tvalidation_1-rmse:0.928617\n",
            "[47]\tvalidation_0-rmse:0.850222\tvalidation_1-rmse:0.928407\n",
            "[48]\tvalidation_0-rmse:0.848258\tvalidation_1-rmse:0.92726\n",
            "[49]\tvalidation_0-rmse:0.847436\tvalidation_1-rmse:0.926843\n",
            "[50]\tvalidation_0-rmse:0.847001\tvalidation_1-rmse:0.926605\n",
            "[51]\tvalidation_0-rmse:0.846374\tvalidation_1-rmse:0.926576\n",
            "[52]\tvalidation_0-rmse:0.845902\tvalidation_1-rmse:0.926493\n",
            "[53]\tvalidation_0-rmse:0.845093\tvalidation_1-rmse:0.926193\n",
            "[54]\tvalidation_0-rmse:0.84464\tvalidation_1-rmse:0.92587\n",
            "[55]\tvalidation_0-rmse:0.8444\tvalidation_1-rmse:0.925824\n",
            "[56]\tvalidation_0-rmse:0.843233\tvalidation_1-rmse:0.924931\n",
            "[57]\tvalidation_0-rmse:0.842784\tvalidation_1-rmse:0.925101\n",
            "[58]\tvalidation_0-rmse:0.842363\tvalidation_1-rmse:0.925031\n",
            "[59]\tvalidation_0-rmse:0.841361\tvalidation_1-rmse:0.92468\n",
            "[60]\tvalidation_0-rmse:0.840927\tvalidation_1-rmse:0.924622\n",
            "[61]\tvalidation_0-rmse:0.840326\tvalidation_1-rmse:0.924498\n",
            "[62]\tvalidation_0-rmse:0.840096\tvalidation_1-rmse:0.924472\n",
            "[63]\tvalidation_0-rmse:0.838718\tvalidation_1-rmse:0.924195\n",
            "[64]\tvalidation_0-rmse:0.838392\tvalidation_1-rmse:0.923982\n",
            "[65]\tvalidation_0-rmse:0.838026\tvalidation_1-rmse:0.923911\n",
            "[66]\tvalidation_0-rmse:0.837756\tvalidation_1-rmse:0.923803\n",
            "[67]\tvalidation_0-rmse:0.837532\tvalidation_1-rmse:0.923836\n",
            "[68]\tvalidation_0-rmse:0.837204\tvalidation_1-rmse:0.923462\n",
            "[69]\tvalidation_0-rmse:0.836378\tvalidation_1-rmse:0.923267\n",
            "[70]\tvalidation_0-rmse:0.836101\tvalidation_1-rmse:0.923455\n",
            "[71]\tvalidation_0-rmse:0.835892\tvalidation_1-rmse:0.923265\n",
            "[72]\tvalidation_0-rmse:0.835591\tvalidation_1-rmse:0.922926\n",
            "[73]\tvalidation_0-rmse:0.835272\tvalidation_1-rmse:0.922404\n",
            "[74]\tvalidation_0-rmse:0.834956\tvalidation_1-rmse:0.922316\n",
            "[75]\tvalidation_0-rmse:0.834711\tvalidation_1-rmse:0.922169\n",
            "[76]\tvalidation_0-rmse:0.834478\tvalidation_1-rmse:0.922268\n",
            "[77]\tvalidation_0-rmse:0.834307\tvalidation_1-rmse:0.922009\n",
            "[78]\tvalidation_0-rmse:0.833808\tvalidation_1-rmse:0.921734\n",
            "[79]\tvalidation_0-rmse:0.83367\tvalidation_1-rmse:0.921725\n",
            "[80]\tvalidation_0-rmse:0.833276\tvalidation_1-rmse:0.921165\n",
            "[81]\tvalidation_0-rmse:0.833143\tvalidation_1-rmse:0.920985\n",
            "[82]\tvalidation_0-rmse:0.832777\tvalidation_1-rmse:0.92082\n",
            "[83]\tvalidation_0-rmse:0.832532\tvalidation_1-rmse:0.920701\n",
            "[84]\tvalidation_0-rmse:0.832282\tvalidation_1-rmse:0.920724\n",
            "[85]\tvalidation_0-rmse:0.832059\tvalidation_1-rmse:0.920692\n",
            "[86]\tvalidation_0-rmse:0.831919\tvalidation_1-rmse:0.920518\n",
            "[87]\tvalidation_0-rmse:0.831695\tvalidation_1-rmse:0.920582\n",
            "[88]\tvalidation_0-rmse:0.831489\tvalidation_1-rmse:0.920533\n",
            "[89]\tvalidation_0-rmse:0.831316\tvalidation_1-rmse:0.920187\n",
            "[90]\tvalidation_0-rmse:0.830973\tvalidation_1-rmse:0.920052\n",
            "[91]\tvalidation_0-rmse:0.830626\tvalidation_1-rmse:0.920025\n",
            "[92]\tvalidation_0-rmse:0.829992\tvalidation_1-rmse:0.919345\n",
            "[93]\tvalidation_0-rmse:0.82978\tvalidation_1-rmse:0.919327\n",
            "[94]\tvalidation_0-rmse:0.82957\tvalidation_1-rmse:0.919268\n",
            "[95]\tvalidation_0-rmse:0.829267\tvalidation_1-rmse:0.919078\n",
            "[96]\tvalidation_0-rmse:0.829058\tvalidation_1-rmse:0.91864\n",
            "[97]\tvalidation_0-rmse:0.828728\tvalidation_1-rmse:0.918332\n",
            "[98]\tvalidation_0-rmse:0.828589\tvalidation_1-rmse:0.918438\n",
            "[99]\tvalidation_0-rmse:0.828326\tvalidation_1-rmse:0.918005\n",
            "[100]\tvalidation_0-rmse:0.828158\tvalidation_1-rmse:0.917804\n",
            "[101]\tvalidation_0-rmse:0.828056\tvalidation_1-rmse:0.917781\n",
            "[102]\tvalidation_0-rmse:0.827775\tvalidation_1-rmse:0.917781\n",
            "[103]\tvalidation_0-rmse:0.82757\tvalidation_1-rmse:0.917725\n",
            "[104]\tvalidation_0-rmse:0.827326\tvalidation_1-rmse:0.917918\n",
            "[105]\tvalidation_0-rmse:0.827006\tvalidation_1-rmse:0.917629\n",
            "[106]\tvalidation_0-rmse:0.826789\tvalidation_1-rmse:0.917584\n",
            "[107]\tvalidation_0-rmse:0.826676\tvalidation_1-rmse:0.917506\n",
            "[108]\tvalidation_0-rmse:0.826532\tvalidation_1-rmse:0.917448\n",
            "[109]\tvalidation_0-rmse:0.826427\tvalidation_1-rmse:0.917516\n",
            "[110]\tvalidation_0-rmse:0.826263\tvalidation_1-rmse:0.917348\n",
            "[111]\tvalidation_0-rmse:0.826064\tvalidation_1-rmse:0.917301\n",
            "[112]\tvalidation_0-rmse:0.825888\tvalidation_1-rmse:0.917307\n",
            "[113]\tvalidation_0-rmse:0.825755\tvalidation_1-rmse:0.917373\n",
            "[114]\tvalidation_0-rmse:0.82548\tvalidation_1-rmse:0.91726\n",
            "[115]\tvalidation_0-rmse:0.82535\tvalidation_1-rmse:0.917357\n",
            "[116]\tvalidation_0-rmse:0.825185\tvalidation_1-rmse:0.917327\n",
            "[117]\tvalidation_0-rmse:0.825078\tvalidation_1-rmse:0.917282\n",
            "[118]\tvalidation_0-rmse:0.824959\tvalidation_1-rmse:0.917155\n",
            "[119]\tvalidation_0-rmse:0.824807\tvalidation_1-rmse:0.916851\n",
            "[120]\tvalidation_0-rmse:0.824288\tvalidation_1-rmse:0.916806\n",
            "[121]\tvalidation_0-rmse:0.82369\tvalidation_1-rmse:0.916717\n",
            "[122]\tvalidation_0-rmse:0.823317\tvalidation_1-rmse:0.916647\n",
            "[123]\tvalidation_0-rmse:0.822933\tvalidation_1-rmse:0.916319\n",
            "[124]\tvalidation_0-rmse:0.822683\tvalidation_1-rmse:0.916123\n",
            "[125]\tvalidation_0-rmse:0.822518\tvalidation_1-rmse:0.915857\n",
            "[126]\tvalidation_0-rmse:0.822393\tvalidation_1-rmse:0.915876\n",
            "[127]\tvalidation_0-rmse:0.82219\tvalidation_1-rmse:0.915919\n",
            "[128]\tvalidation_0-rmse:0.821967\tvalidation_1-rmse:0.915918\n",
            "[129]\tvalidation_0-rmse:0.82183\tvalidation_1-rmse:0.916053\n",
            "[130]\tvalidation_0-rmse:0.821726\tvalidation_1-rmse:0.915715\n",
            "[131]\tvalidation_0-rmse:0.821606\tvalidation_1-rmse:0.915542\n",
            "[132]\tvalidation_0-rmse:0.821458\tvalidation_1-rmse:0.915526\n",
            "[133]\tvalidation_0-rmse:0.82129\tvalidation_1-rmse:0.915488\n",
            "[134]\tvalidation_0-rmse:0.821147\tvalidation_1-rmse:0.915259\n",
            "[135]\tvalidation_0-rmse:0.821006\tvalidation_1-rmse:0.915249\n",
            "[136]\tvalidation_0-rmse:0.820679\tvalidation_1-rmse:0.915011\n",
            "[137]\tvalidation_0-rmse:0.820318\tvalidation_1-rmse:0.91463\n",
            "[138]\tvalidation_0-rmse:0.820027\tvalidation_1-rmse:0.914666\n",
            "[139]\tvalidation_0-rmse:0.819855\tvalidation_1-rmse:0.91475\n",
            "[140]\tvalidation_0-rmse:0.819721\tvalidation_1-rmse:0.914653\n",
            "[141]\tvalidation_0-rmse:0.819516\tvalidation_1-rmse:0.914758\n",
            "[142]\tvalidation_0-rmse:0.819241\tvalidation_1-rmse:0.914736\n",
            "[143]\tvalidation_0-rmse:0.819147\tvalidation_1-rmse:0.914682\n",
            "[144]\tvalidation_0-rmse:0.819018\tvalidation_1-rmse:0.914759\n",
            "[145]\tvalidation_0-rmse:0.818731\tvalidation_1-rmse:0.914671\n",
            "[146]\tvalidation_0-rmse:0.81863\tvalidation_1-rmse:0.914631\n",
            "[147]\tvalidation_0-rmse:0.818287\tvalidation_1-rmse:0.914781\n",
            "Stopping. Best iteration:\n",
            "[137]\tvalidation_0-rmse:0.820318\tvalidation_1-rmse:0.91463\n",
            "\n"
          ],
          "name": "stdout"
        },
        {
          "output_type": "execute_result",
          "data": {
            "text/plain": [
              "725.5728917121887"
            ]
          },
          "metadata": {
            "tags": []
          },
          "execution_count": 13
        }
      ]
    },
    {
      "cell_type": "code",
      "metadata": {
        "id": "rkUnAPYa-qfc",
        "colab_type": "code",
        "colab": {
          "base_uri": "https://localhost:8080/",
          "height": 282
        },
        "outputId": "064adc91-e017-41af-eac1-78891a5720b9"
      },
      "source": [
        "feat_importances = pd.Series(model.feature_importances_, index=X_train.columns)\n",
        "feat_importances.nlargest(15).plot(kind='barh')"
      ],
      "execution_count": 14,
      "outputs": [
        {
          "output_type": "execute_result",
          "data": {
            "text/plain": [
              "<matplotlib.axes._subplots.AxesSubplot at 0x7f426ce531d0>"
            ]
          },
          "metadata": {
            "tags": []
          },
          "execution_count": 14
        },
        {
          "output_type": "display_data",
          "data": {
            "image/png": "[encoded data removed]",
            "text/plain": [
              "<Figure size 432x288 with 1 Axes>"
            ]
          },
          "metadata": {
            "tags": [],
            "needs_background": "light"
          }
        }
      ]
    },
    {
      "cell_type": "code",
      "metadata": {
        "id": "8gj3WoGm-sd7",
        "colab_type": "code",
        "colab": {}
      },
      "source": [
        "Y_test = model.predict(X_test).clip(0, 20)\n",
        "testdata = X_test\n",
        "testdata['Y_test'] = Y_test\n",
        "\n",
        "# Add target variable to transactions_test and leave only ID and target\n",
        "transactions_test.reset_index(inplace = True)\n",
        "submition = pd.merge(transactions_test, testdata[['shop_id', 'item_id', 'Y_test']], on = ['shop_id', 'item_id'])\n",
        "submition = submition[['ID', 'Y_test']]\n",
        "submition.columns = ['ID', 'item_cnt_month']"
      ],
      "execution_count": 0,
      "outputs": []
    },
    {
      "cell_type": "code",
      "metadata": {
        "id": "OaaBIjeh-s48",
        "colab_type": "code",
        "colab": {}
      },
      "source": [
        "# Export results\n",
        "submition.to_csv('V8_Smooth100_Train11.csv', index=False)\n",
        "files.download('V8_Smooth100_Train11.csv')"
      ],
      "execution_count": 0,
      "outputs": []
    },
    {
      "cell_type": "markdown",
      "metadata": {
        "id": "k2WPL_ByIZmg",
        "colab_type": "text"
      },
      "source": [
        ""
      ]
    }
  ]
}