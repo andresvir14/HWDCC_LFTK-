{
  "nbformat": 4,
  "nbformat_minor": 0,
  "metadata": {
    "colab": {
      "name": "HWDCC-LFTK Final Proyect.ipynb",
      "provenance": [],
      "collapsed_sections": [],
      "machine_shape": "hm",
      "mount_file_id": "18yVGbVoPNkJFI_ZrnlYuu-UU-7Ra8lRh",
      "authorship_tag": "ABX9TyNEDZZy64F9MNuhltEc/3lN",
      "include_colab_link": true
    },
    "kernelspec": {
      "name": "python3",
      "display_name": "Python 3"
    },
    "accelerator": "GPU"
  },
  "cells": [
    {
      "cell_type": "markdown",
      "metadata": {
        "id": "view-in-github",
        "colab_type": "text"
      },
      "source": [
        "<a href=\"https://colab.research.google.com/github/andresvir14/HWDCC_LFTK-/blob/master/HWDCC_LFTK_Final_Proyect.ipynb\" target=\"_parent\"><img src=\"https://colab.research.google.com/assets/colab-badge.svg\" alt=\"Open In Colab\"/></a>"
      ]
    },
    {
      "cell_type": "code",
      "metadata": {
        "id": "Xr-u9bHh6qbA",
        "colab_type": "code",
        "colab": {
          "base_uri": "https://localhost:8080/",
          "height": 71
        },
        "outputId": "253bb7e0-d5fa-4a9b-df89-fc7a2462526c"
      },
      "source": [
        "# Import libraries\n",
        "# Basic libraries\n",
        "import pandas as pd\n",
        "import numpy as np\n",
        "\n",
        "# Preprocesing and feature extraction\n",
        "from sklearn.model_selection import KFold\n",
        "from itertools import product\n",
        "from sklearn import preprocessing\n",
        "from sklearn.feature_extraction.text import TfidfVectorizer\n",
        "\n",
        "# Modeling\n",
        "from sklearn.linear_model import LinearRegression\n",
        "from xgboost import XGBRegressor\n",
        "from xgboost import plot_importance\n",
        "\n",
        "# Ploting\n",
        "import matplotlib.pyplot as plt\n",
        "from matplotlib.pyplot import figure\n",
        "import seaborn as sns\n",
        "\n",
        "# To deal with downloaded files\n",
        "from google.colab import files\n",
        "\n",
        "# Others\n",
        "import time"
      ],
      "execution_count": 1,
      "outputs": [
        {
          "output_type": "stream",
          "text": [
            "/usr/local/lib/python3.6/dist-packages/statsmodels/tools/_testing.py:19: FutureWarning: pandas.util.testing is deprecated. Use the functions in the public API at pandas.testing instead.\n",
            "  import pandas.util.testing as tm\n"
          ],
          "name": "stderr"
        }
      ]
    },
    {
      "cell_type": "code",
      "metadata": {
        "id": "RWhrGXi38Jom",
        "colab_type": "code",
        "colab": {}
      },
      "source": [
        "# Functions used\n",
        "\n",
        "# Downcast variables \n",
        "def downcast(df):\n",
        "  '''\n",
        "    Change columns types from 64 to 32 bits\n",
        "  '''\n",
        "  float64columns = df.select_dtypes(['float64']).columns.tolist()\n",
        "  int64columns = df.select_dtypes(['int64']).columns.tolist()\n",
        "  df[float64columns] = df[float64columns].astype('float32')\n",
        "  df[int64columns] = df[int64columns].astype('int32')\n",
        "  return df\n",
        "\n",
        "# Averages of target variables\n",
        "def averagevalues(df, group, target):\n",
        "  '''\n",
        "  Takes a group of variables (from one two three) and a target variables to return the average \n",
        "  '''\n",
        "  grouped = df.groupby(group).agg({target: ['mean']})\n",
        "  \n",
        "  if (len(group) == 1):\n",
        "    grouped.columns = [group[0]+'_avg_'+target]\n",
        "  elif (len(group) == 2):\n",
        "    grouped.columns = [group[0]+'_'+group[1]+'_avg_'+target]\n",
        "  else:\n",
        "    grouped.columns = [group[0]+'_'+group[1]+'-'+group[2]+'_avg_'+target]\n",
        "\n",
        "  grouped.reset_index(inplace=True)\n",
        "  df = pd.merge(df, grouped, on=group, how='left')\n",
        "  return df\n",
        "\n",
        "# Function for mean encodings using LOO scheme\n",
        "def meaneconloo(df, groupvar):\n",
        "    \"\"\"\n",
        "    df: Pandas data frame that contains categorical and target features\n",
        "    catfeature: feature we want to create the mean encoding regularized through LOO scheme\n",
        "    \"\"\"\n",
        "    target_sum = df.groupby(groupvar)['target'].transform('sum')\n",
        "    n_objects  = df.groupby(groupvar)['target'].transform('count')\n",
        "    df[groupvar+'_target_ME'] = (target_sum - df['target']) / (n_objects - 1)\n",
        "    df[groupvar+'_target_ME'].fillna(df[groupvar+'_target_ME'].mean(), inplace=True)\n",
        "    print('Correlation of', groupvar, '_target_ME:', np.corrcoef(df['target'].values, df[groupvar+'_target_ME'].values)[0][1])\n",
        "    return df\n",
        "\n",
        "# Function for mean encoding with smothing method\n",
        "def me_smoothing(df, groupvar, alpha):\n",
        "  n_objects = df.groupby(groupvar)['target'].transform('count')\n",
        "  meantarget = df.groupby(groupvar)['target'].transform('mean')\n",
        "  df[groupvar+'_target_ME'] = (meantarget * n_objects + 0.3343 * alpha) / (n_objects + alpha)\n",
        "  print('Correlation of', groupvar, '_target_ME:', np.corrcoef(df['target'].values, df[groupvar+'_target_ME'].values)[0][1])\n",
        "  return df\n",
        "\n",
        "# Function for kfold mean target encoding\n",
        "def me_kfold(df, folds, groupvar):\n",
        "  df[groupvar+'_target_ME'] = 0\n",
        "  kf = KFold(folds, shuffle = False, random_state = 123)\n",
        "\n",
        "  for tr_ind_ME, val_ind_ME in kf.split(train):\n",
        "    X_tr_ME, X_val_ME = df.loc[tr_ind_ME], df.loc[val_ind_ME]\n",
        "    X_val_ME[groupvar+'_target_ME'] = X_val_ME[groupvar].map(X_tr_ME.groupby(groupvar).target.mean())\n",
        "    df.loc[val_ind_ME] = X_val_ME\n",
        "  df[groupvar+'_target_ME'].fillna(0.3343, inplace=True)\n",
        "  print('Correlation of', groupvar, '_target_ME:', np.corrcoef(df['target'].values, df[groupvar+'_target_ME'].values)[0][1])\n",
        "  return df\n",
        "\n",
        "# Function that creates the lags of given columns\n",
        "def lag_feature(df, lags, col):\n",
        "    tmp = df[['date_block_num','shop_id','item_id', col]]\n",
        "    for i in lags:\n",
        "        shifted = tmp.copy()\n",
        "        shifted.columns = ['date_block_num','shop_id','item_id', col+'_lag_'+ str(i)]\n",
        "        shifted['date_block_num'] += i\n",
        "        shifted[col+'_lag_'+ str(i)] = shifted[col+'_lag_'+ str(i)].astype('float16')\n",
        "        df = pd.merge(df, shifted, on=['date_block_num','shop_id','item_id'], how='left')\n",
        "    return df    "
      ],
      "execution_count": 0,
      "outputs": []
    },
    {
      "cell_type": "code",
      "metadata": {
        "id": "dVmnEFrM66HL",
        "colab_type": "code",
        "colab": {}
      },
      "source": [
        "# Load de the data\n",
        "transactions    = pd.read_csv('/content/drive/My Drive/DataScience/data/competitive-data-science-predict-future-sales/sales_train.csv')\n",
        "items           = pd.read_csv('/content/drive/My Drive/DataScience/data/competitive-data-science-predict-future-sales/items.csv')\n",
        "item_categories = pd.read_csv('/content/drive/My Drive/DataScience/data/competitive-data-science-predict-future-sales/item_categories.csv')\n",
        "shops           = pd.read_csv('/content/drive/My Drive/DataScience/data/competitive-data-science-predict-future-sales/shops.csv')\n",
        "transactions_test    = pd.read_csv('/content/drive/My Drive/DataScience/data/competitive-data-science-predict-future-sales/test.csv')\n"
      ],
      "execution_count": 0,
      "outputs": []
    },
    {
      "cell_type": "code",
      "metadata": {
        "id": "GEKnqvug6-gR",
        "colab_type": "code",
        "colab": {}
      },
      "source": [
        "index_cols = ['shop_id', 'item_id', 'date_block_num']\n",
        "\n",
        "# For every month we create a grid from all shops/items combinations from that month\n",
        "grid = [] \n",
        "for block_num in transactions['date_block_num'].unique():\n",
        "    cur_shops = transactions[transactions['date_block_num']==block_num]['shop_id'].unique()\n",
        "    cur_items = transactions[transactions['date_block_num']==block_num]['item_id'].unique()\n",
        "    grid.append(np.array(list(product(*[cur_shops, cur_items, [block_num]])), dtype = 'int16'))\n",
        "\n",
        "# Turn the grid into pandas dataframe\n",
        "grid = pd.DataFrame(np.vstack(grid), columns = index_cols, dtype = np.int32)\n",
        "\n",
        "# Get aggregated values of sales by shop_id, item_id\n",
        "gb = transactions.groupby(index_cols).agg({'item_cnt_day':'sum'})\n",
        "gb.columns = ['target']\n",
        "gb.reset_index(inplace = True)\n",
        "\n",
        "# Join aggregated data to the grid and sort the data\n",
        "train = pd.merge(grid, gb, how='left',on=index_cols).fillna(0)\n",
        "train['target'] = train['target'].clip(0,20)\n",
        "train.sort_values(['date_block_num','shop_id','item_id'],inplace=True)\n",
        "\n",
        "del grid, gb"
      ],
      "execution_count": 0,
      "outputs": []
    },
    {
      "cell_type": "code",
      "metadata": {
        "id": "PSirxUgkmwbk",
        "colab_type": "code",
        "colab": {}
      },
      "source": [
        "# Add information from items and shops to train set\n",
        "train = pd.merge(train, items, on = ['item_id']) # Join item_name and item category\n",
        "train = pd.merge(train, shops, on = ['shop_id']) # Join shop_name"
      ],
      "execution_count": 0,
      "outputs": []
    },
    {
      "cell_type": "code",
      "metadata": {
        "id": "0MXOiCOMW0Z6",
        "colab_type": "code",
        "colab": {
          "base_uri": "https://localhost:8080/",
          "height": 68
        },
        "outputId": "e9c4fb5c-a68c-4811-86ec-4aa637f8a5af"
      },
      "source": [
        "train.columns"
      ],
      "execution_count": 6,
      "outputs": [
        {
          "output_type": "execute_result",
          "data": {
            "text/plain": [
              "Index(['shop_id', 'item_id', 'date_block_num', 'target', 'item_name',\n",
              "       'item_category_id', 'shop_name'],\n",
              "      dtype='object')"
            ]
          },
          "metadata": {
            "tags": []
          },
          "execution_count": 6
        }
      ]
    },
    {
      "cell_type": "code",
      "metadata": {
        "id": "FrWjfu5mnPL2",
        "colab_type": "code",
        "colab": {
          "base_uri": "https://localhost:8080/",
          "height": 153
        },
        "outputId": "fa06e5f1-3098-4e57-baa6-0c6c8b57e708"
      },
      "source": [
        "# Mean encoding with smothing regularization  \n",
        "\n",
        "# Simple grouping\n",
        "train = me_smoothing(train, 'date_block_num', 500)\n",
        "train = me_smoothing(train, 'shop_id', 500)\n",
        "train = me_smoothing(train, 'item_category_id', 500)\n",
        "train = me_smoothing(train, 'item_id', 500)\n",
        "\n",
        "# Pairs of vars\n",
        "train['date_item'] = train['date_block_num'].astype(str) + train['item_id'].astype(str)\n",
        "train['date_shop'] = train['date_block_num'].astype(str) + train['shop_id'].astype(str)\n",
        "train['date_cat'] = train['date_block_num'].astype(str) + train['item_category_id'].astype(str)\n",
        "train['shop_cat'] = train['shop_id'].astype(str) + train['item_category_id'].astype(str)\n",
        "\n",
        "train = me_smoothing(train, 'date_item', 500)\n",
        "train = me_smoothing(train, 'date_shop', 500)\n",
        "train = me_smoothing(train, 'date_cat', 500)\n",
        "train = me_smoothing(train, 'shop_cat', 500)\n",
        "\n",
        "train.drop(['date_item', 'date_shop', 'date_cat', 'shop_cat'], axis = 1, inplace=True)"
      ],
      "execution_count": 7,
      "outputs": [
        {
          "output_type": "stream",
          "text": [
            "Correlation of date_block_num _target_ME: 0.03537973038267463\n",
            "Correlation of shop_id _target_ME: 0.16980612045281662\n",
            "Correlation of item_category_id _target_ME: 0.278241979197385\n",
            "Correlation of item_id _target_ME: 0.46384781452997126\n",
            "Correlation of date_item _target_ME: 0.6766981011239344\n",
            "Correlation of date_shop _target_ME: 0.17734274434289446\n",
            "Correlation of date_cat _target_ME: 0.25865069076118147\n",
            "Correlation of shop_cat _target_ME: 0.3382122532545648\n"
          ],
          "name": "stdout"
        }
      ]
    },
    {
      "cell_type": "code",
      "metadata": {
        "id": "y8lsFtHT84V9",
        "colab_type": "code",
        "colab": {}
      },
      "source": [
        "# Add items and shops to test data\n",
        "test = pd.merge(transactions_test, items, on = ['item_id']) # Join item_name and item category\n",
        "test = pd.merge(test, shops, on = ['shop_id']) # Join shop_name\n",
        "\n",
        "# Set ID as index and join train with test data\n",
        "test.set_index('ID', inplace = True)\n",
        "test['date_block_num'] = 34\n",
        "data = pd.concat([train, test], sort = False)\n",
        "data = downcast(data)\n",
        "\n",
        "del items, shops, item_categories, test, train"
      ],
      "execution_count": 0,
      "outputs": []
    },
    {
      "cell_type": "code",
      "metadata": {
        "id": "AvZu80Ox6wKp",
        "colab_type": "code",
        "colab": {
          "base_uri": "https://localhost:8080/",
          "height": 119
        },
        "outputId": "990a932e-4549-4acd-a1be-aac76ad81758"
      },
      "source": [
        "data.columns"
      ],
      "execution_count": 9,
      "outputs": [
        {
          "output_type": "execute_result",
          "data": {
            "text/plain": [
              "Index(['shop_id', 'item_id', 'date_block_num', 'target', 'item_name',\n",
              "       'item_category_id', 'shop_name', 'date_block_num_target_ME',\n",
              "       'shop_id_target_ME', 'item_category_id_target_ME', 'item_id_target_ME',\n",
              "       'date_item_target_ME', 'date_shop_target_ME', 'date_cat_target_ME',\n",
              "       'shop_cat_target_ME'],\n",
              "      dtype='object')"
            ]
          },
          "metadata": {
            "tags": []
          },
          "execution_count": 9
        }
      ]
    },
    {
      "cell_type": "code",
      "metadata": {
        "id": "koOh6nvY9QeI",
        "colab_type": "code",
        "colab": {
          "base_uri": "https://localhost:8080/",
          "height": 34
        },
        "outputId": "d142f20d-74bc-4aa0-9870-2fb65c499745"
      },
      "source": [
        "# Lagged values\n",
        "ts = time.time()\n",
        "\n",
        "data = lag_feature(data, [1, 2, 3, 4, 5, 12], 'target')\n",
        "data = lag_feature(data, [1, 2, 3, 4, 5, 12], 'date_block_num_target_ME')\n",
        "data = lag_feature(data, [1, 2, 3, 4, 5, 12], 'shop_id_target_ME')\n",
        "data = lag_feature(data, [1, 2, 3, 4, 5, 12], 'item_category_id_target_ME')\n",
        "data = lag_feature(data, [1, 2, 3, 4, 5, 12], 'item_id_target_ME')\n",
        "data = lag_feature(data, [1, 2, 3, 4, 5, 12], 'date_item_target_ME')\n",
        "data = lag_feature(data, [1, 2, 3, 4, 5, 12], 'date_shop_target_ME')\n",
        "data = lag_feature(data, [1, 2, 3, 4, 5, 12], 'date_cat_target_ME')\n",
        "data = lag_feature(data, [1, 2, 3, 4, 5, 12], 'shop_cat_target_ME')\n",
        "\n",
        "data = downcast(data)\n",
        "\n",
        "time.time() - ts"
      ],
      "execution_count": 10,
      "outputs": [
        {
          "output_type": "execute_result",
          "data": {
            "text/plain": [
              "506.7403335571289"
            ]
          },
          "metadata": {
            "tags": []
          },
          "execution_count": 10
        }
      ]
    },
    {
      "cell_type": "code",
      "metadata": {
        "id": "nqegq3ir_og-",
        "colab_type": "code",
        "colab": {}
      },
      "source": [
        "# Drop level 0 lagged features\n",
        "data.drop(['date_block_num_target_ME', 'shop_id_target_ME', 'item_category_id_target_ME', 'item_id_target_ME', 'date_item_target_ME', 'date_shop_target_ME', 'date_cat_target_ME', 'shop_cat_target_ME'], axis = 1, inplace = True) # Drop object columns\n",
        "data = downcast(data)"
      ],
      "execution_count": 0,
      "outputs": []
    },
    {
      "cell_type": "code",
      "metadata": {
        "id": "7PPCCLD79k6z",
        "colab_type": "code",
        "colab": {}
      },
      "source": [
        "data.fillna(0, inplace=True)\n",
        "data.drop(['item_name', 'shop_name'], axis = 1, inplace = True) # Drop object columns\n",
        "\n",
        "X_train = data[(data.date_block_num > 11) & (data.date_block_num < 33)].drop(['target'], axis=1)\n",
        "Y_train = data[(data.date_block_num > 11) & (data.date_block_num < 33)]['target']\n",
        "X_valid = data[data.date_block_num == 33].drop(['target'], axis=1)\n",
        "Y_valid = data[data.date_block_num == 33]['target']\n",
        "X_test = data[data.date_block_num == 34].drop(['target'], axis=1)\n",
        "\n",
        "# del data"
      ],
      "execution_count": 0,
      "outputs": []
    },
    {
      "cell_type": "code",
      "metadata": {
        "id": "2n0rV2l7-TUu",
        "colab_type": "code",
        "colab": {
          "base_uri": "https://localhost:8080/",
          "height": 1000
        },
        "outputId": "f1533538-3eec-43f2-8a74-58927a0d993d"
      },
      "source": [
        "ts = time.time()\n",
        "\n",
        "model = XGBRegressor(\n",
        "    tree_method = \"gpu_hist\",\n",
        "    max_depth = 6, # Tree related parameter: determines how deeply each tree is allowed to grow during any boosting round\n",
        "    min_child_weight = 600, # \n",
        "    colsample_bytree=0.8, # percentage of features used per tree. High value can lead to overfitting\n",
        "    n_estimators = 500, # number of trees you want to build.\n",
        "    subsample=0.8, # Boosting parameter: percentage of samples used per tree. Low value can lead to underfitting\n",
        "    eta=0.3, #  Boosting parameter\n",
        "    seed=123)\n",
        "\n",
        "model.fit(\n",
        "    X_train, \n",
        "    Y_train, \n",
        "    eval_metric=\"rmse\", \n",
        "    eval_set=[(X_train, Y_train), (X_valid, Y_valid)], \n",
        "    verbose=True, \n",
        "    early_stopping_rounds = 10)\n",
        "\n",
        "time.time() - ts\n"
      ],
      "execution_count": 13,
      "outputs": [
        {
          "output_type": "stream",
          "text": [
            "[18:42:39] WARNING: /workspace/src/objective/regression_obj.cu:152: reg:linear is now deprecated in favor of reg:squarederror.\n",
            "[0]\tvalidation_0-rmse:1.16173\tvalidation_1-rmse:1.1282\n",
            "Multiple eval metrics have been passed: 'validation_1-rmse' will be used for early stopping.\n",
            "\n",
            "Will train until validation_1-rmse hasn't improved in 10 rounds.\n",
            "[1]\tvalidation_0-rmse:1.11821\tvalidation_1-rmse:1.09606\n",
            "[2]\tvalidation_0-rmse:1.08168\tvalidation_1-rmse:1.06946\n",
            "[3]\tvalidation_0-rmse:1.05061\tvalidation_1-rmse:1.04759\n",
            "[4]\tvalidation_0-rmse:1.02619\tvalidation_1-rmse:1.0312\n",
            "[5]\tvalidation_0-rmse:1.00339\tvalidation_1-rmse:1.01557\n",
            "[6]\tvalidation_0-rmse:0.984428\tvalidation_1-rmse:1.00295\n",
            "[7]\tvalidation_0-rmse:0.968215\tvalidation_1-rmse:0.99283\n",
            "[8]\tvalidation_0-rmse:0.95437\tvalidation_1-rmse:0.984283\n",
            "[9]\tvalidation_0-rmse:0.942695\tvalidation_1-rmse:0.976705\n",
            "[10]\tvalidation_0-rmse:0.932437\tvalidation_1-rmse:0.970959\n",
            "[11]\tvalidation_0-rmse:0.923358\tvalidation_1-rmse:0.965746\n",
            "[12]\tvalidation_0-rmse:0.915358\tvalidation_1-rmse:0.96119\n",
            "[13]\tvalidation_0-rmse:0.908883\tvalidation_1-rmse:0.957866\n",
            "[14]\tvalidation_0-rmse:0.903532\tvalidation_1-rmse:0.954939\n",
            "[15]\tvalidation_0-rmse:0.898099\tvalidation_1-rmse:0.950526\n",
            "[16]\tvalidation_0-rmse:0.893997\tvalidation_1-rmse:0.948383\n",
            "[17]\tvalidation_0-rmse:0.890733\tvalidation_1-rmse:0.946824\n",
            "[18]\tvalidation_0-rmse:0.887703\tvalidation_1-rmse:0.945357\n",
            "[19]\tvalidation_0-rmse:0.884453\tvalidation_1-rmse:0.944106\n",
            "[20]\tvalidation_0-rmse:0.881644\tvalidation_1-rmse:0.942881\n",
            "[21]\tvalidation_0-rmse:0.879496\tvalidation_1-rmse:0.94224\n",
            "[22]\tvalidation_0-rmse:0.877353\tvalidation_1-rmse:0.941452\n",
            "[23]\tvalidation_0-rmse:0.87557\tvalidation_1-rmse:0.940585\n",
            "[24]\tvalidation_0-rmse:0.87396\tvalidation_1-rmse:0.9405\n",
            "[25]\tvalidation_0-rmse:0.871662\tvalidation_1-rmse:0.938106\n",
            "[26]\tvalidation_0-rmse:0.868979\tvalidation_1-rmse:0.935545\n",
            "[27]\tvalidation_0-rmse:0.867747\tvalidation_1-rmse:0.935037\n",
            "[28]\tvalidation_0-rmse:0.866821\tvalidation_1-rmse:0.934792\n",
            "[29]\tvalidation_0-rmse:0.865564\tvalidation_1-rmse:0.9339\n",
            "[30]\tvalidation_0-rmse:0.863615\tvalidation_1-rmse:0.932274\n",
            "[31]\tvalidation_0-rmse:0.86231\tvalidation_1-rmse:0.93154\n",
            "[32]\tvalidation_0-rmse:0.860587\tvalidation_1-rmse:0.930067\n",
            "[33]\tvalidation_0-rmse:0.859701\tvalidation_1-rmse:0.929623\n",
            "[34]\tvalidation_0-rmse:0.85795\tvalidation_1-rmse:0.928566\n",
            "[35]\tvalidation_0-rmse:0.857108\tvalidation_1-rmse:0.928198\n",
            "[36]\tvalidation_0-rmse:0.856141\tvalidation_1-rmse:0.927571\n",
            "[37]\tvalidation_0-rmse:0.855516\tvalidation_1-rmse:0.927386\n",
            "[38]\tvalidation_0-rmse:0.854804\tvalidation_1-rmse:0.92748\n",
            "[39]\tvalidation_0-rmse:0.853871\tvalidation_1-rmse:0.927166\n",
            "[40]\tvalidation_0-rmse:0.853198\tvalidation_1-rmse:0.926964\n",
            "[41]\tvalidation_0-rmse:0.85268\tvalidation_1-rmse:0.926577\n",
            "[42]\tvalidation_0-rmse:0.852327\tvalidation_1-rmse:0.92645\n",
            "[43]\tvalidation_0-rmse:0.851736\tvalidation_1-rmse:0.926026\n",
            "[44]\tvalidation_0-rmse:0.851353\tvalidation_1-rmse:0.925906\n",
            "[45]\tvalidation_0-rmse:0.850662\tvalidation_1-rmse:0.925471\n",
            "[46]\tvalidation_0-rmse:0.849906\tvalidation_1-rmse:0.925343\n",
            "[47]\tvalidation_0-rmse:0.84937\tvalidation_1-rmse:0.9251\n",
            "[48]\tvalidation_0-rmse:0.849087\tvalidation_1-rmse:0.925138\n",
            "[49]\tvalidation_0-rmse:0.84734\tvalidation_1-rmse:0.923448\n",
            "[50]\tvalidation_0-rmse:0.846892\tvalidation_1-rmse:0.92309\n",
            "[51]\tvalidation_0-rmse:0.846191\tvalidation_1-rmse:0.922931\n",
            "[52]\tvalidation_0-rmse:0.845697\tvalidation_1-rmse:0.922769\n",
            "[53]\tvalidation_0-rmse:0.844474\tvalidation_1-rmse:0.921692\n",
            "[54]\tvalidation_0-rmse:0.844122\tvalidation_1-rmse:0.921585\n",
            "[55]\tvalidation_0-rmse:0.843553\tvalidation_1-rmse:0.921307\n",
            "[56]\tvalidation_0-rmse:0.843303\tvalidation_1-rmse:0.921323\n",
            "[57]\tvalidation_0-rmse:0.842855\tvalidation_1-rmse:0.921304\n",
            "[58]\tvalidation_0-rmse:0.842383\tvalidation_1-rmse:0.921066\n",
            "[59]\tvalidation_0-rmse:0.841771\tvalidation_1-rmse:0.920836\n",
            "[60]\tvalidation_0-rmse:0.840751\tvalidation_1-rmse:0.919997\n",
            "[61]\tvalidation_0-rmse:0.840414\tvalidation_1-rmse:0.919749\n",
            "[62]\tvalidation_0-rmse:0.840031\tvalidation_1-rmse:0.919676\n",
            "[63]\tvalidation_0-rmse:0.839478\tvalidation_1-rmse:0.919306\n",
            "[64]\tvalidation_0-rmse:0.839176\tvalidation_1-rmse:0.919309\n",
            "[65]\tvalidation_0-rmse:0.838433\tvalidation_1-rmse:0.919163\n",
            "[66]\tvalidation_0-rmse:0.838131\tvalidation_1-rmse:0.919182\n",
            "[67]\tvalidation_0-rmse:0.837311\tvalidation_1-rmse:0.918547\n",
            "[68]\tvalidation_0-rmse:0.837134\tvalidation_1-rmse:0.918467\n",
            "[69]\tvalidation_0-rmse:0.836605\tvalidation_1-rmse:0.918371\n",
            "[70]\tvalidation_0-rmse:0.836148\tvalidation_1-rmse:0.918444\n",
            "[71]\tvalidation_0-rmse:0.835905\tvalidation_1-rmse:0.91846\n",
            "[72]\tvalidation_0-rmse:0.835488\tvalidation_1-rmse:0.918213\n",
            "[73]\tvalidation_0-rmse:0.835177\tvalidation_1-rmse:0.918036\n",
            "[74]\tvalidation_0-rmse:0.83503\tvalidation_1-rmse:0.91802\n",
            "[75]\tvalidation_0-rmse:0.834614\tvalidation_1-rmse:0.917876\n",
            "[76]\tvalidation_0-rmse:0.834439\tvalidation_1-rmse:0.917761\n",
            "[77]\tvalidation_0-rmse:0.833787\tvalidation_1-rmse:0.917331\n",
            "[78]\tvalidation_0-rmse:0.832933\tvalidation_1-rmse:0.917007\n",
            "[79]\tvalidation_0-rmse:0.832806\tvalidation_1-rmse:0.916947\n",
            "[80]\tvalidation_0-rmse:0.832489\tvalidation_1-rmse:0.916711\n",
            "[81]\tvalidation_0-rmse:0.832275\tvalidation_1-rmse:0.916573\n",
            "[82]\tvalidation_0-rmse:0.832094\tvalidation_1-rmse:0.91635\n",
            "[83]\tvalidation_0-rmse:0.831883\tvalidation_1-rmse:0.916371\n",
            "[84]\tvalidation_0-rmse:0.831402\tvalidation_1-rmse:0.91652\n",
            "[85]\tvalidation_0-rmse:0.831061\tvalidation_1-rmse:0.916458\n",
            "[86]\tvalidation_0-rmse:0.830618\tvalidation_1-rmse:0.916319\n",
            "[87]\tvalidation_0-rmse:0.830442\tvalidation_1-rmse:0.916205\n",
            "[88]\tvalidation_0-rmse:0.830255\tvalidation_1-rmse:0.916108\n",
            "[89]\tvalidation_0-rmse:0.829903\tvalidation_1-rmse:0.915789\n",
            "[90]\tvalidation_0-rmse:0.829284\tvalidation_1-rmse:0.915419\n",
            "[91]\tvalidation_0-rmse:0.829026\tvalidation_1-rmse:0.915291\n",
            "[92]\tvalidation_0-rmse:0.828756\tvalidation_1-rmse:0.915127\n",
            "[93]\tvalidation_0-rmse:0.82849\tvalidation_1-rmse:0.915049\n",
            "[94]\tvalidation_0-rmse:0.828283\tvalidation_1-rmse:0.915128\n",
            "[95]\tvalidation_0-rmse:0.828046\tvalidation_1-rmse:0.915082\n",
            "[96]\tvalidation_0-rmse:0.827919\tvalidation_1-rmse:0.91489\n",
            "[97]\tvalidation_0-rmse:0.827774\tvalidation_1-rmse:0.914767\n",
            "[98]\tvalidation_0-rmse:0.827635\tvalidation_1-rmse:0.914696\n",
            "[99]\tvalidation_0-rmse:0.826966\tvalidation_1-rmse:0.914683\n",
            "[100]\tvalidation_0-rmse:0.826821\tvalidation_1-rmse:0.914589\n",
            "[101]\tvalidation_0-rmse:0.826669\tvalidation_1-rmse:0.914485\n",
            "[102]\tvalidation_0-rmse:0.826451\tvalidation_1-rmse:0.914393\n",
            "[103]\tvalidation_0-rmse:0.826349\tvalidation_1-rmse:0.914344\n",
            "[104]\tvalidation_0-rmse:0.826241\tvalidation_1-rmse:0.914337\n",
            "[105]\tvalidation_0-rmse:0.826086\tvalidation_1-rmse:0.914209\n",
            "[106]\tvalidation_0-rmse:0.825884\tvalidation_1-rmse:0.914183\n",
            "[107]\tvalidation_0-rmse:0.82576\tvalidation_1-rmse:0.913982\n",
            "[108]\tvalidation_0-rmse:0.825592\tvalidation_1-rmse:0.913976\n",
            "[109]\tvalidation_0-rmse:0.825449\tvalidation_1-rmse:0.913809\n",
            "[110]\tvalidation_0-rmse:0.825274\tvalidation_1-rmse:0.913686\n",
            "[111]\tvalidation_0-rmse:0.825142\tvalidation_1-rmse:0.91367\n",
            "[112]\tvalidation_0-rmse:0.825035\tvalidation_1-rmse:0.913663\n",
            "[113]\tvalidation_0-rmse:0.824888\tvalidation_1-rmse:0.913587\n",
            "[114]\tvalidation_0-rmse:0.824744\tvalidation_1-rmse:0.913487\n",
            "[115]\tvalidation_0-rmse:0.824585\tvalidation_1-rmse:0.913433\n",
            "[116]\tvalidation_0-rmse:0.824177\tvalidation_1-rmse:0.913137\n",
            "[117]\tvalidation_0-rmse:0.824067\tvalidation_1-rmse:0.913089\n",
            "[118]\tvalidation_0-rmse:0.823925\tvalidation_1-rmse:0.913029\n",
            "[119]\tvalidation_0-rmse:0.823543\tvalidation_1-rmse:0.912708\n",
            "[120]\tvalidation_0-rmse:0.823458\tvalidation_1-rmse:0.912692\n",
            "[121]\tvalidation_0-rmse:0.822923\tvalidation_1-rmse:0.912789\n",
            "[122]\tvalidation_0-rmse:0.822731\tvalidation_1-rmse:0.91264\n",
            "[123]\tvalidation_0-rmse:0.822425\tvalidation_1-rmse:0.912898\n",
            "[124]\tvalidation_0-rmse:0.822318\tvalidation_1-rmse:0.912847\n",
            "[125]\tvalidation_0-rmse:0.822109\tvalidation_1-rmse:0.912659\n",
            "[126]\tvalidation_0-rmse:0.822037\tvalidation_1-rmse:0.912528\n",
            "[127]\tvalidation_0-rmse:0.821729\tvalidation_1-rmse:0.912478\n",
            "[128]\tvalidation_0-rmse:0.821373\tvalidation_1-rmse:0.912462\n",
            "[129]\tvalidation_0-rmse:0.821241\tvalidation_1-rmse:0.912438\n",
            "[130]\tvalidation_0-rmse:0.821118\tvalidation_1-rmse:0.912432\n",
            "[131]\tvalidation_0-rmse:0.820965\tvalidation_1-rmse:0.912358\n",
            "[132]\tvalidation_0-rmse:0.820857\tvalidation_1-rmse:0.912378\n",
            "[133]\tvalidation_0-rmse:0.820614\tvalidation_1-rmse:0.912314\n",
            "[134]\tvalidation_0-rmse:0.820492\tvalidation_1-rmse:0.91224\n",
            "[135]\tvalidation_0-rmse:0.820351\tvalidation_1-rmse:0.912142\n",
            "[136]\tvalidation_0-rmse:0.820207\tvalidation_1-rmse:0.91215\n",
            "[137]\tvalidation_0-rmse:0.820149\tvalidation_1-rmse:0.91207\n",
            "[138]\tvalidation_0-rmse:0.819627\tvalidation_1-rmse:0.911987\n",
            "[139]\tvalidation_0-rmse:0.819514\tvalidation_1-rmse:0.911888\n",
            "[140]\tvalidation_0-rmse:0.819314\tvalidation_1-rmse:0.911817\n",
            "[141]\tvalidation_0-rmse:0.818863\tvalidation_1-rmse:0.911802\n",
            "[142]\tvalidation_0-rmse:0.818752\tvalidation_1-rmse:0.911808\n",
            "[143]\tvalidation_0-rmse:0.818656\tvalidation_1-rmse:0.911644\n",
            "[144]\tvalidation_0-rmse:0.818455\tvalidation_1-rmse:0.911539\n",
            "[145]\tvalidation_0-rmse:0.818294\tvalidation_1-rmse:0.911372\n",
            "[146]\tvalidation_0-rmse:0.818171\tvalidation_1-rmse:0.911406\n",
            "[147]\tvalidation_0-rmse:0.817628\tvalidation_1-rmse:0.911342\n",
            "[148]\tvalidation_0-rmse:0.817471\tvalidation_1-rmse:0.911221\n",
            "[149]\tvalidation_0-rmse:0.817396\tvalidation_1-rmse:0.911215\n",
            "[150]\tvalidation_0-rmse:0.817204\tvalidation_1-rmse:0.911104\n",
            "[151]\tvalidation_0-rmse:0.817129\tvalidation_1-rmse:0.911084\n",
            "[152]\tvalidation_0-rmse:0.817018\tvalidation_1-rmse:0.911108\n",
            "[153]\tvalidation_0-rmse:0.816853\tvalidation_1-rmse:0.910936\n",
            "[154]\tvalidation_0-rmse:0.816276\tvalidation_1-rmse:0.910893\n",
            "[155]\tvalidation_0-rmse:0.815985\tvalidation_1-rmse:0.910676\n",
            "[156]\tvalidation_0-rmse:0.815238\tvalidation_1-rmse:0.910482\n",
            "[157]\tvalidation_0-rmse:0.815165\tvalidation_1-rmse:0.910374\n",
            "[158]\tvalidation_0-rmse:0.815052\tvalidation_1-rmse:0.910295\n",
            "[159]\tvalidation_0-rmse:0.81499\tvalidation_1-rmse:0.910325\n",
            "[160]\tvalidation_0-rmse:0.814866\tvalidation_1-rmse:0.910296\n",
            "[161]\tvalidation_0-rmse:0.814641\tvalidation_1-rmse:0.910234\n",
            "[162]\tvalidation_0-rmse:0.814545\tvalidation_1-rmse:0.910233\n",
            "[163]\tvalidation_0-rmse:0.814399\tvalidation_1-rmse:0.910167\n",
            "[164]\tvalidation_0-rmse:0.814295\tvalidation_1-rmse:0.910105\n",
            "[165]\tvalidation_0-rmse:0.814247\tvalidation_1-rmse:0.910062\n",
            "[166]\tvalidation_0-rmse:0.814131\tvalidation_1-rmse:0.910008\n",
            "[167]\tvalidation_0-rmse:0.813989\tvalidation_1-rmse:0.909968\n",
            "[168]\tvalidation_0-rmse:0.813903\tvalidation_1-rmse:0.90997\n",
            "[169]\tvalidation_0-rmse:0.813808\tvalidation_1-rmse:0.909931\n",
            "[170]\tvalidation_0-rmse:0.81371\tvalidation_1-rmse:0.909904\n",
            "[171]\tvalidation_0-rmse:0.813505\tvalidation_1-rmse:0.909896\n",
            "[172]\tvalidation_0-rmse:0.813194\tvalidation_1-rmse:0.909752\n",
            "[173]\tvalidation_0-rmse:0.813049\tvalidation_1-rmse:0.909775\n",
            "[174]\tvalidation_0-rmse:0.812718\tvalidation_1-rmse:0.909436\n",
            "[175]\tvalidation_0-rmse:0.812629\tvalidation_1-rmse:0.909389\n",
            "[176]\tvalidation_0-rmse:0.812574\tvalidation_1-rmse:0.909335\n",
            "[177]\tvalidation_0-rmse:0.812468\tvalidation_1-rmse:0.909362\n",
            "[178]\tvalidation_0-rmse:0.812366\tvalidation_1-rmse:0.909327\n",
            "[179]\tvalidation_0-rmse:0.812223\tvalidation_1-rmse:0.90925\n",
            "[180]\tvalidation_0-rmse:0.811826\tvalidation_1-rmse:0.909184\n",
            "[181]\tvalidation_0-rmse:0.811666\tvalidation_1-rmse:0.909104\n",
            "[182]\tvalidation_0-rmse:0.811549\tvalidation_1-rmse:0.909055\n",
            "[183]\tvalidation_0-rmse:0.811472\tvalidation_1-rmse:0.909059\n",
            "[184]\tvalidation_0-rmse:0.811403\tvalidation_1-rmse:0.909078\n",
            "[185]\tvalidation_0-rmse:0.811208\tvalidation_1-rmse:0.908792\n",
            "[186]\tvalidation_0-rmse:0.810955\tvalidation_1-rmse:0.908795\n",
            "[187]\tvalidation_0-rmse:0.810869\tvalidation_1-rmse:0.908707\n",
            "[188]\tvalidation_0-rmse:0.810529\tvalidation_1-rmse:0.908683\n",
            "[189]\tvalidation_0-rmse:0.81048\tvalidation_1-rmse:0.908762\n",
            "[190]\tvalidation_0-rmse:0.810395\tvalidation_1-rmse:0.908766\n",
            "[191]\tvalidation_0-rmse:0.809935\tvalidation_1-rmse:0.90887\n",
            "[192]\tvalidation_0-rmse:0.809881\tvalidation_1-rmse:0.908853\n",
            "[193]\tvalidation_0-rmse:0.809787\tvalidation_1-rmse:0.908743\n",
            "[194]\tvalidation_0-rmse:0.809597\tvalidation_1-rmse:0.908632\n",
            "[195]\tvalidation_0-rmse:0.809536\tvalidation_1-rmse:0.908674\n",
            "[196]\tvalidation_0-rmse:0.809468\tvalidation_1-rmse:0.908736\n",
            "[197]\tvalidation_0-rmse:0.809269\tvalidation_1-rmse:0.908698\n",
            "[198]\tvalidation_0-rmse:0.809209\tvalidation_1-rmse:0.908698\n",
            "[199]\tvalidation_0-rmse:0.809156\tvalidation_1-rmse:0.908668\n",
            "[200]\tvalidation_0-rmse:0.809036\tvalidation_1-rmse:0.908585\n",
            "[201]\tvalidation_0-rmse:0.808836\tvalidation_1-rmse:0.908631\n",
            "[202]\tvalidation_0-rmse:0.808746\tvalidation_1-rmse:0.90861\n",
            "[203]\tvalidation_0-rmse:0.808697\tvalidation_1-rmse:0.908586\n",
            "[204]\tvalidation_0-rmse:0.808523\tvalidation_1-rmse:0.908374\n",
            "[205]\tvalidation_0-rmse:0.808417\tvalidation_1-rmse:0.908367\n",
            "[206]\tvalidation_0-rmse:0.808325\tvalidation_1-rmse:0.908362\n",
            "[207]\tvalidation_0-rmse:0.808252\tvalidation_1-rmse:0.908366\n",
            "[208]\tvalidation_0-rmse:0.808157\tvalidation_1-rmse:0.908315\n",
            "[209]\tvalidation_0-rmse:0.808104\tvalidation_1-rmse:0.908352\n",
            "[210]\tvalidation_0-rmse:0.808026\tvalidation_1-rmse:0.908274\n",
            "[211]\tvalidation_0-rmse:0.807653\tvalidation_1-rmse:0.907936\n",
            "[212]\tvalidation_0-rmse:0.807506\tvalidation_1-rmse:0.907826\n",
            "[213]\tvalidation_0-rmse:0.807458\tvalidation_1-rmse:0.907797\n",
            "[214]\tvalidation_0-rmse:0.8074\tvalidation_1-rmse:0.90779\n",
            "[215]\tvalidation_0-rmse:0.807285\tvalidation_1-rmse:0.907775\n",
            "[216]\tvalidation_0-rmse:0.807153\tvalidation_1-rmse:0.907682\n",
            "[217]\tvalidation_0-rmse:0.807088\tvalidation_1-rmse:0.907591\n",
            "[218]\tvalidation_0-rmse:0.806772\tvalidation_1-rmse:0.907365\n",
            "[219]\tvalidation_0-rmse:0.806713\tvalidation_1-rmse:0.907345\n",
            "[220]\tvalidation_0-rmse:0.806636\tvalidation_1-rmse:0.907304\n",
            "[221]\tvalidation_0-rmse:0.806565\tvalidation_1-rmse:0.907321\n",
            "[222]\tvalidation_0-rmse:0.806419\tvalidation_1-rmse:0.907555\n",
            "[223]\tvalidation_0-rmse:0.806369\tvalidation_1-rmse:0.907463\n",
            "[224]\tvalidation_0-rmse:0.806302\tvalidation_1-rmse:0.907594\n",
            "[225]\tvalidation_0-rmse:0.806188\tvalidation_1-rmse:0.907518\n",
            "[226]\tvalidation_0-rmse:0.806082\tvalidation_1-rmse:0.90746\n",
            "[227]\tvalidation_0-rmse:0.806024\tvalidation_1-rmse:0.907466\n",
            "[228]\tvalidation_0-rmse:0.805886\tvalidation_1-rmse:0.907482\n",
            "[229]\tvalidation_0-rmse:0.805679\tvalidation_1-rmse:0.90749\n",
            "[230]\tvalidation_0-rmse:0.805607\tvalidation_1-rmse:0.907562\n",
            "Stopping. Best iteration:\n",
            "[220]\tvalidation_0-rmse:0.806636\tvalidation_1-rmse:0.907304\n",
            "\n"
          ],
          "name": "stdout"
        },
        {
          "output_type": "execute_result",
          "data": {
            "text/plain": [
              "1095.8526837825775"
            ]
          },
          "metadata": {
            "tags": []
          },
          "execution_count": 13
        }
      ]
    },
    {
      "cell_type": "code",
      "metadata": {
        "id": "rkUnAPYa-qfc",
        "colab_type": "code",
        "colab": {
          "base_uri": "https://localhost:8080/",
          "height": 282
        },
        "outputId": "ab601dbc-a1a9-4b3f-e699-45335b22763f"
      },
      "source": [
        "feat_importances = pd.Series(model.feature_importances_, index=X_train.columns)\n",
        "feat_importances.nlargest(15).plot(kind='barh')"
      ],
      "execution_count": 14,
      "outputs": [
        {
          "output_type": "execute_result",
          "data": {
            "text/plain": [
              "<matplotlib.axes._subplots.AxesSubplot at 0x7f18a86a6278>"
            ]
          },
          "metadata": {
            "tags": []
          },
          "execution_count": 14
        },
        {
          "output_type": "display_data",
          "data": {
            "image/png": "[encoded data removed]",
            "text/plain": [
              "<Figure size 432x288 with 1 Axes>"
            ]
          },
          "metadata": {
            "tags": [],
            "needs_background": "light"
          }
        }
      ]
    },
    {
      "cell_type": "code",
      "metadata": {
        "id": "8gj3WoGm-sd7",
        "colab_type": "code",
        "colab": {}
      },
      "source": [
        "Y_test = model.predict(X_test).clip(0, 20)\n",
        "testdata = X_test\n",
        "testdata['Y_test'] = Y_test\n",
        "\n",
        "# Add target variable to transactions_test and leave only ID and target\n",
        "transactions_test.reset_index(inplace = True)\n",
        "submition = pd.merge(transactions_test, testdata[['shop_id', 'item_id', 'Y_test']], on = ['shop_id', 'item_id'])\n",
        "submition = submition[['ID', 'Y_test']]\n",
        "submition.columns = ['ID', 'item_cnt_month']"
      ],
      "execution_count": 0,
      "outputs": []
    },
    {
      "cell_type": "code",
      "metadata": {
        "id": "OaaBIjeh-s48",
        "colab_type": "code",
        "colab": {}
      },
      "source": [
        "# Export results\n",
        "submition.to_csv('V12_Smooth500_Train11.csv', index=False)\n",
        "files.download('V12_Smooth500_Train11.csv')"
      ],
      "execution_count": 0,
      "outputs": []
    },
    {
      "cell_type": "markdown",
      "metadata": {
        "id": "k2WPL_ByIZmg",
        "colab_type": "text"
      },
      "source": [
        ""
      ]
    }
  ]
}