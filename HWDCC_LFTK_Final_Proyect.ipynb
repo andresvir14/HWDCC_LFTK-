{
  "nbformat": 4,
  "nbformat_minor": 0,
  "metadata": {
    "colab": {
      "name": "HWDCC-LFTK Final Proyect.ipynb",
      "provenance": [],
      "collapsed_sections": [],
      "machine_shape": "hm",
      "mount_file_id": "18yVGbVoPNkJFI_ZrnlYuu-UU-7Ra8lRh",
      "authorship_tag": "ABX9TyPdvlO/1I72+nqeOzUcM1of",
      "include_colab_link": true
    },
    "kernelspec": {
      "name": "python3",
      "display_name": "Python 3"
    },
    "accelerator": "GPU"
  },
  "cells": [
    {
      "cell_type": "markdown",
      "metadata": {
        "id": "view-in-github",
        "colab_type": "text"
      },
      "source": [
        "<a href=\"https://colab.research.google.com/github/andresvir14/HWDCC_LFTK-/blob/master/HWDCC_LFTK_Final_Proyect.ipynb\" target=\"_parent\"><img src=\"https://colab.research.google.com/assets/colab-badge.svg\" alt=\"Open In Colab\"/></a>"
      ]
    },
    {
      "cell_type": "code",
      "metadata": {
        "id": "Xr-u9bHh6qbA",
        "colab_type": "code",
        "colab": {
          "base_uri": "https://localhost:8080/",
          "height": 71
        },
        "outputId": "dbde9273-3404-456d-88d3-1778f5935ab0"
      },
      "source": [
        "# Import libraries\n",
        "# Basic libraries\n",
        "import pandas as pd\n",
        "import numpy as np\n",
        "\n",
        "# Preprocesing and feature extraction\n",
        "from itertools import product\n",
        "from sklearn import preprocessing\n",
        "from sklearn.feature_extraction.text import TfidfVectorizer\n",
        "\n",
        "# Modeling\n",
        "from sklearn.linear_model import LinearRegression\n",
        "from xgboost import XGBRegressor\n",
        "from xgboost import plot_importance\n",
        "\n",
        "# Ploting\n",
        "import matplotlib.pyplot as plt\n",
        "from matplotlib.pyplot import figure\n",
        "import seaborn as sns\n",
        "\n",
        "# To deal with downloaded files\n",
        "from google.colab import files\n",
        "\n",
        "# Others\n",
        "import time"
      ],
      "execution_count": 1,
      "outputs": [
        {
          "output_type": "stream",
          "text": [
            "/usr/local/lib/python3.6/dist-packages/statsmodels/tools/_testing.py:19: FutureWarning: pandas.util.testing is deprecated. Use the functions in the public API at pandas.testing instead.\n",
            "  import pandas.util.testing as tm\n"
          ],
          "name": "stderr"
        }
      ]
    },
    {
      "cell_type": "code",
      "metadata": {
        "id": "RWhrGXi38Jom",
        "colab_type": "code",
        "colab": {}
      },
      "source": [
        "# Functions used\n",
        "\n",
        "# Downcast variables \n",
        "def downcast(df):\n",
        "  '''\n",
        "    Change columns types from 64 to 32 bits\n",
        "  '''\n",
        "  float64columns = df.select_dtypes(['float64']).columns.tolist()\n",
        "  int64columns = df.select_dtypes(['int64']).columns.tolist()\n",
        "  df[float64columns] = df[float64columns].astype('float32')\n",
        "  df[int64columns] = df[int64columns].astype('int32')\n",
        "  return df\n",
        "\n",
        "# Averages of target variables\n",
        "def averagevalues(df, group, target):\n",
        "  '''\n",
        "  Takes a group of variables (from one two three) and a target variables to return the average \n",
        "  '''\n",
        "  grouped = df.groupby(group).agg({target: ['mean']})\n",
        "  \n",
        "  if (len(group) == 1):\n",
        "    grouped.columns = [group[0]+'_avg_'+target]\n",
        "  elif (len(group) == 2):\n",
        "    grouped.columns = [group[0]+'_'+group[1]+'_avg_'+target]\n",
        "  else:\n",
        "    grouped.columns = [group[0]+'_'+group[1]+'-'+group[2]+'_avg_'+target]\n",
        "\n",
        "  grouped.reset_index(inplace=True)\n",
        "  df = pd.merge(df, grouped, on=group, how='left')\n",
        "  return df\n",
        "\n",
        "# Function to compute the mean encodings for each categorical feature (Via Leave-one-out scheme)\n",
        "def meaneconloo(df, catfeature):\n",
        "    '''\n",
        "    df: Pandas data frame that contains categorical and target features\n",
        "    catfeature: feature we want to create the mean encoding regularized through LOO scheme\n",
        "    '''\n",
        "    target_sum = df.groupby(catfeature)['target'].transform('sum')\n",
        "    n_objects  = df.groupby(catfeature)['target'].transform('count')\n",
        "    df[catfeature+'_ME'] = (target_sum - df['target']) / (n_objects - 1)\n",
        "    df[catfeature+'_ME'].fillna(df[catfeature+'_ME'].mean(), inplace=True)\n",
        "    return df\n",
        "\n",
        "# Function that creates the lags of given columns\n",
        "def lag_feature(df, lags, col):\n",
        "    tmp = df[['date_block_num','shop_id','item_id', col]]\n",
        "    for i in lags:\n",
        "        shifted = tmp.copy()\n",
        "        shifted.columns = ['date_block_num','shop_id','item_id', col+'_lag_'+ str(i)]\n",
        "        shifted['date_block_num'] += i\n",
        "        shifted[col+'_lag_'+ str(i)] = shifted[col+'_lag_'+ str(i)].astype('float16')\n",
        "        df = pd.merge(df, shifted, on=['date_block_num','shop_id','item_id'], how='left')\n",
        "    return df    "
      ],
      "execution_count": 0,
      "outputs": []
    },
    {
      "cell_type": "code",
      "metadata": {
        "id": "dVmnEFrM66HL",
        "colab_type": "code",
        "colab": {}
      },
      "source": [
        "# Load de the data\n",
        "transactions    = pd.read_csv('/content/drive/My Drive/DataScience/data/competitive-data-science-predict-future-sales/sales_train.csv')\n",
        "items           = pd.read_csv('/content/drive/My Drive/DataScience/data/competitive-data-science-predict-future-sales/items.csv')\n",
        "item_categories = pd.read_csv('/content/drive/My Drive/DataScience/data/competitive-data-science-predict-future-sales/item_categories.csv')\n",
        "shops           = pd.read_csv('/content/drive/My Drive/DataScience/data/competitive-data-science-predict-future-sales/shops.csv')\n",
        "transactions_test    = pd.read_csv('/content/drive/My Drive/DataScience/data/competitive-data-science-predict-future-sales/test.csv')\n"
      ],
      "execution_count": 0,
      "outputs": []
    },
    {
      "cell_type": "code",
      "metadata": {
        "id": "GEKnqvug6-gR",
        "colab_type": "code",
        "colab": {}
      },
      "source": [
        "index_cols = ['shop_id', 'item_id', 'date_block_num']\n",
        "\n",
        "# For every month we create a grid from all shops/items combinations from that month\n",
        "grid = [] \n",
        "for block_num in transactions['date_block_num'].unique():\n",
        "    cur_shops = transactions[transactions['date_block_num']==block_num]['shop_id'].unique()\n",
        "    cur_items = transactions[transactions['date_block_num']==block_num]['item_id'].unique()\n",
        "    grid.append(np.array(list(product(*[cur_shops, cur_items, [block_num]])), dtype = 'int16'))\n",
        "\n",
        "# Turn the grid into pandas dataframe\n",
        "grid = pd.DataFrame(np.vstack(grid), columns = index_cols, dtype = np.int32)\n",
        "\n",
        "# Get aggregated values of sales by shop_id, item_id\n",
        "gb = transactions.groupby(index_cols).agg({'item_cnt_day':'sum'})\n",
        "gb.columns = ['target']\n",
        "gb.reset_index(inplace = True)\n",
        "\n",
        "# Join aggregated data to the grid and sort the data\n",
        "train = pd.merge(grid, gb, how='left',on=index_cols).fillna(0)\n",
        "train['target'] = train['target'].clip(0,20)\n",
        "train.sort_values(['date_block_num','shop_id','item_id'],inplace=True)\n",
        "\n",
        "del grid, gb"
      ],
      "execution_count": 0,
      "outputs": []
    },
    {
      "cell_type": "code",
      "metadata": {
        "id": "y8lsFtHT84V9",
        "colab_type": "code",
        "colab": {}
      },
      "source": [
        "# Set ID as index and join train with test data\n",
        "transactions_test.set_index('ID', inplace = True)\n",
        "transactions_test['date_block_num'] = 34\n",
        "data = pd.concat([train, transactions_test], sort = False)\n",
        "data = downcast(data)\n",
        "\n",
        "del train"
      ],
      "execution_count": 0,
      "outputs": []
    },
    {
      "cell_type": "code",
      "metadata": {
        "id": "wc2r0LYG87sj",
        "colab_type": "code",
        "colab": {}
      },
      "source": [
        "data = pd.merge(data, items, on = ['item_id']) # Join item_name and item category\n",
        "data = pd.merge(data, shops, on = ['shop_id']) # Join shop_name\n",
        "\n",
        "del items, shops, item_categories"
      ],
      "execution_count": 0,
      "outputs": []
    },
    {
      "cell_type": "code",
      "metadata": {
        "id": "8Ht38xug9Cou",
        "colab_type": "code",
        "colab": {}
      },
      "source": [
        "# Target means by groups\n",
        "data = averagevalues(data, ['shop_id'], 'target')\n",
        "data = averagevalues(data, ['item_id'], 'target')\n",
        "data = averagevalues(data, ['item_category_id'], 'target')\n",
        "data = averagevalues(data, ['date_block_num'], 'target')\n",
        "\n",
        "data = averagevalues(data, ['date_block_num', 'item_id'], 'target')\n",
        "data = averagevalues(data, ['date_block_num', 'shop_id'], 'target')\n",
        "data = averagevalues(data, ['date_block_num', 'item_category_id'], 'target')\n",
        "\n",
        "data = averagevalues(data, ['shop_id', 'item_id'], 'target')\n",
        "data = averagevalues(data, ['shop_id', 'item_category_id'], 'target')\n",
        "\n",
        "data = downcast(data)"
      ],
      "execution_count": 0,
      "outputs": []
    },
    {
      "cell_type": "code",
      "metadata": {
        "id": "tAWReK-INhkh",
        "colab_type": "code",
        "colab": {}
      },
      "source": [
        "# Mean encodings (LOO) for shop_id and item_id\n",
        "#data = meaneconloo(data, 'shop_id')\n",
        "#data = meaneconloo(data, 'item_id')\n",
        "#data = meaneconloo(data, 'item_category_id')\n",
        "\n",
        "#data = meaneconloo(data, 'date_block_num')\n",
        "\n",
        "# Concatenation to have interections of groups\n",
        "#data['shop_item'] = data['shop_id'].astype(str) + data['item_id'].astype(str)\n",
        "#data = meaneconloo(data, 'shop_item')\n",
        "\n",
        "#data['block_shop'] = data['date_block_num'].astype(str) + data['shop_id'].astype(str)\n",
        "#data = meaneconloo(data, 'block_shop')\n",
        "\n",
        "#data['block_item'] = data['date_block_num'].astype(str) + data['item_id'].astype(str)\n",
        "#data = meaneconloo(data, 'block_item')\n",
        "\n",
        "#data['block_cat'] = data['date_block_num'].astype(str) + data['item_category_id'].astype(str)\n",
        "#data = meaneconloo(data, 'block_cat')"
      ],
      "execution_count": 0,
      "outputs": []
    },
    {
      "cell_type": "code",
      "metadata": {
        "id": "iGiwdsb1mNfH",
        "colab_type": "code",
        "colab": {
          "base_uri": "https://localhost:8080/",
          "height": 153
        },
        "outputId": "80beff75-36b2-4043-89aa-7173bf0cba6d"
      },
      "source": [
        "data.columns"
      ],
      "execution_count": 9,
      "outputs": [
        {
          "output_type": "execute_result",
          "data": {
            "text/plain": [
              "Index(['shop_id', 'item_id', 'date_block_num', 'target', 'item_name',\n",
              "       'item_category_id', 'shop_name', 'shop_id_avg_target',\n",
              "       'item_id_avg_target', 'item_category_id_avg_target',\n",
              "       'date_block_num_avg_target', 'date_block_num_item_id_avg_target',\n",
              "       'date_block_num_shop_id_avg_target',\n",
              "       'date_block_num_item_category_id_avg_target',\n",
              "       'shop_id_item_id_avg_target', 'shop_id_item_category_id_avg_target'],\n",
              "      dtype='object')"
            ]
          },
          "metadata": {
            "tags": []
          },
          "execution_count": 9
        }
      ]
    },
    {
      "cell_type": "code",
      "metadata": {
        "id": "koOh6nvY9QeI",
        "colab_type": "code",
        "colab": {
          "base_uri": "https://localhost:8080/",
          "height": 34
        },
        "outputId": "b8e1f27b-1a5b-4ea2-ca39-84ad2664fa36"
      },
      "source": [
        "# Lagged values\n",
        "ts = time.time()\n",
        "\n",
        "data = lag_feature(data, [1, 2, 3, 4, 5, 12], 'target')\n",
        "data = lag_feature(data, [1, 2, 3, 4, 5, 12], 'shop_id_avg_target')\n",
        "data = lag_feature(data, [1, 2, 3, 4, 5, 12], 'item_id_avg_target')\n",
        "data = lag_feature(data, [1, 2, 3, 4, 5, 12], 'item_category_id_avg_target')\n",
        "data = lag_feature(data, [1, 2, 3, 4, 5, 12], 'date_block_num_avg_target')\n",
        "data = lag_feature(data, [1, 2, 3, 4, 5, 12], 'date_block_num_item_id_avg_target')\n",
        "data = lag_feature(data, [1, 2, 3, 4, 5, 12], 'date_block_num_shop_id_avg_target')\n",
        "data = lag_feature(data, [1, 2, 3, 4, 5, 12], 'date_block_num_item_category_id_avg_target')\n",
        "data = lag_feature(data, [1, 2, 3, 4, 5, 12], 'shop_id_item_id_avg_target')\n",
        "data = lag_feature(data, [1, 2, 3, 4, 5, 12], 'shop_id_item_category_id_avg_target')\n",
        "\n",
        "#data = lag_feature(data, [1, 2, 3, 4, 5, 12], 'shop_id_ME')\n",
        "#data = lag_feature(data, [1, 2, 3, 4, 5, 12], 'item_id_ME')\n",
        "#data = lag_feature(data, [1, 2, 3, 4, 5, 12], 'item_category_id_ME')\n",
        "\n",
        "#data = lag_feature(data, [1, 2, 3, 4, 5, 12], 'date_block_num_ME')\n",
        "#data = lag_feature(data, [1, 2, 3, 4, 5, 12], 'shop_item_ME')\n",
        "#data = lag_feature(data, [1, 2, 3, 4, 5, 12], 'block_shop_ME')\n",
        "#data = lag_feature(data, [1, 2, 3, 4, 5, 12], 'block_item_ME')\n",
        "#data = lag_feature(data, [1, 2, 3, 4, 5, 12], 'block_cat_ME')\n",
        "\n",
        "time.time() - ts"
      ],
      "execution_count": 10,
      "outputs": [
        {
          "output_type": "execute_result",
          "data": {
            "text/plain": [
              "597.4114997386932"
            ]
          },
          "metadata": {
            "tags": []
          },
          "execution_count": 10
        }
      ]
    },
    {
      "cell_type": "code",
      "metadata": {
        "id": "Yi1uDMAWOapq",
        "colab_type": "code",
        "colab": {}
      },
      "source": [
        "# Drop some level variables (lag 0)\n",
        "#data.drop(['shop_id_avg_target', 'item_id_avg_target', 'item_category_id_avg_target', 'date_block_num_avg_target','shop_id_ME', 'item_id_ME', 'item_category_id_ME',  'date_block_num_ME', 'shop_item_ME', 'block_shop_ME', 'block_item_ME', 'block_cat_ME'], axis = 1, inplace = True)\n",
        "data.drop(['shop_id_avg_target', 'item_id_avg_target', 'item_category_id_avg_target', 'date_block_num_avg_target', 'date_block_num_item_id_avg_target', 'date_block_num_shop_id_avg_target', 'date_block_num_item_category_id_avg_target', 'shop_id_item_id_avg_target', 'shop_id_item_category_id_avg_target'], axis = 1, inplace = True)\n",
        "\n",
        "data = downcast(data)"
      ],
      "execution_count": 0,
      "outputs": []
    },
    {
      "cell_type": "code",
      "metadata": {
        "id": "yR8okImMs9YF",
        "colab_type": "code",
        "colab": {}
      },
      "source": [
        "#data['shop_item'] = data['shop_item'].astype(int)\n",
        "#data['block_shop'] = data['block_shop'].astype(int)\n",
        "#data['block_item'] = data['block_item'].astype(int)\n",
        "#data['block_cat'] = data['block_cat'].astype(int)\n",
        "#data = downcast(data)"
      ],
      "execution_count": 0,
      "outputs": []
    },
    {
      "cell_type": "code",
      "metadata": {
        "id": "7PPCCLD79k6z",
        "colab_type": "code",
        "colab": {}
      },
      "source": [
        "data.fillna(0, inplace=True)\n",
        "data.drop(['item_name', 'shop_name'], axis = 1, inplace = True) # Drop object columns\n",
        "\n",
        "X_train = data[(data.date_block_num > 11) & (data.date_block_num < 33)].drop(['target'], axis=1)\n",
        "Y_train = data[(data.date_block_num > 11) & (data.date_block_num < 33)]['target']\n",
        "X_valid = data[data.date_block_num == 33].drop(['target'], axis=1)\n",
        "Y_valid = data[data.date_block_num == 33]['target']\n",
        "X_test = data[data.date_block_num == 34].drop(['target'], axis=1)\n",
        "\n",
        "del data"
      ],
      "execution_count": 0,
      "outputs": []
    },
    {
      "cell_type": "code",
      "metadata": {
        "id": "2n0rV2l7-TUu",
        "colab_type": "code",
        "colab": {
          "base_uri": "https://localhost:8080/",
          "height": 1000
        },
        "outputId": "ec94bc1a-794b-4a1d-e1f8-4c9bdbb48867"
      },
      "source": [
        "ts = time.time()\n",
        "\n",
        "model = XGBRegressor(\n",
        "    tree_method = \"gpu_hist\",\n",
        "    max_depth = 6, # Tree related parameter: determines how deeply each tree is allowed to grow during any boosting round\n",
        "    min_child_weight = 1500, # \n",
        "    colsample_bytree=0.8, # percentage of features used per tree. High value can lead to overfitting\n",
        "    n_estimators = 500, # number of trees you want to build.\n",
        "    subsample=0.8, # Boosting parameter: percentage of samples used per tree. Low value can lead to underfitting\n",
        "    eta=0.3, #  Boosting parameter\n",
        "    seed=123)\n",
        "\n",
        "model.fit(\n",
        "    X_train, \n",
        "    Y_train, \n",
        "    eval_metric=\"rmse\", \n",
        "    eval_set=[(X_train, Y_train), (X_valid, Y_valid)], \n",
        "    verbose=True, \n",
        "    early_stopping_rounds = 10)\n",
        "\n",
        "time.time() - ts\n"
      ],
      "execution_count": 21,
      "outputs": [
        {
          "output_type": "stream",
          "text": [
            "[20:27:04] WARNING: /workspace/src/objective/regression_obj.cu:152: reg:linear is now deprecated in favor of reg:squarederror.\n",
            "[0]\tvalidation_0-rmse:1.15297\tvalidation_1-rmse:1.1136\n",
            "Multiple eval metrics have been passed: 'validation_1-rmse' will be used for early stopping.\n",
            "\n",
            "Will train until validation_1-rmse hasn't improved in 10 rounds.\n",
            "[1]\tvalidation_0-rmse:1.1088\tvalidation_1-rmse:1.08003\n",
            "[2]\tvalidation_0-rmse:1.06736\tvalidation_1-rmse:1.04881\n",
            "[3]\tvalidation_0-rmse:1.03533\tvalidation_1-rmse:1.02738\n",
            "[4]\tvalidation_0-rmse:1.0051\tvalidation_1-rmse:1.00692\n",
            "[5]\tvalidation_0-rmse:0.979801\tvalidation_1-rmse:0.991545\n",
            "[6]\tvalidation_0-rmse:0.958311\tvalidation_1-rmse:0.979836\n",
            "[7]\tvalidation_0-rmse:0.940566\tvalidation_1-rmse:0.97\n",
            "[8]\tvalidation_0-rmse:0.925718\tvalidation_1-rmse:0.962537\n",
            "[9]\tvalidation_0-rmse:0.91251\tvalidation_1-rmse:0.957042\n",
            "[10]\tvalidation_0-rmse:0.901493\tvalidation_1-rmse:0.953018\n",
            "[11]\tvalidation_0-rmse:0.892217\tvalidation_1-rmse:0.949419\n",
            "[12]\tvalidation_0-rmse:0.885451\tvalidation_1-rmse:0.946633\n",
            "[13]\tvalidation_0-rmse:0.878819\tvalidation_1-rmse:0.944739\n",
            "[14]\tvalidation_0-rmse:0.87227\tvalidation_1-rmse:0.942062\n",
            "[15]\tvalidation_0-rmse:0.866666\tvalidation_1-rmse:0.939718\n",
            "[16]\tvalidation_0-rmse:0.862907\tvalidation_1-rmse:0.93856\n",
            "[17]\tvalidation_0-rmse:0.858778\tvalidation_1-rmse:0.937726\n",
            "[18]\tvalidation_0-rmse:0.855448\tvalidation_1-rmse:0.937563\n",
            "[19]\tvalidation_0-rmse:0.851898\tvalidation_1-rmse:0.936032\n",
            "[20]\tvalidation_0-rmse:0.849695\tvalidation_1-rmse:0.934961\n",
            "[21]\tvalidation_0-rmse:0.846363\tvalidation_1-rmse:0.93352\n",
            "[22]\tvalidation_0-rmse:0.844354\tvalidation_1-rmse:0.933949\n",
            "[23]\tvalidation_0-rmse:0.842573\tvalidation_1-rmse:0.934334\n",
            "[24]\tvalidation_0-rmse:0.840866\tvalidation_1-rmse:0.934154\n",
            "[25]\tvalidation_0-rmse:0.839589\tvalidation_1-rmse:0.934121\n",
            "[26]\tvalidation_0-rmse:0.838598\tvalidation_1-rmse:0.934184\n",
            "[27]\tvalidation_0-rmse:0.837678\tvalidation_1-rmse:0.934541\n",
            "[28]\tvalidation_0-rmse:0.836564\tvalidation_1-rmse:0.9342\n",
            "[29]\tvalidation_0-rmse:0.835409\tvalidation_1-rmse:0.933253\n",
            "[30]\tvalidation_0-rmse:0.834657\tvalidation_1-rmse:0.93386\n",
            "[31]\tvalidation_0-rmse:0.833956\tvalidation_1-rmse:0.933989\n",
            "[32]\tvalidation_0-rmse:0.833262\tvalidation_1-rmse:0.933421\n",
            "[33]\tvalidation_0-rmse:0.83261\tvalidation_1-rmse:0.933208\n",
            "[34]\tvalidation_0-rmse:0.830846\tvalidation_1-rmse:0.932197\n",
            "[35]\tvalidation_0-rmse:0.830429\tvalidation_1-rmse:0.932467\n",
            "[36]\tvalidation_0-rmse:0.829841\tvalidation_1-rmse:0.932482\n",
            "[37]\tvalidation_0-rmse:0.829481\tvalidation_1-rmse:0.933041\n",
            "[38]\tvalidation_0-rmse:0.828997\tvalidation_1-rmse:0.932288\n",
            "[39]\tvalidation_0-rmse:0.828432\tvalidation_1-rmse:0.931923\n",
            "[40]\tvalidation_0-rmse:0.82769\tvalidation_1-rmse:0.931141\n",
            "[41]\tvalidation_0-rmse:0.826611\tvalidation_1-rmse:0.930729\n",
            "[42]\tvalidation_0-rmse:0.82604\tvalidation_1-rmse:0.930534\n",
            "[43]\tvalidation_0-rmse:0.825546\tvalidation_1-rmse:0.92988\n",
            "[44]\tvalidation_0-rmse:0.824438\tvalidation_1-rmse:0.928797\n",
            "[45]\tvalidation_0-rmse:0.824176\tvalidation_1-rmse:0.928906\n",
            "[46]\tvalidation_0-rmse:0.823833\tvalidation_1-rmse:0.928276\n",
            "[47]\tvalidation_0-rmse:0.823496\tvalidation_1-rmse:0.928021\n",
            "[48]\tvalidation_0-rmse:0.823325\tvalidation_1-rmse:0.928434\n",
            "[49]\tvalidation_0-rmse:0.822849\tvalidation_1-rmse:0.928757\n",
            "[50]\tvalidation_0-rmse:0.822513\tvalidation_1-rmse:0.928912\n",
            "[51]\tvalidation_0-rmse:0.82201\tvalidation_1-rmse:0.927964\n",
            "[52]\tvalidation_0-rmse:0.821721\tvalidation_1-rmse:0.927616\n",
            "[53]\tvalidation_0-rmse:0.821509\tvalidation_1-rmse:0.927321\n",
            "[54]\tvalidation_0-rmse:0.820724\tvalidation_1-rmse:0.927624\n",
            "[55]\tvalidation_0-rmse:0.820558\tvalidation_1-rmse:0.927437\n",
            "[56]\tvalidation_0-rmse:0.820309\tvalidation_1-rmse:0.927272\n",
            "[57]\tvalidation_0-rmse:0.82015\tvalidation_1-rmse:0.927536\n",
            "[58]\tvalidation_0-rmse:0.81965\tvalidation_1-rmse:0.927376\n",
            "[59]\tvalidation_0-rmse:0.819264\tvalidation_1-rmse:0.926611\n",
            "[60]\tvalidation_0-rmse:0.818662\tvalidation_1-rmse:0.926027\n",
            "[61]\tvalidation_0-rmse:0.818437\tvalidation_1-rmse:0.925701\n",
            "[62]\tvalidation_0-rmse:0.818272\tvalidation_1-rmse:0.925923\n",
            "[63]\tvalidation_0-rmse:0.818093\tvalidation_1-rmse:0.925593\n",
            "[64]\tvalidation_0-rmse:0.817904\tvalidation_1-rmse:0.925682\n",
            "[65]\tvalidation_0-rmse:0.816722\tvalidation_1-rmse:0.924255\n",
            "[66]\tvalidation_0-rmse:0.81654\tvalidation_1-rmse:0.923923\n",
            "[67]\tvalidation_0-rmse:0.816272\tvalidation_1-rmse:0.924135\n",
            "[68]\tvalidation_0-rmse:0.816069\tvalidation_1-rmse:0.924226\n",
            "[69]\tvalidation_0-rmse:0.815602\tvalidation_1-rmse:0.924323\n",
            "[70]\tvalidation_0-rmse:0.815426\tvalidation_1-rmse:0.924557\n",
            "[71]\tvalidation_0-rmse:0.815145\tvalidation_1-rmse:0.923758\n",
            "[72]\tvalidation_0-rmse:0.814974\tvalidation_1-rmse:0.923989\n",
            "[73]\tvalidation_0-rmse:0.814589\tvalidation_1-rmse:0.924027\n",
            "[74]\tvalidation_0-rmse:0.814263\tvalidation_1-rmse:0.923829\n",
            "[75]\tvalidation_0-rmse:0.813999\tvalidation_1-rmse:0.923528\n",
            "[76]\tvalidation_0-rmse:0.813721\tvalidation_1-rmse:0.922517\n",
            "[77]\tvalidation_0-rmse:0.813454\tvalidation_1-rmse:0.922401\n",
            "[78]\tvalidation_0-rmse:0.813211\tvalidation_1-rmse:0.92186\n",
            "[79]\tvalidation_0-rmse:0.813069\tvalidation_1-rmse:0.921669\n",
            "[80]\tvalidation_0-rmse:0.812075\tvalidation_1-rmse:0.921874\n",
            "[81]\tvalidation_0-rmse:0.811862\tvalidation_1-rmse:0.921301\n",
            "[82]\tvalidation_0-rmse:0.811662\tvalidation_1-rmse:0.921111\n",
            "[83]\tvalidation_0-rmse:0.811285\tvalidation_1-rmse:0.920747\n",
            "[84]\tvalidation_0-rmse:0.811162\tvalidation_1-rmse:0.921339\n",
            "[85]\tvalidation_0-rmse:0.810913\tvalidation_1-rmse:0.921231\n",
            "[86]\tvalidation_0-rmse:0.810531\tvalidation_1-rmse:0.920995\n",
            "[87]\tvalidation_0-rmse:0.810376\tvalidation_1-rmse:0.920853\n",
            "[88]\tvalidation_0-rmse:0.810225\tvalidation_1-rmse:0.920999\n",
            "[89]\tvalidation_0-rmse:0.8101\tvalidation_1-rmse:0.920965\n",
            "[90]\tvalidation_0-rmse:0.80997\tvalidation_1-rmse:0.921203\n",
            "[91]\tvalidation_0-rmse:0.809756\tvalidation_1-rmse:0.921125\n",
            "[92]\tvalidation_0-rmse:0.809561\tvalidation_1-rmse:0.921055\n",
            "[93]\tvalidation_0-rmse:0.809437\tvalidation_1-rmse:0.921017\n",
            "Stopping. Best iteration:\n",
            "[83]\tvalidation_0-rmse:0.811285\tvalidation_1-rmse:0.920747\n",
            "\n"
          ],
          "name": "stdout"
        },
        {
          "output_type": "execute_result",
          "data": {
            "text/plain": [
              "483.94184851646423"
            ]
          },
          "metadata": {
            "tags": []
          },
          "execution_count": 21
        }
      ]
    },
    {
      "cell_type": "code",
      "metadata": {
        "id": "rkUnAPYa-qfc",
        "colab_type": "code",
        "colab": {
          "base_uri": "https://localhost:8080/",
          "height": 282
        },
        "outputId": "f8c9709d-2524-4aab-98cc-518c2fe99287"
      },
      "source": [
        "feat_importances = pd.Series(model.feature_importances_, index=X_train.columns)\n",
        "feat_importances.nlargest(20).plot(kind='barh')"
      ],
      "execution_count": 18,
      "outputs": [
        {
          "output_type": "execute_result",
          "data": {
            "text/plain": [
              "<matplotlib.axes._subplots.AxesSubplot at 0x7f47ecb60320>"
            ]
          },
          "metadata": {
            "tags": []
          },
          "execution_count": 18
        },
        {
          "output_type": "display_data",
          "data": {
            "image/png": "[encoded data removed]",
            "text/plain": [
              "<Figure size 432x288 with 1 Axes>"
            ]
          },
          "metadata": {
            "tags": [],
            "needs_background": "light"
          }
        }
      ]
    },
    {
      "cell_type": "code",
      "metadata": {
        "id": "8gj3WoGm-sd7",
        "colab_type": "code",
        "colab": {}
      },
      "source": [
        "Y_test = model.predict(X_test).clip(0, 20)\n",
        "testdata = X_test\n",
        "testdata['Y_test'] = Y_test\n",
        "\n",
        "# Add target variable to transactions_test and leave only ID and target\n",
        "transactions_test.reset_index(inplace = True)\n",
        "submition = pd.merge(transactions_test, testdata[['shop_id', 'item_id', 'Y_test']], on = ['shop_id', 'item_id'])\n",
        "submition = submition[['ID', 'Y_test']]\n",
        "submition.columns = ['ID', 'item_cnt_month']"
      ],
      "execution_count": 0,
      "outputs": []
    },
    {
      "cell_type": "code",
      "metadata": {
        "id": "OaaBIjeh-s48",
        "colab_type": "code",
        "colab": {}
      },
      "source": [
        "# Export results\n",
        "submition.to_csv('V2.csv', index=False)\n",
        "files.download('V2.csv')"
      ],
      "execution_count": 0,
      "outputs": []
    },
    {
      "cell_type": "code",
      "metadata": {
        "id": "n7gZ1J9UjUAm",
        "colab_type": "code",
        "colab": {}
      },
      "source": [
        "X_train.columns"
      ],
      "execution_count": 0,
      "outputs": []
    },
    {
      "cell_type": "markdown",
      "metadata": {
        "id": "k2WPL_ByIZmg",
        "colab_type": "text"
      },
      "source": [
        ""
      ]
    }
  ]
}