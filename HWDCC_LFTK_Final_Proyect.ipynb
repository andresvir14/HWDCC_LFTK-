{
  "nbformat": 4,
  "nbformat_minor": 0,
  "metadata": {
    "colab": {
      "name": "HWDCC-LFTK Final Proyect.ipynb",
      "provenance": [],
      "collapsed_sections": [],
      "machine_shape": "hm",
      "mount_file_id": "18yVGbVoPNkJFI_ZrnlYuu-UU-7Ra8lRh",
      "authorship_tag": "ABX9TyP08o1h+FvugUP29v/71Rrx",
      "include_colab_link": true
    },
    "kernelspec": {
      "name": "python3",
      "display_name": "Python 3"
    },
    "accelerator": "GPU"
  },
  "cells": [
    {
      "cell_type": "markdown",
      "metadata": {
        "id": "view-in-github",
        "colab_type": "text"
      },
      "source": [
        "<a href=\"https://colab.research.google.com/github/andresvir14/HWDCC_LFTK-/blob/master/HWDCC_LFTK_Final_Proyect.ipynb\" target=\"_parent\"><img src=\"https://colab.research.google.com/assets/colab-badge.svg\" alt=\"Open In Colab\"/></a>"
      ]
    },
    {
      "cell_type": "code",
      "metadata": {
        "id": "Xr-u9bHh6qbA",
        "colab_type": "code",
        "colab": {
          "base_uri": "https://localhost:8080/",
          "height": 71
        },
        "outputId": "8456f7a4-3a47-420f-c6c6-af645a847aae"
      },
      "source": [
        "# Import libraries\n",
        "# Basic libraries\n",
        "import pandas as pd\n",
        "import numpy as np\n",
        "\n",
        "# Preprocesing and feature extraction\n",
        "from sklearn.model_selection import KFold\n",
        "from itertools import product\n",
        "from sklearn import preprocessing\n",
        "from sklearn.feature_extraction.text import TfidfVectorizer\n",
        "\n",
        "# Modeling\n",
        "from sklearn.linear_model import LinearRegression\n",
        "from xgboost import XGBRegressor\n",
        "from xgboost import plot_importance\n",
        "\n",
        "# Ploting\n",
        "import matplotlib.pyplot as plt\n",
        "from matplotlib.pyplot import figure\n",
        "import seaborn as sns\n",
        "\n",
        "# To deal with downloaded files\n",
        "from google.colab import files\n",
        "\n",
        "# Others\n",
        "import time"
      ],
      "execution_count": 1,
      "outputs": [
        {
          "output_type": "stream",
          "text": [
            "/usr/local/lib/python3.6/dist-packages/statsmodels/tools/_testing.py:19: FutureWarning: pandas.util.testing is deprecated. Use the functions in the public API at pandas.testing instead.\n",
            "  import pandas.util.testing as tm\n"
          ],
          "name": "stderr"
        }
      ]
    },
    {
      "cell_type": "code",
      "metadata": {
        "id": "RWhrGXi38Jom",
        "colab_type": "code",
        "colab": {}
      },
      "source": [
        "# Functions used\n",
        "\n",
        "# Downcast variables \n",
        "def downcast(df):\n",
        "  '''\n",
        "    Change columns types from 64 to 32 bits\n",
        "  '''\n",
        "  float64columns = df.select_dtypes(['float64']).columns.tolist()\n",
        "  int64columns = df.select_dtypes(['int64']).columns.tolist()\n",
        "  df[float64columns] = df[float64columns].astype('float32')\n",
        "  df[int64columns] = df[int64columns].astype('int32')\n",
        "  return df\n",
        "\n",
        "# Averages of target variables\n",
        "def averagevalues(df, group, target):\n",
        "  '''\n",
        "  Takes a group of variables (from one two three) and a target variables to return the average \n",
        "  '''\n",
        "  grouped = df.groupby(group).agg({target: ['mean']})\n",
        "  \n",
        "  if (len(group) == 1):\n",
        "    grouped.columns = [group[0]+'_avg_'+target]\n",
        "  elif (len(group) == 2):\n",
        "    grouped.columns = [group[0]+'_'+group[1]+'_avg_'+target]\n",
        "  else:\n",
        "    grouped.columns = [group[0]+'_'+group[1]+'-'+group[2]+'_avg_'+target]\n",
        "\n",
        "  grouped.reset_index(inplace=True)\n",
        "  df = pd.merge(df, grouped, on=group, how='left')\n",
        "  return df\n",
        "\n",
        "# Function for mean encodings using LOO scheme\n",
        "def meaneconloo(df, groupvar):\n",
        "    \"\"\"\n",
        "    df: Pandas data frame that contains categorical and target features\n",
        "    catfeature: feature we want to create the mean encoding regularized through LOO scheme\n",
        "    \"\"\"\n",
        "    target_sum = df.groupby(groupvar)['target'].transform('sum')\n",
        "    n_objects  = df.groupby(groupvar)['target'].transform('count')\n",
        "    df[groupvar+'_target_ME'] = (target_sum - df['target']) / (n_objects - 1)\n",
        "    df[groupvar+'_target_ME'].fillna(df[groupvar+'_target_ME'].mean(), inplace=True)\n",
        "    print('Correlation of', groupvar, '_target_ME:', np.corrcoef(df['target'].values, df[groupvar+'_target_ME'].values)[0][1])\n",
        "    return df\n",
        "\n",
        "# Function for mean encoding with smothing method\n",
        "def me_smoothing(df, groupvar, alpha):\n",
        "  n_objects = df.groupby(groupvar)['target'].transform('count')\n",
        "  meantarget = df.groupby(groupvar)['target'].transform('mean')\n",
        "  df[groupvar+'_target_ME'] = (meantarget * n_objects + 0.3343 * alpha) / (n_objects + alpha)\n",
        "  print('Correlation of', groupvar, '_target_ME:', np.corrcoef(df['target'].values, df[groupvar+'_target_ME'].values)[0][1])\n",
        "  return df\n",
        "\n",
        "# Function for kfold mean target encoding\n",
        "def me_kfold(df, folds, groupvar):\n",
        "  df[groupvar+'_target_ME'] = 0\n",
        "  kf = KFold(folds, shuffle = False, random_state = 123)\n",
        "\n",
        "  for tr_ind_ME, val_ind_ME in kf.split(train):\n",
        "    X_tr_ME, X_val_ME = df.loc[tr_ind_ME], df.loc[val_ind_ME]\n",
        "    X_val_ME[groupvar+'_target_ME'] = X_val_ME[groupvar].map(X_tr_ME.groupby(groupvar).target.mean())\n",
        "    df.loc[val_ind_ME] = X_val_ME\n",
        "  df[groupvar+'_target_ME'].fillna(0.3343, inplace=True)\n",
        "  print('Correlation of', groupvar, '_target_ME:', np.corrcoef(df['target'].values, df[groupvar+'_target_ME'].values)[0][1])\n",
        "  return df\n",
        "\n",
        "# Function that creates the lags of given columns\n",
        "def lag_feature(df, lags, col):\n",
        "    tmp = df[['date_block_num','shop_id','item_id', col]]\n",
        "    for i in lags:\n",
        "        shifted = tmp.copy()\n",
        "        shifted.columns = ['date_block_num','shop_id','item_id', col+'_lag_'+ str(i)]\n",
        "        shifted['date_block_num'] += i\n",
        "        shifted[col+'_lag_'+ str(i)] = shifted[col+'_lag_'+ str(i)].astype('float16')\n",
        "        df = pd.merge(df, shifted, on=['date_block_num','shop_id','item_id'], how='left')\n",
        "    return df    "
      ],
      "execution_count": 0,
      "outputs": []
    },
    {
      "cell_type": "code",
      "metadata": {
        "id": "dVmnEFrM66HL",
        "colab_type": "code",
        "colab": {}
      },
      "source": [
        "# Load de the data\n",
        "transactions    = pd.read_csv('/content/drive/My Drive/DataScience/data/competitive-data-science-predict-future-sales/sales_train.csv')\n",
        "items           = pd.read_csv('/content/drive/My Drive/DataScience/data/competitive-data-science-predict-future-sales/items.csv')\n",
        "item_categories = pd.read_csv('/content/drive/My Drive/DataScience/data/competitive-data-science-predict-future-sales/item_categories.csv')\n",
        "shops           = pd.read_csv('/content/drive/My Drive/DataScience/data/competitive-data-science-predict-future-sales/shops.csv')\n",
        "transactions_test    = pd.read_csv('/content/drive/My Drive/DataScience/data/competitive-data-science-predict-future-sales/test.csv')\n"
      ],
      "execution_count": 0,
      "outputs": []
    },
    {
      "cell_type": "code",
      "metadata": {
        "id": "GEKnqvug6-gR",
        "colab_type": "code",
        "colab": {}
      },
      "source": [
        "index_cols = ['shop_id', 'item_id', 'date_block_num']\n",
        "\n",
        "# For every month we create a grid from all shops/items combinations from that month\n",
        "grid = [] \n",
        "for block_num in transactions['date_block_num'].unique():\n",
        "    cur_shops = transactions[transactions['date_block_num']==block_num]['shop_id'].unique()\n",
        "    cur_items = transactions[transactions['date_block_num']==block_num]['item_id'].unique()\n",
        "    grid.append(np.array(list(product(*[cur_shops, cur_items, [block_num]])), dtype = 'int16'))\n",
        "\n",
        "# Turn the grid into pandas dataframe\n",
        "grid = pd.DataFrame(np.vstack(grid), columns = index_cols, dtype = np.int32)\n",
        "\n",
        "# Get aggregated values of sales by shop_id, item_id\n",
        "gb = transactions.groupby(index_cols).agg({'item_cnt_day':'sum'})\n",
        "gb.columns = ['target']\n",
        "gb.reset_index(inplace = True)\n",
        "\n",
        "# Join aggregated data to the grid and sort the data\n",
        "train = pd.merge(grid, gb, how='left',on=index_cols).fillna(0)\n",
        "train['target'] = train['target'].clip(0,20)\n",
        "train.sort_values(['date_block_num','shop_id','item_id'],inplace=True)\n",
        "\n",
        "del grid, gb"
      ],
      "execution_count": 0,
      "outputs": []
    },
    {
      "cell_type": "code",
      "metadata": {
        "id": "y8lsFtHT84V9",
        "colab_type": "code",
        "colab": {}
      },
      "source": [
        "# Set ID as index and join train with test data\n",
        "transactions_test.set_index('ID', inplace = True)\n",
        "transactions_test['date_block_num'] = 34\n",
        "data = pd.concat([train, transactions_test], sort = False)\n",
        "data = downcast(data)\n",
        "\n",
        "del train"
      ],
      "execution_count": 0,
      "outputs": []
    },
    {
      "cell_type": "code",
      "metadata": {
        "id": "IemcyYVfcVG9",
        "colab_type": "code",
        "colab": {}
      },
      "source": [
        "# Add items and shops to test data\n",
        "data = pd.merge(data, items, on = ['item_id']) # Join item_name and item category\n",
        "data = pd.merge(data, shops, on = ['shop_id']) # Join shop_name\n",
        "del items, shops, item_categories, "
      ],
      "execution_count": 0,
      "outputs": []
    },
    {
      "cell_type": "code",
      "metadata": {
        "id": "6rb3wkSlchry",
        "colab_type": "code",
        "colab": {}
      },
      "source": [
        "data.columns\n",
        "data.fillna(0, inplace = True)"
      ],
      "execution_count": 0,
      "outputs": []
    },
    {
      "cell_type": "code",
      "metadata": {
        "id": "PJRsartIdv7L",
        "colab_type": "code",
        "colab": {
          "base_uri": "https://localhost:8080/",
          "height": 153
        },
        "outputId": "94cba051-b242-400e-f76a-8dd3dfca36f5"
      },
      "source": [
        "data.isnull().sum()"
      ],
      "execution_count": 8,
      "outputs": [
        {
          "output_type": "execute_result",
          "data": {
            "text/plain": [
              "shop_id             0\n",
              "item_id             0\n",
              "date_block_num      0\n",
              "target              0\n",
              "item_name           0\n",
              "item_category_id    0\n",
              "shop_name           0\n",
              "dtype: int64"
            ]
          },
          "metadata": {
            "tags": []
          },
          "execution_count": 8
        }
      ]
    },
    {
      "cell_type": "code",
      "metadata": {
        "id": "FrWjfu5mnPL2",
        "colab_type": "code",
        "colab": {
          "base_uri": "https://localhost:8080/",
          "height": 153
        },
        "outputId": "5d714798-86d9-421a-8b55-d0fbc7d7e4f4"
      },
      "source": [
        "# Mean encoding with smothing regularization  \n",
        "data\n",
        "# Simple grouping\n",
        "data = me_smoothing(data, 'date_block_num', 1000)\n",
        "data = me_smoothing(data, 'shop_id', 1000)\n",
        "data = me_smoothing(data, 'item_category_id', 1000)\n",
        "data = me_smoothing(data, 'item_id', 1000)\n",
        "\n",
        "# Pairs of vars\n",
        "data['date_item'] = data['date_block_num'].astype(str) + data['item_id'].astype(str)\n",
        "data['date_shop'] = data['date_block_num'].astype(str) + data['shop_id'].astype(str)\n",
        "data['date_cat'] = data['date_block_num'].astype(str) + data['item_category_id'].astype(str)\n",
        "data['shop_cat'] = data['shop_id'].astype(str) + data['item_category_id'].astype(str)\n",
        "\n",
        "data = me_smoothing(data, 'date_item', 1000)\n",
        "data = me_smoothing(data, 'date_shop', 1000)\n",
        "data = me_smoothing(data, 'date_cat', 1000)\n",
        "data = me_smoothing(data, 'shop_cat', 1000)\n",
        "\n",
        "data.drop(['date_item', 'date_shop', 'date_cat', 'shop_cat'], axis = 1, inplace=True)"
      ],
      "execution_count": 9,
      "outputs": [
        {
          "output_type": "stream",
          "text": [
            "Correlation of date_block_num _target_ME: 0.048936897848186695\n",
            "Correlation of shop_id _target_ME: 0.1684987545362801\n",
            "Correlation of item_category_id _target_ME: 0.2711956745324287\n",
            "Correlation of item_id _target_ME: 0.44899124275219743\n",
            "Correlation of date_item _target_ME: 0.6759509055847341\n",
            "Correlation of date_shop _target_ME: 0.1801690308247431\n",
            "Correlation of date_cat _target_ME: 0.2472532413833528\n",
            "Correlation of shop_cat _target_ME: 0.322386956135236\n"
          ],
          "name": "stdout"
        }
      ]
    },
    {
      "cell_type": "code",
      "metadata": {
        "id": "AvZu80Ox6wKp",
        "colab_type": "code",
        "colab": {
          "base_uri": "https://localhost:8080/",
          "height": 119
        },
        "outputId": "88ccb2b5-a54f-47d2-c548-f8d3bb803817"
      },
      "source": [
        "data.columns"
      ],
      "execution_count": 10,
      "outputs": [
        {
          "output_type": "execute_result",
          "data": {
            "text/plain": [
              "Index(['shop_id', 'item_id', 'date_block_num', 'target', 'item_name',\n",
              "       'item_category_id', 'shop_name', 'date_block_num_target_ME',\n",
              "       'shop_id_target_ME', 'item_category_id_target_ME', 'item_id_target_ME',\n",
              "       'date_item_target_ME', 'date_shop_target_ME', 'date_cat_target_ME',\n",
              "       'shop_cat_target_ME'],\n",
              "      dtype='object')"
            ]
          },
          "metadata": {
            "tags": []
          },
          "execution_count": 10
        }
      ]
    },
    {
      "cell_type": "code",
      "metadata": {
        "id": "koOh6nvY9QeI",
        "colab_type": "code",
        "colab": {
          "base_uri": "https://localhost:8080/",
          "height": 34
        },
        "outputId": "7cb25092-64bb-4ab2-cf19-c0e5ac376549"
      },
      "source": [
        "# Lagged values\n",
        "ts = time.time()\n",
        "\n",
        "data = lag_feature(data, [1, 2, 3, 4, 5, 12], 'target')\n",
        "data = lag_feature(data, [1, 2, 3, 4, 5, 12], 'date_block_num_target_ME')\n",
        "data = lag_feature(data, [1, 2, 3, 4, 5, 12], 'shop_id_target_ME')\n",
        "data = lag_feature(data, [1, 2, 3, 4, 5, 12], 'item_category_id_target_ME')\n",
        "data = lag_feature(data, [1, 2, 3, 4, 5, 12], 'item_id_target_ME')\n",
        "data = lag_feature(data, [1, 2, 3, 4, 5, 12], 'date_item_target_ME')\n",
        "data = lag_feature(data, [1, 2, 3, 4, 5, 12], 'date_shop_target_ME')\n",
        "data = lag_feature(data, [1, 2, 3, 4, 5, 12], 'date_cat_target_ME')\n",
        "data = lag_feature(data, [1, 2, 3, 4, 5, 12], 'shop_cat_target_ME')\n",
        "\n",
        "data = downcast(data)\n",
        "\n",
        "time.time() - ts"
      ],
      "execution_count": 11,
      "outputs": [
        {
          "output_type": "execute_result",
          "data": {
            "text/plain": [
              "369.10363960266113"
            ]
          },
          "metadata": {
            "tags": []
          },
          "execution_count": 11
        }
      ]
    },
    {
      "cell_type": "code",
      "metadata": {
        "id": "nqegq3ir_og-",
        "colab_type": "code",
        "colab": {}
      },
      "source": [
        "# Drop level 0 lagged features\n",
        "data.drop(['date_block_num_target_ME', 'shop_id_target_ME', 'item_category_id_target_ME', 'item_id_target_ME', 'date_item_target_ME', 'date_shop_target_ME', 'date_cat_target_ME', 'shop_cat_target_ME'], axis = 1, inplace = True) # Drop object columns\n",
        "data = downcast(data)"
      ],
      "execution_count": 0,
      "outputs": []
    },
    {
      "cell_type": "code",
      "metadata": {
        "id": "7PPCCLD79k6z",
        "colab_type": "code",
        "colab": {}
      },
      "source": [
        "data.fillna(0, inplace=True)\n",
        "data.drop(['item_name', 'shop_name'], axis = 1, inplace = True) # Drop object columns\n",
        "\n",
        "X_train = data[(data.date_block_num > 11) & (data.date_block_num < 33)].drop(['target'], axis=1)\n",
        "Y_train = data[(data.date_block_num > 11) & (data.date_block_num < 33)]['target']\n",
        "X_valid = data[data.date_block_num == 33].drop(['target'], axis=1)\n",
        "Y_valid = data[data.date_block_num == 33]['target']\n",
        "X_test = data[data.date_block_num == 34].drop(['target'], axis=1)\n",
        "\n",
        "# del data"
      ],
      "execution_count": 0,
      "outputs": []
    },
    {
      "cell_type": "code",
      "metadata": {
        "id": "2n0rV2l7-TUu",
        "colab_type": "code",
        "colab": {
          "base_uri": "https://localhost:8080/",
          "height": 1000
        },
        "outputId": "a4b66237-f79e-4bbb-fee3-866697e4bc6c"
      },
      "source": [
        "ts = time.time()\n",
        "\n",
        "model = XGBRegressor(\n",
        "    tree_method = \"gpu_hist\",\n",
        "    max_depth = 6, # Tree related parameter: determines how deeply each tree is allowed to grow during any boosting round\n",
        "    min_child_weight = 600, # \n",
        "    colsample_bytree=0.8, # percentage of features used per tree. High value can lead to overfitting\n",
        "    n_estimators = 500, # number of trees you want to build.\n",
        "    subsample=0.8, # Boosting parameter: percentage of samples used per tree. Low value can lead to underfitting\n",
        "    eta=0.3, #  Boosting parameter\n",
        "    seed=123)\n",
        "\n",
        "model.fit(\n",
        "    X_train, \n",
        "    Y_train, \n",
        "    eval_metric=\"rmse\", \n",
        "    eval_set=[(X_train, Y_train), (X_valid, Y_valid)], \n",
        "    verbose=True, \n",
        "    early_stopping_rounds = 10)\n",
        "\n",
        "time.time() - ts\n"
      ],
      "execution_count": 14,
      "outputs": [
        {
          "output_type": "stream",
          "text": [
            "[21:45:46] WARNING: /workspace/src/objective/regression_obj.cu:152: reg:linear is now deprecated in favor of reg:squarederror.\n",
            "[0]\tvalidation_0-rmse:1.16239\tvalidation_1-rmse:1.13017\n",
            "Multiple eval metrics have been passed: 'validation_1-rmse' will be used for early stopping.\n",
            "\n",
            "Will train until validation_1-rmse hasn't improved in 10 rounds.\n",
            "[1]\tvalidation_0-rmse:1.1187\tvalidation_1-rmse:1.09908\n",
            "[2]\tvalidation_0-rmse:1.08232\tvalidation_1-rmse:1.07248\n",
            "[3]\tvalidation_0-rmse:1.05118\tvalidation_1-rmse:1.05102\n",
            "[4]\tvalidation_0-rmse:1.0266\tvalidation_1-rmse:1.03453\n",
            "[5]\tvalidation_0-rmse:1.00344\tvalidation_1-rmse:1.01876\n",
            "[6]\tvalidation_0-rmse:0.984549\tvalidation_1-rmse:1.00572\n",
            "[7]\tvalidation_0-rmse:0.968328\tvalidation_1-rmse:0.995031\n",
            "[8]\tvalidation_0-rmse:0.954631\tvalidation_1-rmse:0.986295\n",
            "[9]\tvalidation_0-rmse:0.94294\tvalidation_1-rmse:0.979221\n",
            "[10]\tvalidation_0-rmse:0.932716\tvalidation_1-rmse:0.973415\n",
            "[11]\tvalidation_0-rmse:0.923522\tvalidation_1-rmse:0.968209\n",
            "[12]\tvalidation_0-rmse:0.91601\tvalidation_1-rmse:0.963852\n",
            "[13]\tvalidation_0-rmse:0.909581\tvalidation_1-rmse:0.960173\n",
            "[14]\tvalidation_0-rmse:0.903934\tvalidation_1-rmse:0.956687\n",
            "[15]\tvalidation_0-rmse:0.899063\tvalidation_1-rmse:0.953763\n",
            "[16]\tvalidation_0-rmse:0.893876\tvalidation_1-rmse:0.948983\n",
            "[17]\tvalidation_0-rmse:0.890579\tvalidation_1-rmse:0.94755\n",
            "[18]\tvalidation_0-rmse:0.887448\tvalidation_1-rmse:0.945902\n",
            "[19]\tvalidation_0-rmse:0.884065\tvalidation_1-rmse:0.944288\n",
            "[20]\tvalidation_0-rmse:0.881349\tvalidation_1-rmse:0.942999\n",
            "[21]\tvalidation_0-rmse:0.879186\tvalidation_1-rmse:0.942005\n",
            "[22]\tvalidation_0-rmse:0.876968\tvalidation_1-rmse:0.941142\n",
            "[23]\tvalidation_0-rmse:0.875379\tvalidation_1-rmse:0.940417\n",
            "[24]\tvalidation_0-rmse:0.873728\tvalidation_1-rmse:0.939624\n",
            "[25]\tvalidation_0-rmse:0.872582\tvalidation_1-rmse:0.939149\n",
            "[26]\tvalidation_0-rmse:0.871088\tvalidation_1-rmse:0.93827\n",
            "[27]\tvalidation_0-rmse:0.869783\tvalidation_1-rmse:0.937819\n",
            "[28]\tvalidation_0-rmse:0.868767\tvalidation_1-rmse:0.937304\n",
            "[29]\tvalidation_0-rmse:0.867786\tvalidation_1-rmse:0.936971\n",
            "[30]\tvalidation_0-rmse:0.866575\tvalidation_1-rmse:0.936557\n",
            "[31]\tvalidation_0-rmse:0.86571\tvalidation_1-rmse:0.935965\n",
            "[32]\tvalidation_0-rmse:0.864325\tvalidation_1-rmse:0.935324\n",
            "[33]\tvalidation_0-rmse:0.863358\tvalidation_1-rmse:0.934818\n",
            "[34]\tvalidation_0-rmse:0.862525\tvalidation_1-rmse:0.934589\n",
            "[35]\tvalidation_0-rmse:0.860151\tvalidation_1-rmse:0.931818\n",
            "[36]\tvalidation_0-rmse:0.859305\tvalidation_1-rmse:0.931605\n",
            "[37]\tvalidation_0-rmse:0.858264\tvalidation_1-rmse:0.931321\n",
            "[38]\tvalidation_0-rmse:0.857844\tvalidation_1-rmse:0.931206\n",
            "[39]\tvalidation_0-rmse:0.856797\tvalidation_1-rmse:0.930651\n",
            "[40]\tvalidation_0-rmse:0.856079\tvalidation_1-rmse:0.930513\n",
            "[41]\tvalidation_0-rmse:0.855631\tvalidation_1-rmse:0.930333\n",
            "[42]\tvalidation_0-rmse:0.855078\tvalidation_1-rmse:0.929896\n",
            "[43]\tvalidation_0-rmse:0.854459\tvalidation_1-rmse:0.929566\n",
            "[44]\tvalidation_0-rmse:0.854096\tvalidation_1-rmse:0.929438\n",
            "[45]\tvalidation_0-rmse:0.853532\tvalidation_1-rmse:0.9292\n",
            "[46]\tvalidation_0-rmse:0.852817\tvalidation_1-rmse:0.92901\n",
            "[47]\tvalidation_0-rmse:0.852254\tvalidation_1-rmse:0.928841\n",
            "[48]\tvalidation_0-rmse:0.850525\tvalidation_1-rmse:0.927077\n",
            "[49]\tvalidation_0-rmse:0.848452\tvalidation_1-rmse:0.92511\n",
            "[50]\tvalidation_0-rmse:0.848088\tvalidation_1-rmse:0.924824\n",
            "[51]\tvalidation_0-rmse:0.847429\tvalidation_1-rmse:0.924535\n",
            "[52]\tvalidation_0-rmse:0.846741\tvalidation_1-rmse:0.92436\n",
            "[53]\tvalidation_0-rmse:0.845185\tvalidation_1-rmse:0.922812\n",
            "[54]\tvalidation_0-rmse:0.84481\tvalidation_1-rmse:0.922659\n",
            "[55]\tvalidation_0-rmse:0.844533\tvalidation_1-rmse:0.922459\n",
            "[56]\tvalidation_0-rmse:0.843171\tvalidation_1-rmse:0.921348\n",
            "[57]\tvalidation_0-rmse:0.842768\tvalidation_1-rmse:0.921222\n",
            "[58]\tvalidation_0-rmse:0.842423\tvalidation_1-rmse:0.921117\n",
            "[59]\tvalidation_0-rmse:0.841696\tvalidation_1-rmse:0.921254\n",
            "[60]\tvalidation_0-rmse:0.841322\tvalidation_1-rmse:0.921107\n",
            "[61]\tvalidation_0-rmse:0.840988\tvalidation_1-rmse:0.921032\n",
            "[62]\tvalidation_0-rmse:0.840735\tvalidation_1-rmse:0.920951\n",
            "[63]\tvalidation_0-rmse:0.840148\tvalidation_1-rmse:0.920605\n",
            "[64]\tvalidation_0-rmse:0.839419\tvalidation_1-rmse:0.920655\n",
            "[65]\tvalidation_0-rmse:0.839046\tvalidation_1-rmse:0.920517\n",
            "[66]\tvalidation_0-rmse:0.838691\tvalidation_1-rmse:0.920593\n",
            "[67]\tvalidation_0-rmse:0.838433\tvalidation_1-rmse:0.920437\n",
            "[68]\tvalidation_0-rmse:0.838264\tvalidation_1-rmse:0.920314\n",
            "[69]\tvalidation_0-rmse:0.836919\tvalidation_1-rmse:0.919551\n",
            "[70]\tvalidation_0-rmse:0.836586\tvalidation_1-rmse:0.919569\n",
            "[71]\tvalidation_0-rmse:0.836358\tvalidation_1-rmse:0.919494\n",
            "[72]\tvalidation_0-rmse:0.836057\tvalidation_1-rmse:0.919237\n",
            "[73]\tvalidation_0-rmse:0.835582\tvalidation_1-rmse:0.918737\n",
            "[74]\tvalidation_0-rmse:0.835203\tvalidation_1-rmse:0.918731\n",
            "[75]\tvalidation_0-rmse:0.834819\tvalidation_1-rmse:0.918635\n",
            "[76]\tvalidation_0-rmse:0.833765\tvalidation_1-rmse:0.918079\n",
            "[77]\tvalidation_0-rmse:0.833582\tvalidation_1-rmse:0.917891\n",
            "[78]\tvalidation_0-rmse:0.833155\tvalidation_1-rmse:0.917826\n",
            "[79]\tvalidation_0-rmse:0.832031\tvalidation_1-rmse:0.9185\n",
            "[80]\tvalidation_0-rmse:0.831555\tvalidation_1-rmse:0.917938\n",
            "[81]\tvalidation_0-rmse:0.830778\tvalidation_1-rmse:0.917482\n",
            "[82]\tvalidation_0-rmse:0.83056\tvalidation_1-rmse:0.917336\n",
            "[83]\tvalidation_0-rmse:0.830355\tvalidation_1-rmse:0.91752\n",
            "[84]\tvalidation_0-rmse:0.830125\tvalidation_1-rmse:0.917374\n",
            "[85]\tvalidation_0-rmse:0.829853\tvalidation_1-rmse:0.917203\n",
            "[86]\tvalidation_0-rmse:0.829742\tvalidation_1-rmse:0.917082\n",
            "[87]\tvalidation_0-rmse:0.829321\tvalidation_1-rmse:0.916975\n",
            "[88]\tvalidation_0-rmse:0.829057\tvalidation_1-rmse:0.916934\n",
            "[89]\tvalidation_0-rmse:0.82862\tvalidation_1-rmse:0.917014\n",
            "[90]\tvalidation_0-rmse:0.828409\tvalidation_1-rmse:0.916935\n",
            "[91]\tvalidation_0-rmse:0.828126\tvalidation_1-rmse:0.916644\n",
            "[92]\tvalidation_0-rmse:0.827663\tvalidation_1-rmse:0.916437\n",
            "[93]\tvalidation_0-rmse:0.827506\tvalidation_1-rmse:0.916376\n",
            "[94]\tvalidation_0-rmse:0.827341\tvalidation_1-rmse:0.916364\n",
            "[95]\tvalidation_0-rmse:0.826973\tvalidation_1-rmse:0.916165\n",
            "[96]\tvalidation_0-rmse:0.826824\tvalidation_1-rmse:0.916102\n",
            "[97]\tvalidation_0-rmse:0.826521\tvalidation_1-rmse:0.915925\n",
            "[98]\tvalidation_0-rmse:0.826395\tvalidation_1-rmse:0.915855\n",
            "[99]\tvalidation_0-rmse:0.826172\tvalidation_1-rmse:0.915804\n",
            "[100]\tvalidation_0-rmse:0.825906\tvalidation_1-rmse:0.91565\n",
            "[101]\tvalidation_0-rmse:0.825774\tvalidation_1-rmse:0.915617\n",
            "[102]\tvalidation_0-rmse:0.825576\tvalidation_1-rmse:0.91556\n",
            "[103]\tvalidation_0-rmse:0.825328\tvalidation_1-rmse:0.91544\n",
            "[104]\tvalidation_0-rmse:0.82506\tvalidation_1-rmse:0.91541\n",
            "[105]\tvalidation_0-rmse:0.824933\tvalidation_1-rmse:0.915343\n",
            "[106]\tvalidation_0-rmse:0.824747\tvalidation_1-rmse:0.91517\n",
            "[107]\tvalidation_0-rmse:0.82461\tvalidation_1-rmse:0.915016\n",
            "[108]\tvalidation_0-rmse:0.824329\tvalidation_1-rmse:0.914815\n",
            "[109]\tvalidation_0-rmse:0.824143\tvalidation_1-rmse:0.914663\n",
            "[110]\tvalidation_0-rmse:0.824035\tvalidation_1-rmse:0.914532\n",
            "[111]\tvalidation_0-rmse:0.823867\tvalidation_1-rmse:0.914472\n",
            "[112]\tvalidation_0-rmse:0.823704\tvalidation_1-rmse:0.914421\n",
            "[113]\tvalidation_0-rmse:0.823608\tvalidation_1-rmse:0.914361\n",
            "[114]\tvalidation_0-rmse:0.823336\tvalidation_1-rmse:0.914306\n",
            "[115]\tvalidation_0-rmse:0.823194\tvalidation_1-rmse:0.914258\n",
            "[116]\tvalidation_0-rmse:0.822947\tvalidation_1-rmse:0.914196\n",
            "[117]\tvalidation_0-rmse:0.822817\tvalidation_1-rmse:0.914131\n",
            "[118]\tvalidation_0-rmse:0.822284\tvalidation_1-rmse:0.913938\n",
            "[119]\tvalidation_0-rmse:0.82201\tvalidation_1-rmse:0.913813\n",
            "[120]\tvalidation_0-rmse:0.821852\tvalidation_1-rmse:0.913737\n",
            "[121]\tvalidation_0-rmse:0.821331\tvalidation_1-rmse:0.913793\n",
            "[122]\tvalidation_0-rmse:0.821012\tvalidation_1-rmse:0.913772\n",
            "[123]\tvalidation_0-rmse:0.820843\tvalidation_1-rmse:0.913725\n",
            "[124]\tvalidation_0-rmse:0.820714\tvalidation_1-rmse:0.913727\n",
            "[125]\tvalidation_0-rmse:0.820545\tvalidation_1-rmse:0.913631\n",
            "[126]\tvalidation_0-rmse:0.820455\tvalidation_1-rmse:0.913611\n",
            "[127]\tvalidation_0-rmse:0.820066\tvalidation_1-rmse:0.913354\n",
            "[128]\tvalidation_0-rmse:0.819897\tvalidation_1-rmse:0.913294\n",
            "[129]\tvalidation_0-rmse:0.819733\tvalidation_1-rmse:0.913289\n",
            "[130]\tvalidation_0-rmse:0.81954\tvalidation_1-rmse:0.913224\n",
            "[131]\tvalidation_0-rmse:0.819102\tvalidation_1-rmse:0.913875\n",
            "[132]\tvalidation_0-rmse:0.818941\tvalidation_1-rmse:0.913863\n",
            "[133]\tvalidation_0-rmse:0.818839\tvalidation_1-rmse:0.913744\n",
            "[134]\tvalidation_0-rmse:0.818768\tvalidation_1-rmse:0.913737\n",
            "[135]\tvalidation_0-rmse:0.818619\tvalidation_1-rmse:0.913654\n",
            "[136]\tvalidation_0-rmse:0.818463\tvalidation_1-rmse:0.913581\n",
            "[137]\tvalidation_0-rmse:0.818337\tvalidation_1-rmse:0.913514\n",
            "[138]\tvalidation_0-rmse:0.817909\tvalidation_1-rmse:0.913061\n",
            "[139]\tvalidation_0-rmse:0.817796\tvalidation_1-rmse:0.91291\n",
            "[140]\tvalidation_0-rmse:0.817617\tvalidation_1-rmse:0.912779\n",
            "[141]\tvalidation_0-rmse:0.817468\tvalidation_1-rmse:0.912667\n",
            "[142]\tvalidation_0-rmse:0.817321\tvalidation_1-rmse:0.91274\n",
            "[143]\tvalidation_0-rmse:0.817216\tvalidation_1-rmse:0.912647\n",
            "[144]\tvalidation_0-rmse:0.817004\tvalidation_1-rmse:0.9125\n",
            "[145]\tvalidation_0-rmse:0.816753\tvalidation_1-rmse:0.912281\n",
            "[146]\tvalidation_0-rmse:0.816574\tvalidation_1-rmse:0.91203\n",
            "[147]\tvalidation_0-rmse:0.816362\tvalidation_1-rmse:0.912012\n",
            "[148]\tvalidation_0-rmse:0.81622\tvalidation_1-rmse:0.911986\n",
            "[149]\tvalidation_0-rmse:0.815746\tvalidation_1-rmse:0.911799\n",
            "[150]\tvalidation_0-rmse:0.815626\tvalidation_1-rmse:0.911735\n",
            "[151]\tvalidation_0-rmse:0.815379\tvalidation_1-rmse:0.911724\n",
            "[152]\tvalidation_0-rmse:0.815321\tvalidation_1-rmse:0.911678\n",
            "[153]\tvalidation_0-rmse:0.815251\tvalidation_1-rmse:0.911635\n",
            "[154]\tvalidation_0-rmse:0.81497\tvalidation_1-rmse:0.911561\n",
            "[155]\tvalidation_0-rmse:0.814709\tvalidation_1-rmse:0.911322\n",
            "[156]\tvalidation_0-rmse:0.814505\tvalidation_1-rmse:0.911166\n",
            "[157]\tvalidation_0-rmse:0.814423\tvalidation_1-rmse:0.911116\n",
            "[158]\tvalidation_0-rmse:0.81429\tvalidation_1-rmse:0.911009\n",
            "[159]\tvalidation_0-rmse:0.814223\tvalidation_1-rmse:0.911049\n",
            "[160]\tvalidation_0-rmse:0.814075\tvalidation_1-rmse:0.911024\n",
            "[161]\tvalidation_0-rmse:0.813975\tvalidation_1-rmse:0.910997\n",
            "[162]\tvalidation_0-rmse:0.813916\tvalidation_1-rmse:0.910993\n",
            "[163]\tvalidation_0-rmse:0.813871\tvalidation_1-rmse:0.910967\n",
            "[164]\tvalidation_0-rmse:0.813544\tvalidation_1-rmse:0.910499\n",
            "[165]\tvalidation_0-rmse:0.813438\tvalidation_1-rmse:0.91049\n",
            "[166]\tvalidation_0-rmse:0.81282\tvalidation_1-rmse:0.910316\n",
            "[167]\tvalidation_0-rmse:0.812642\tvalidation_1-rmse:0.910167\n",
            "[168]\tvalidation_0-rmse:0.81224\tvalidation_1-rmse:0.910694\n",
            "[169]\tvalidation_0-rmse:0.812146\tvalidation_1-rmse:0.910657\n",
            "[170]\tvalidation_0-rmse:0.812037\tvalidation_1-rmse:0.910621\n",
            "[171]\tvalidation_0-rmse:0.811895\tvalidation_1-rmse:0.910446\n",
            "[172]\tvalidation_0-rmse:0.811744\tvalidation_1-rmse:0.910673\n",
            "[173]\tvalidation_0-rmse:0.811555\tvalidation_1-rmse:0.91074\n",
            "[174]\tvalidation_0-rmse:0.811468\tvalidation_1-rmse:0.9107\n",
            "[175]\tvalidation_0-rmse:0.811394\tvalidation_1-rmse:0.910676\n",
            "[176]\tvalidation_0-rmse:0.811245\tvalidation_1-rmse:0.910584\n",
            "[177]\tvalidation_0-rmse:0.811135\tvalidation_1-rmse:0.910604\n",
            "Stopping. Best iteration:\n",
            "[167]\tvalidation_0-rmse:0.812642\tvalidation_1-rmse:0.910167\n",
            "\n"
          ],
          "name": "stdout"
        },
        {
          "output_type": "execute_result",
          "data": {
            "text/plain": [
              "35.4541118144989"
            ]
          },
          "metadata": {
            "tags": []
          },
          "execution_count": 14
        }
      ]
    },
    {
      "cell_type": "code",
      "metadata": {
        "id": "rkUnAPYa-qfc",
        "colab_type": "code",
        "colab": {
          "base_uri": "https://localhost:8080/",
          "height": 282
        },
        "outputId": "bfae8473-3913-4e6b-fce9-26f1f6c7f200"
      },
      "source": [
        "feat_importances = pd.Series(model.feature_importances_, index=X_train.columns)\n",
        "feat_importances.nlargest(15).plot(kind='barh')"
      ],
      "execution_count": 15,
      "outputs": [
        {
          "output_type": "execute_result",
          "data": {
            "text/plain": [
              "<matplotlib.axes._subplots.AxesSubplot at 0x7fd901614390>"
            ]
          },
          "metadata": {
            "tags": []
          },
          "execution_count": 15
        },
        {
          "output_type": "display_data",
          "data": {
            "image/png": "[encoded data removed]",
            "text/plain": [
              "<Figure size 432x288 with 1 Axes>"
            ]
          },
          "metadata": {
            "tags": [],
            "needs_background": "light"
          }
        }
      ]
    },
    {
      "cell_type": "code",
      "metadata": {
        "id": "8gj3WoGm-sd7",
        "colab_type": "code",
        "colab": {}
      },
      "source": [
        "Y_test = model.predict(X_test).clip(0, 20)\n",
        "testdata = X_test\n",
        "testdata['Y_test'] = Y_test\n",
        "\n",
        "# Add target variable to transactions_test and leave only ID and target\n",
        "transactions_test.reset_index(inplace = True)\n",
        "submition = pd.merge(transactions_test, testdata[['shop_id', 'item_id', 'Y_test']], on = ['shop_id', 'item_id'])\n",
        "submition = submition[['ID', 'Y_test']]\n",
        "submition.columns = ['ID', 'item_cnt_month']"
      ],
      "execution_count": 0,
      "outputs": []
    },
    {
      "cell_type": "code",
      "metadata": {
        "id": "OaaBIjeh-s48",
        "colab_type": "code",
        "colab": {}
      },
      "source": [
        "# Export results\n",
        "submition.to_csv('V16_Smooth1000_All11.csv', index=False)\n",
        "files.download('V16_Smooth1000_All11.csv')"
      ],
      "execution_count": 0,
      "outputs": []
    },
    {
      "cell_type": "markdown",
      "metadata": {
        "id": "k2WPL_ByIZmg",
        "colab_type": "text"
      },
      "source": [
        ""
      ]
    }
  ]
}