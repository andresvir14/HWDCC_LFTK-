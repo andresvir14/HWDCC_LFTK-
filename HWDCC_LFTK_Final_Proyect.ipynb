{
  "nbformat": 4,
  "nbformat_minor": 0,
  "metadata": {
    "colab": {
      "name": "HWDCC-LFTK Final Proyect.ipynb",
      "provenance": [],
      "collapsed_sections": [],
      "machine_shape": "hm",
      "mount_file_id": "18yVGbVoPNkJFI_ZrnlYuu-UU-7Ra8lRh",
      "authorship_tag": "ABX9TyNWs1Fv+MRv3rjF+q2C2W10",
      "include_colab_link": true
    },
    "kernelspec": {
      "name": "python3",
      "display_name": "Python 3"
    },
    "accelerator": "GPU"
  },
  "cells": [
    {
      "cell_type": "markdown",
      "metadata": {
        "id": "view-in-github",
        "colab_type": "text"
      },
      "source": [
        "<a href=\"https://colab.research.google.com/github/andresvir14/HWDCC_LFTK-/blob/master/HWDCC_LFTK_Final_Proyect.ipynb\" target=\"_parent\"><img src=\"https://colab.research.google.com/assets/colab-badge.svg\" alt=\"Open In Colab\"/></a>"
      ]
    },
    {
      "cell_type": "code",
      "metadata": {
        "id": "Xr-u9bHh6qbA",
        "colab_type": "code",
        "colab": {
          "base_uri": "https://localhost:8080/",
          "height": 71
        },
        "outputId": "f0dcc469-85e5-4422-e41d-c2a2d54d9fa7"
      },
      "source": [
        "# Import libraries\n",
        "# Basic libraries\n",
        "import pandas as pd\n",
        "import numpy as np\n",
        "\n",
        "# Preprocesing and feature extraction\n",
        "from sklearn.model_selection import KFold\n",
        "from itertools import product\n",
        "from sklearn import preprocessing\n",
        "from sklearn.feature_extraction.text import TfidfVectorizer\n",
        "\n",
        "# Modeling\n",
        "from sklearn.linear_model import LinearRegression\n",
        "from xgboost import XGBRegressor\n",
        "from xgboost import plot_importance\n",
        "\n",
        "# Ploting\n",
        "import matplotlib.pyplot as plt\n",
        "from matplotlib.pyplot import figure\n",
        "import seaborn as sns\n",
        "\n",
        "# To deal with downloaded files\n",
        "from google.colab import files\n",
        "\n",
        "# Others\n",
        "import time"
      ],
      "execution_count": 1,
      "outputs": [
        {
          "output_type": "stream",
          "text": [
            "/usr/local/lib/python3.6/dist-packages/statsmodels/tools/_testing.py:19: FutureWarning: pandas.util.testing is deprecated. Use the functions in the public API at pandas.testing instead.\n",
            "  import pandas.util.testing as tm\n"
          ],
          "name": "stderr"
        }
      ]
    },
    {
      "cell_type": "code",
      "metadata": {
        "id": "RWhrGXi38Jom",
        "colab_type": "code",
        "colab": {}
      },
      "source": [
        "# Functions used\n",
        "\n",
        "# Downcast variables \n",
        "def downcast(df):\n",
        "  '''\n",
        "    Change columns types from 64 to 32 bits\n",
        "  '''\n",
        "  float64columns = df.select_dtypes(['float64']).columns.tolist()\n",
        "  int64columns = df.select_dtypes(['int64']).columns.tolist()\n",
        "  df[float64columns] = df[float64columns].astype('float32')\n",
        "  df[int64columns] = df[int64columns].astype('int32')\n",
        "  return df\n",
        "\n",
        "# Averages of target variables\n",
        "def averagevalues(df, group, target):\n",
        "  '''\n",
        "  Takes a group of variables (from one two three) and a target variables to return the average \n",
        "  '''\n",
        "  grouped = df.groupby(group).agg({target: ['mean']})\n",
        "  \n",
        "  if (len(group) == 1):\n",
        "    grouped.columns = [group[0]+'_avg_'+target]\n",
        "  elif (len(group) == 2):\n",
        "    grouped.columns = [group[0]+'_'+group[1]+'_avg_'+target]\n",
        "  else:\n",
        "    grouped.columns = [group[0]+'_'+group[1]+'-'+group[2]+'_avg_'+target]\n",
        "\n",
        "  grouped.reset_index(inplace=True)\n",
        "  df = pd.merge(df, grouped, on=group, how='left')\n",
        "  return df\n",
        "\n",
        "# Function for mean encodings using LOO scheme\n",
        "def meaneconloo(df, groupvar):\n",
        "    \"\"\"\n",
        "    df: Pandas data frame that contains categorical and target features\n",
        "    catfeature: feature we want to create the mean encoding regularized through LOO scheme\n",
        "    \"\"\"\n",
        "    target_sum = df.groupby(groupvar)['target'].transform('sum')\n",
        "    n_objects  = df.groupby(groupvar)['target'].transform('count')\n",
        "    df[groupvar+'_target_ME'] = (target_sum - df['target']) / (n_objects - 1)\n",
        "    df[groupvar+'_target_ME'].fillna(df[groupvar+'_target_ME'].mean(), inplace=True)\n",
        "    print('Correlation of', groupvar, '_target_ME:', np.corrcoef(df['target'].values, df[groupvar+'_target_ME'].values)[0][1])\n",
        "    return df\n",
        "\n",
        "# Function for mean encoding with smothing method\n",
        "def me_smoothing(df, groupvar, alpha):\n",
        "  n_objects = df.groupby(groupvar)['target'].transform('count')\n",
        "  meantarget = df.groupby(groupvar)['target'].transform('mean')\n",
        "  df[groupvar+'_target_ME'] = (meantarget * n_objects + 0.3343 * alpha) / (n_objects + 100)\n",
        "  print('Correlation of', groupvar, '_target_ME:', np.corrcoef(df['target'].values, df[groupvar+'_target_ME'].values)[0][1])\n",
        "  return df\n",
        "\n",
        "# Function for kfold mean target encoding\n",
        "def me_kfold(df, folds, groupvar):\n",
        "  df[groupvar+'_target_ME'] = 0\n",
        "  kf = KFold(folds, shuffle = False, random_state = 123)\n",
        "\n",
        "  for tr_ind_ME, val_ind_ME in kf.split(train):\n",
        "    X_tr_ME, X_val_ME = df.loc[tr_ind_ME], df.loc[val_ind_ME]\n",
        "    X_val_ME[groupvar+'_target_ME'] = X_val_ME[groupvar].map(X_tr_ME.groupby(groupvar).target.mean())\n",
        "    df.loc[val_ind_ME] = X_val_ME\n",
        "  df[groupvar+'_target_ME'].fillna(0.3343, inplace=True)\n",
        "  print('Correlation of', groupvar, '_target_ME:', np.corrcoef(df['target'].values, df[groupvar+'_target_ME'].values)[0][1])\n",
        "  return df\n",
        "\n",
        "# Function that creates the lags of given columns\n",
        "def lag_feature(df, lags, col):\n",
        "    tmp = df[['date_block_num','shop_id','item_id', col]]\n",
        "    for i in lags:\n",
        "        shifted = tmp.copy()\n",
        "        shifted.columns = ['date_block_num','shop_id','item_id', col+'_lag_'+ str(i)]\n",
        "        shifted['date_block_num'] += i\n",
        "        shifted[col+'_lag_'+ str(i)] = shifted[col+'_lag_'+ str(i)].astype('float16')\n",
        "        df = pd.merge(df, shifted, on=['date_block_num','shop_id','item_id'], how='left')\n",
        "    return df    "
      ],
      "execution_count": 0,
      "outputs": []
    },
    {
      "cell_type": "code",
      "metadata": {
        "id": "dVmnEFrM66HL",
        "colab_type": "code",
        "colab": {}
      },
      "source": [
        "# Load de the data\n",
        "transactions    = pd.read_csv('/content/drive/My Drive/DataScience/data/competitive-data-science-predict-future-sales/sales_train.csv')\n",
        "items           = pd.read_csv('/content/drive/My Drive/DataScience/data/competitive-data-science-predict-future-sales/items.csv')\n",
        "item_categories = pd.read_csv('/content/drive/My Drive/DataScience/data/competitive-data-science-predict-future-sales/item_categories.csv')\n",
        "shops           = pd.read_csv('/content/drive/My Drive/DataScience/data/competitive-data-science-predict-future-sales/shops.csv')\n",
        "transactions_test    = pd.read_csv('/content/drive/My Drive/DataScience/data/competitive-data-science-predict-future-sales/test.csv')\n"
      ],
      "execution_count": 0,
      "outputs": []
    },
    {
      "cell_type": "code",
      "metadata": {
        "id": "GEKnqvug6-gR",
        "colab_type": "code",
        "colab": {}
      },
      "source": [
        "index_cols = ['shop_id', 'item_id', 'date_block_num']\n",
        "\n",
        "# For every month we create a grid from all shops/items combinations from that month\n",
        "grid = [] \n",
        "for block_num in transactions['date_block_num'].unique():\n",
        "    cur_shops = transactions[transactions['date_block_num']==block_num]['shop_id'].unique()\n",
        "    cur_items = transactions[transactions['date_block_num']==block_num]['item_id'].unique()\n",
        "    grid.append(np.array(list(product(*[cur_shops, cur_items, [block_num]])), dtype = 'int16'))\n",
        "\n",
        "# Turn the grid into pandas dataframe\n",
        "grid = pd.DataFrame(np.vstack(grid), columns = index_cols, dtype = np.int32)\n",
        "\n",
        "# Get aggregated values of sales by shop_id, item_id\n",
        "gb = transactions.groupby(index_cols).agg({'item_cnt_day':'sum'})\n",
        "gb.columns = ['target']\n",
        "gb.reset_index(inplace = True)\n",
        "\n",
        "# Join aggregated data to the grid and sort the data\n",
        "train = pd.merge(grid, gb, how='left',on=index_cols).fillna(0)\n",
        "train['target'] = train['target'].clip(0,20)\n",
        "train.sort_values(['date_block_num','shop_id','item_id'],inplace=True)\n",
        "\n",
        "del grid, gb"
      ],
      "execution_count": 0,
      "outputs": []
    },
    {
      "cell_type": "code",
      "metadata": {
        "id": "PSirxUgkmwbk",
        "colab_type": "code",
        "colab": {}
      },
      "source": [
        "# Add information from items and shops to train set\n",
        "train = pd.merge(train, items, on = ['item_id']) # Join item_name and item category\n",
        "train = pd.merge(train, shops, on = ['shop_id']) # Join shop_name"
      ],
      "execution_count": 0,
      "outputs": []
    },
    {
      "cell_type": "code",
      "metadata": {
        "id": "0MXOiCOMW0Z6",
        "colab_type": "code",
        "colab": {
          "base_uri": "https://localhost:8080/",
          "height": 68
        },
        "outputId": "a35e0156-d4a8-491b-ae67-5377410f2c8d"
      },
      "source": [
        "train.columns"
      ],
      "execution_count": 6,
      "outputs": [
        {
          "output_type": "execute_result",
          "data": {
            "text/plain": [
              "Index(['shop_id', 'item_id', 'date_block_num', 'target', 'item_name',\n",
              "       'item_category_id', 'shop_name'],\n",
              "      dtype='object')"
            ]
          },
          "metadata": {
            "tags": []
          },
          "execution_count": 6
        }
      ]
    },
    {
      "cell_type": "code",
      "metadata": {
        "id": "FrWjfu5mnPL2",
        "colab_type": "code",
        "colab": {
          "base_uri": "https://localhost:8080/",
          "height": 153
        },
        "outputId": "c533186a-1170-40da-c94d-8c21d8a10f02"
      },
      "source": [
        "# Mean encoding with regularization via 5 LOO\n",
        "\n",
        "\n",
        "# Simple grouping\n",
        "train = meaneconloo(train, 'date_block_num')\n",
        "train = meaneconloo(train, 'shop_id')\n",
        "train = meaneconloo(train, 'item_category_id')\n",
        "train = meaneconloo(train, 'item_id')\n",
        "\n",
        "# Pairs of vars\n",
        "train['date_item'] = train['date_block_num'].astype(str) + train['item_id'].astype(str)\n",
        "train['date_shop'] = train['date_block_num'].astype(str) + train['shop_id'].astype(str)\n",
        "train['date_cat'] = train['date_block_num'].astype(str) + train['item_category_id'].astype(str)\n",
        "train['shop_cat'] = train['shop_id'].astype(str) + train['item_category_id'].astype(str)\n",
        "\n",
        "train = meaneconloo(train, 'date_item')\n",
        "train = meaneconloo(train, 'date_shop')\n",
        "train = meaneconloo(train, 'date_cat')\n",
        "train = meaneconloo(train, 'shop_cat')\n",
        "\n",
        "train.drop(['date_item', 'date_shop', 'date_cat', 'shop_cat'], axis = 1, inplace=True)"
      ],
      "execution_count": 7,
      "outputs": [
        {
          "output_type": "stream",
          "text": [
            "Correlation of date_block_num _target_ME: 0.03529345938812909\n",
            "Correlation of shop_id _target_ME: 0.16977596810299045\n",
            "Correlation of item_category_id _target_ME: 0.27951578820932094\n",
            "Correlation of item_id _target_ME: 0.47686723782986634\n",
            "Correlation of date_item _target_ME: 0.6672399993848713\n",
            "Correlation of date_shop _target_ME: 0.17660571433343333\n",
            "Correlation of date_cat _target_ME: 0.31981799388960624\n",
            "Correlation of shop_cat _target_ME: 0.38710724247539197\n"
          ],
          "name": "stdout"
        }
      ]
    },
    {
      "cell_type": "code",
      "metadata": {
        "id": "y8lsFtHT84V9",
        "colab_type": "code",
        "colab": {}
      },
      "source": [
        "# Add items and shops to test data\n",
        "test = pd.merge(transactions_test, items, on = ['item_id']) # Join item_name and item category\n",
        "test = pd.merge(test, shops, on = ['shop_id']) # Join shop_name\n",
        "\n",
        "# Set ID as index and join train with test data\n",
        "test.set_index('ID', inplace = True)\n",
        "test['date_block_num'] = 34\n",
        "data = pd.concat([train, test], sort = False)\n",
        "data = downcast(data)\n",
        "\n",
        "del items, shops, item_categories, test, train"
      ],
      "execution_count": 0,
      "outputs": []
    },
    {
      "cell_type": "code",
      "metadata": {
        "id": "AvZu80Ox6wKp",
        "colab_type": "code",
        "colab": {
          "base_uri": "https://localhost:8080/",
          "height": 119
        },
        "outputId": "232a8775-fcd0-4796-9a6e-bbef874cea1d"
      },
      "source": [
        "data.columns"
      ],
      "execution_count": 9,
      "outputs": [
        {
          "output_type": "execute_result",
          "data": {
            "text/plain": [
              "Index(['shop_id', 'item_id', 'date_block_num', 'target', 'item_name',\n",
              "       'item_category_id', 'shop_name', 'date_block_num_target_ME',\n",
              "       'shop_id_target_ME', 'item_category_id_target_ME', 'item_id_target_ME',\n",
              "       'date_item_target_ME', 'date_shop_target_ME', 'date_cat_target_ME',\n",
              "       'shop_cat_target_ME'],\n",
              "      dtype='object')"
            ]
          },
          "metadata": {
            "tags": []
          },
          "execution_count": 9
        }
      ]
    },
    {
      "cell_type": "code",
      "metadata": {
        "id": "koOh6nvY9QeI",
        "colab_type": "code",
        "colab": {
          "base_uri": "https://localhost:8080/",
          "height": 34
        },
        "outputId": "accfb11f-e182-44a8-cc1f-26c9a9075e19"
      },
      "source": [
        "# Lagged values\n",
        "ts = time.time()\n",
        "\n",
        "data = lag_feature(data, [1, 2, 3, 4, 5, 12], 'target')\n",
        "data = lag_feature(data, [1, 2, 3, 4, 5, 12], 'date_block_num_target_ME')\n",
        "data = lag_feature(data, [1, 2, 3, 4, 5, 12], 'shop_id_target_ME')\n",
        "data = lag_feature(data, [1, 2, 3, 4, 5, 12], 'item_category_id_target_ME')\n",
        "data = lag_feature(data, [1, 2, 3, 4, 5, 12], 'item_id_target_ME')\n",
        "data = lag_feature(data, [1, 2, 3, 4, 5, 12], 'date_item_target_ME')\n",
        "data = lag_feature(data, [1, 2, 3, 4, 5, 12], 'date_shop_target_ME')\n",
        "data = lag_feature(data, [1, 2, 3, 4, 5, 12], 'date_cat_target_ME')\n",
        "data = lag_feature(data, [1, 2, 3, 4, 5, 12], 'shop_cat_target_ME')\n",
        "\n",
        "data = downcast(data)\n",
        "\n",
        "time.time() - ts"
      ],
      "execution_count": 10,
      "outputs": [
        {
          "output_type": "execute_result",
          "data": {
            "text/plain": [
              "511.6809437274933"
            ]
          },
          "metadata": {
            "tags": []
          },
          "execution_count": 10
        }
      ]
    },
    {
      "cell_type": "code",
      "metadata": {
        "id": "nqegq3ir_og-",
        "colab_type": "code",
        "colab": {}
      },
      "source": [
        "# Drop level 0 lagged features\n",
        "data.drop(['date_block_num_target_ME', 'shop_id_target_ME', 'item_category_id_target_ME', 'item_id_target_ME', 'date_item_target_ME', 'date_shop_target_ME', 'date_cat_target_ME', 'shop_cat_target_ME'], axis = 1, inplace = True) # Drop object columns\n",
        "data = downcast(data)"
      ],
      "execution_count": 0,
      "outputs": []
    },
    {
      "cell_type": "code",
      "metadata": {
        "id": "7PPCCLD79k6z",
        "colab_type": "code",
        "colab": {}
      },
      "source": [
        "data.fillna(0, inplace=True)\n",
        "data.drop(['item_name', 'shop_name'], axis = 1, inplace = True) # Drop object columns\n",
        "\n",
        "X_train = data[(data.date_block_num > 11) & (data.date_block_num < 33)].drop(['target'], axis=1)\n",
        "Y_train = data[(data.date_block_num > 11) & (data.date_block_num < 33)]['target']\n",
        "X_valid = data[data.date_block_num == 33].drop(['target'], axis=1)\n",
        "Y_valid = data[data.date_block_num == 33]['target']\n",
        "X_test = data[data.date_block_num == 34].drop(['target'], axis=1)\n",
        "\n",
        "# del data"
      ],
      "execution_count": 0,
      "outputs": []
    },
    {
      "cell_type": "code",
      "metadata": {
        "id": "2n0rV2l7-TUu",
        "colab_type": "code",
        "colab": {
          "base_uri": "https://localhost:8080/",
          "height": 1000
        },
        "outputId": "82c17f22-1d43-418c-8024-cd36380f5d65"
      },
      "source": [
        "ts = time.time()\n",
        "\n",
        "model = XGBRegressor(\n",
        "    tree_method = \"gpu_hist\",\n",
        "    max_depth = 6, # Tree related parameter: determines how deeply each tree is allowed to grow during any boosting round\n",
        "    min_child_weight = 600, # \n",
        "    colsample_bytree=0.8, # percentage of features used per tree. High value can lead to overfitting\n",
        "    n_estimators = 500, # number of trees you want to build.\n",
        "    subsample=0.8, # Boosting parameter: percentage of samples used per tree. Low value can lead to underfitting\n",
        "    eta=0.3, #  Boosting parameter\n",
        "    seed=123)\n",
        "\n",
        "model.fit(\n",
        "    X_train, \n",
        "    Y_train, \n",
        "    eval_metric=\"rmse\", \n",
        "    eval_set=[(X_train, Y_train), (X_valid, Y_valid)], \n",
        "    verbose=True, \n",
        "    early_stopping_rounds = 10)\n",
        "\n",
        "time.time() - ts\n"
      ],
      "execution_count": 13,
      "outputs": [
        {
          "output_type": "stream",
          "text": [
            "[15:42:17] WARNING: /workspace/src/objective/regression_obj.cu:152: reg:linear is now deprecated in favor of reg:squarederror.\n",
            "[0]\tvalidation_0-rmse:1.16363\tvalidation_1-rmse:1.12807\n",
            "Multiple eval metrics have been passed: 'validation_1-rmse' will be used for early stopping.\n",
            "\n",
            "Will train until validation_1-rmse hasn't improved in 10 rounds.\n",
            "[1]\tvalidation_0-rmse:1.11958\tvalidation_1-rmse:1.09451\n",
            "[2]\tvalidation_0-rmse:1.08278\tvalidation_1-rmse:1.0673\n",
            "[3]\tvalidation_0-rmse:1.05117\tvalidation_1-rmse:1.04472\n",
            "[4]\tvalidation_0-rmse:1.02642\tvalidation_1-rmse:1.02762\n",
            "[5]\tvalidation_0-rmse:1.0032\tvalidation_1-rmse:1.0125\n",
            "[6]\tvalidation_0-rmse:0.984191\tvalidation_1-rmse:1.00077\n",
            "[7]\tvalidation_0-rmse:0.967923\tvalidation_1-rmse:0.991142\n",
            "[8]\tvalidation_0-rmse:0.954109\tvalidation_1-rmse:0.982428\n",
            "[9]\tvalidation_0-rmse:0.942167\tvalidation_1-rmse:0.975385\n",
            "[10]\tvalidation_0-rmse:0.93192\tvalidation_1-rmse:0.970278\n",
            "[11]\tvalidation_0-rmse:0.923598\tvalidation_1-rmse:0.966962\n",
            "[12]\tvalidation_0-rmse:0.91479\tvalidation_1-rmse:0.960818\n",
            "[13]\tvalidation_0-rmse:0.90823\tvalidation_1-rmse:0.957936\n",
            "[14]\tvalidation_0-rmse:0.902547\tvalidation_1-rmse:0.955332\n",
            "[15]\tvalidation_0-rmse:0.898086\tvalidation_1-rmse:0.953493\n",
            "[16]\tvalidation_0-rmse:0.894113\tvalidation_1-rmse:0.951669\n",
            "[17]\tvalidation_0-rmse:0.889851\tvalidation_1-rmse:0.948692\n",
            "[18]\tvalidation_0-rmse:0.886204\tvalidation_1-rmse:0.947958\n",
            "[19]\tvalidation_0-rmse:0.883147\tvalidation_1-rmse:0.947937\n",
            "[20]\tvalidation_0-rmse:0.880863\tvalidation_1-rmse:0.947049\n",
            "[21]\tvalidation_0-rmse:0.878775\tvalidation_1-rmse:0.947036\n",
            "[22]\tvalidation_0-rmse:0.876325\tvalidation_1-rmse:0.946348\n",
            "[23]\tvalidation_0-rmse:0.873881\tvalidation_1-rmse:0.944528\n",
            "[24]\tvalidation_0-rmse:0.872269\tvalidation_1-rmse:0.944406\n",
            "[25]\tvalidation_0-rmse:0.871065\tvalidation_1-rmse:0.94403\n",
            "[26]\tvalidation_0-rmse:0.869638\tvalidation_1-rmse:0.943813\n",
            "[27]\tvalidation_0-rmse:0.868343\tvalidation_1-rmse:0.943471\n",
            "[28]\tvalidation_0-rmse:0.867405\tvalidation_1-rmse:0.943107\n",
            "[29]\tvalidation_0-rmse:0.866092\tvalidation_1-rmse:0.942097\n",
            "[30]\tvalidation_0-rmse:0.864939\tvalidation_1-rmse:0.942042\n",
            "[31]\tvalidation_0-rmse:0.863978\tvalidation_1-rmse:0.942569\n",
            "[32]\tvalidation_0-rmse:0.863104\tvalidation_1-rmse:0.942836\n",
            "[33]\tvalidation_0-rmse:0.862058\tvalidation_1-rmse:0.942697\n",
            "[34]\tvalidation_0-rmse:0.861292\tvalidation_1-rmse:0.942973\n",
            "[35]\tvalidation_0-rmse:0.860522\tvalidation_1-rmse:0.943606\n",
            "[36]\tvalidation_0-rmse:0.859727\tvalidation_1-rmse:0.943243\n",
            "[37]\tvalidation_0-rmse:0.859026\tvalidation_1-rmse:0.942355\n",
            "[38]\tvalidation_0-rmse:0.858256\tvalidation_1-rmse:0.940819\n",
            "[39]\tvalidation_0-rmse:0.857579\tvalidation_1-rmse:0.941473\n",
            "[40]\tvalidation_0-rmse:0.857095\tvalidation_1-rmse:0.94094\n",
            "[41]\tvalidation_0-rmse:0.855701\tvalidation_1-rmse:0.940048\n",
            "[42]\tvalidation_0-rmse:0.855203\tvalidation_1-rmse:0.940636\n",
            "[43]\tvalidation_0-rmse:0.85462\tvalidation_1-rmse:0.940407\n",
            "[44]\tvalidation_0-rmse:0.85426\tvalidation_1-rmse:0.940212\n",
            "[45]\tvalidation_0-rmse:0.853723\tvalidation_1-rmse:0.940312\n",
            "[46]\tvalidation_0-rmse:0.852299\tvalidation_1-rmse:0.93925\n",
            "[47]\tvalidation_0-rmse:0.851903\tvalidation_1-rmse:0.939005\n",
            "[48]\tvalidation_0-rmse:0.849803\tvalidation_1-rmse:0.937763\n",
            "[49]\tvalidation_0-rmse:0.848599\tvalidation_1-rmse:0.936305\n",
            "[50]\tvalidation_0-rmse:0.848378\tvalidation_1-rmse:0.936074\n",
            "[51]\tvalidation_0-rmse:0.8477\tvalidation_1-rmse:0.936097\n",
            "[52]\tvalidation_0-rmse:0.847051\tvalidation_1-rmse:0.935127\n",
            "[53]\tvalidation_0-rmse:0.846802\tvalidation_1-rmse:0.935054\n",
            "[54]\tvalidation_0-rmse:0.846473\tvalidation_1-rmse:0.934624\n",
            "[55]\tvalidation_0-rmse:0.84613\tvalidation_1-rmse:0.935386\n",
            "[56]\tvalidation_0-rmse:0.845127\tvalidation_1-rmse:0.93313\n",
            "[57]\tvalidation_0-rmse:0.844772\tvalidation_1-rmse:0.933527\n",
            "[58]\tvalidation_0-rmse:0.844499\tvalidation_1-rmse:0.933274\n",
            "[59]\tvalidation_0-rmse:0.84358\tvalidation_1-rmse:0.933769\n",
            "[60]\tvalidation_0-rmse:0.843071\tvalidation_1-rmse:0.933692\n",
            "[61]\tvalidation_0-rmse:0.842837\tvalidation_1-rmse:0.93403\n",
            "[62]\tvalidation_0-rmse:0.842392\tvalidation_1-rmse:0.933749\n",
            "[63]\tvalidation_0-rmse:0.842133\tvalidation_1-rmse:0.933522\n",
            "[64]\tvalidation_0-rmse:0.841421\tvalidation_1-rmse:0.933332\n",
            "[65]\tvalidation_0-rmse:0.840338\tvalidation_1-rmse:0.932544\n",
            "[66]\tvalidation_0-rmse:0.840158\tvalidation_1-rmse:0.93243\n",
            "[67]\tvalidation_0-rmse:0.83947\tvalidation_1-rmse:0.932386\n",
            "[68]\tvalidation_0-rmse:0.839256\tvalidation_1-rmse:0.932375\n",
            "[69]\tvalidation_0-rmse:0.838753\tvalidation_1-rmse:0.931332\n",
            "[70]\tvalidation_0-rmse:0.838445\tvalidation_1-rmse:0.931508\n",
            "[71]\tvalidation_0-rmse:0.837671\tvalidation_1-rmse:0.931526\n",
            "[72]\tvalidation_0-rmse:0.837172\tvalidation_1-rmse:0.930872\n",
            "[73]\tvalidation_0-rmse:0.83693\tvalidation_1-rmse:0.930829\n",
            "[74]\tvalidation_0-rmse:0.836749\tvalidation_1-rmse:0.931136\n",
            "[75]\tvalidation_0-rmse:0.836556\tvalidation_1-rmse:0.931174\n",
            "[76]\tvalidation_0-rmse:0.836309\tvalidation_1-rmse:0.93118\n",
            "[77]\tvalidation_0-rmse:0.836116\tvalidation_1-rmse:0.930864\n",
            "[78]\tvalidation_0-rmse:0.835888\tvalidation_1-rmse:0.930668\n",
            "[79]\tvalidation_0-rmse:0.835701\tvalidation_1-rmse:0.930796\n",
            "[80]\tvalidation_0-rmse:0.835323\tvalidation_1-rmse:0.930013\n",
            "[81]\tvalidation_0-rmse:0.835114\tvalidation_1-rmse:0.929757\n",
            "[82]\tvalidation_0-rmse:0.83486\tvalidation_1-rmse:0.929743\n",
            "[83]\tvalidation_0-rmse:0.834627\tvalidation_1-rmse:0.92972\n",
            "[84]\tvalidation_0-rmse:0.834096\tvalidation_1-rmse:0.929537\n",
            "[85]\tvalidation_0-rmse:0.833464\tvalidation_1-rmse:0.929582\n",
            "[86]\tvalidation_0-rmse:0.833314\tvalidation_1-rmse:0.929411\n",
            "[87]\tvalidation_0-rmse:0.832937\tvalidation_1-rmse:0.929479\n",
            "[88]\tvalidation_0-rmse:0.832558\tvalidation_1-rmse:0.929067\n",
            "[89]\tvalidation_0-rmse:0.832144\tvalidation_1-rmse:0.928778\n",
            "[90]\tvalidation_0-rmse:0.831568\tvalidation_1-rmse:0.929021\n",
            "[91]\tvalidation_0-rmse:0.83142\tvalidation_1-rmse:0.929172\n",
            "[92]\tvalidation_0-rmse:0.830999\tvalidation_1-rmse:0.928357\n",
            "[93]\tvalidation_0-rmse:0.830802\tvalidation_1-rmse:0.92797\n",
            "[94]\tvalidation_0-rmse:0.830556\tvalidation_1-rmse:0.927607\n",
            "[95]\tvalidation_0-rmse:0.830205\tvalidation_1-rmse:0.927507\n",
            "[96]\tvalidation_0-rmse:0.829955\tvalidation_1-rmse:0.927112\n",
            "[97]\tvalidation_0-rmse:0.829618\tvalidation_1-rmse:0.926748\n",
            "[98]\tvalidation_0-rmse:0.829465\tvalidation_1-rmse:0.926762\n",
            "[99]\tvalidation_0-rmse:0.829182\tvalidation_1-rmse:0.926428\n",
            "[100]\tvalidation_0-rmse:0.829031\tvalidation_1-rmse:0.926399\n",
            "[101]\tvalidation_0-rmse:0.828931\tvalidation_1-rmse:0.926364\n",
            "[102]\tvalidation_0-rmse:0.828724\tvalidation_1-rmse:0.926542\n",
            "[103]\tvalidation_0-rmse:0.828558\tvalidation_1-rmse:0.926289\n",
            "[104]\tvalidation_0-rmse:0.828201\tvalidation_1-rmse:0.92644\n",
            "[105]\tvalidation_0-rmse:0.827903\tvalidation_1-rmse:0.925921\n",
            "[106]\tvalidation_0-rmse:0.827711\tvalidation_1-rmse:0.926203\n",
            "[107]\tvalidation_0-rmse:0.827564\tvalidation_1-rmse:0.926366\n",
            "[108]\tvalidation_0-rmse:0.827439\tvalidation_1-rmse:0.926226\n",
            "[109]\tvalidation_0-rmse:0.827332\tvalidation_1-rmse:0.926369\n",
            "[110]\tvalidation_0-rmse:0.827216\tvalidation_1-rmse:0.926266\n",
            "[111]\tvalidation_0-rmse:0.827032\tvalidation_1-rmse:0.92641\n",
            "[112]\tvalidation_0-rmse:0.826906\tvalidation_1-rmse:0.926663\n",
            "[113]\tvalidation_0-rmse:0.826749\tvalidation_1-rmse:0.926607\n",
            "[114]\tvalidation_0-rmse:0.826511\tvalidation_1-rmse:0.926608\n",
            "[115]\tvalidation_0-rmse:0.825864\tvalidation_1-rmse:0.926762\n",
            "Stopping. Best iteration:\n",
            "[105]\tvalidation_0-rmse:0.827903\tvalidation_1-rmse:0.925921\n",
            "\n"
          ],
          "name": "stdout"
        },
        {
          "output_type": "execute_result",
          "data": {
            "text/plain": [
              "601.9022018909454"
            ]
          },
          "metadata": {
            "tags": []
          },
          "execution_count": 13
        }
      ]
    },
    {
      "cell_type": "code",
      "metadata": {
        "id": "rkUnAPYa-qfc",
        "colab_type": "code",
        "colab": {
          "base_uri": "https://localhost:8080/",
          "height": 282
        },
        "outputId": "40de8cbc-7635-401e-bd44-13e2b5eaf588"
      },
      "source": [
        "feat_importances = pd.Series(model.feature_importances_, index=X_train.columns)\n",
        "feat_importances.nlargest(15).plot(kind='barh')"
      ],
      "execution_count": 14,
      "outputs": [
        {
          "output_type": "execute_result",
          "data": {
            "text/plain": [
              "<matplotlib.axes._subplots.AxesSubplot at 0x7f66ec7a2278>"
            ]
          },
          "metadata": {
            "tags": []
          },
          "execution_count": 14
        },
        {
          "output_type": "display_data",
          "data": {
            "image/png": "[encoded data removed]",
            "text/plain": [
              "<Figure size 432x288 with 1 Axes>"
            ]
          },
          "metadata": {
            "tags": [],
            "needs_background": "light"
          }
        }
      ]
    },
    {
      "cell_type": "code",
      "metadata": {
        "id": "8gj3WoGm-sd7",
        "colab_type": "code",
        "colab": {}
      },
      "source": [
        "Y_test = model.predict(X_test).clip(0, 20)\n",
        "testdata = X_test\n",
        "testdata['Y_test'] = Y_test\n",
        "\n",
        "# Add target variable to transactions_test and leave only ID and target\n",
        "transactions_test.reset_index(inplace = True)\n",
        "submition = pd.merge(transactions_test, testdata[['shop_id', 'item_id', 'Y_test']], on = ['shop_id', 'item_id'])\n",
        "submition = submition[['ID', 'Y_test']]\n",
        "submition.columns = ['ID', 'item_cnt_month']"
      ],
      "execution_count": 0,
      "outputs": []
    },
    {
      "cell_type": "code",
      "metadata": {
        "id": "OaaBIjeh-s48",
        "colab_type": "code",
        "colab": {}
      },
      "source": [
        "# Export results\n",
        "submition.to_csv('V7_LOO_Train11.csv', index=False)\n",
        "files.download('V7_LOO_Train11.csv')"
      ],
      "execution_count": 0,
      "outputs": []
    },
    {
      "cell_type": "markdown",
      "metadata": {
        "id": "k2WPL_ByIZmg",
        "colab_type": "text"
      },
      "source": [
        ""
      ]
    }
  ]
}