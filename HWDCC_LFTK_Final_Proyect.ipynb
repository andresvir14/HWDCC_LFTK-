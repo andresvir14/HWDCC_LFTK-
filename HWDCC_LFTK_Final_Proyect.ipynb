{
  "nbformat": 4,
  "nbformat_minor": 0,
  "metadata": {
    "colab": {
      "name": "HWDCC-LFTK Final Proyect.ipynb",
      "provenance": [],
      "collapsed_sections": [],
      "machine_shape": "hm",
      "mount_file_id": "18yVGbVoPNkJFI_ZrnlYuu-UU-7Ra8lRh",
      "authorship_tag": "ABX9TyPb/n5l1FCXBuYyvre4EHYq",
      "include_colab_link": true
    },
    "kernelspec": {
      "name": "python3",
      "display_name": "Python 3"
    },
    "accelerator": "GPU"
  },
  "cells": [
    {
      "cell_type": "markdown",
      "metadata": {
        "id": "view-in-github",
        "colab_type": "text"
      },
      "source": [
        "<a href=\"https://colab.research.google.com/github/andresvir14/HWDCC_LFTK-/blob/master/HWDCC_LFTK_Final_Proyect.ipynb\" target=\"_parent\"><img src=\"https://colab.research.google.com/assets/colab-badge.svg\" alt=\"Open In Colab\"/></a>"
      ]
    },
    {
      "cell_type": "code",
      "metadata": {
        "id": "Xr-u9bHh6qbA",
        "colab_type": "code",
        "colab": {
          "base_uri": "https://localhost:8080/",
          "height": 71
        },
        "outputId": "55a1602b-15ce-4225-c59c-9a214d8a5372"
      },
      "source": [
        "# Import libraries\n",
        "# Basic libraries\n",
        "import pandas as pd\n",
        "import numpy as np\n",
        "\n",
        "# Preprocesing and feature extraction\n",
        "from sklearn.model_selection import KFold\n",
        "from itertools import product\n",
        "from sklearn import preprocessing\n",
        "from sklearn.feature_extraction.text import TfidfVectorizer\n",
        "\n",
        "# Modeling\n",
        "from sklearn.linear_model import LinearRegression\n",
        "from xgboost import XGBRegressor\n",
        "from xgboost import plot_importance\n",
        "\n",
        "# Ploting\n",
        "import matplotlib.pyplot as plt\n",
        "from matplotlib.pyplot import figure\n",
        "import seaborn as sns\n",
        "\n",
        "# To deal with downloaded files\n",
        "from google.colab import files\n",
        "\n",
        "# Others\n",
        "import time"
      ],
      "execution_count": 1,
      "outputs": [
        {
          "output_type": "stream",
          "text": [
            "/usr/local/lib/python3.6/dist-packages/statsmodels/tools/_testing.py:19: FutureWarning: pandas.util.testing is deprecated. Use the functions in the public API at pandas.testing instead.\n",
            "  import pandas.util.testing as tm\n"
          ],
          "name": "stderr"
        }
      ]
    },
    {
      "cell_type": "code",
      "metadata": {
        "id": "RWhrGXi38Jom",
        "colab_type": "code",
        "colab": {}
      },
      "source": [
        "# Functions used\n",
        "\n",
        "# Downcast variables \n",
        "def downcast(df):\n",
        "  '''\n",
        "    Change columns types from 64 to 32 bits\n",
        "  '''\n",
        "  float64columns = df.select_dtypes(['float64']).columns.tolist()\n",
        "  int64columns = df.select_dtypes(['int64']).columns.tolist()\n",
        "  df[float64columns] = df[float64columns].astype('float32')\n",
        "  df[int64columns] = df[int64columns].astype('int32')\n",
        "  return df\n",
        "\n",
        "# Averages of target variables\n",
        "def averagevalues(df, group, target):\n",
        "  '''\n",
        "  Takes a group of variables (from one two three) and a target variables to return the average \n",
        "  '''\n",
        "  grouped = df.groupby(group).agg({target: ['mean']})\n",
        "  \n",
        "  if (len(group) == 1):\n",
        "    grouped.columns = [group[0]+'_avg_'+target]\n",
        "  elif (len(group) == 2):\n",
        "    grouped.columns = [group[0]+'_'+group[1]+'_avg_'+target]\n",
        "  else:\n",
        "    grouped.columns = [group[0]+'_'+group[1]+'-'+group[2]+'_avg_'+target]\n",
        "\n",
        "  grouped.reset_index(inplace=True)\n",
        "  df = pd.merge(df, grouped, on=group, how='left')\n",
        "  return df\n",
        "\n",
        "# Function for mean encodings using LOO scheme\n",
        "def meaneconloo(df, groupvar):\n",
        "    \"\"\"\n",
        "    df: Pandas data frame that contains categorical and target features\n",
        "    catfeature: feature we want to create the mean encoding regularized through LOO scheme\n",
        "    \"\"\"\n",
        "    target_sum = df.groupby(groupvar)['target'].transform('sum')\n",
        "    n_objects  = df.groupby(groupvar)['target'].transform('count')\n",
        "    df[groupvar+'_target_ME'] = (target_sum - df['target']) / (n_objects - 1)\n",
        "    df[groupvar+'_target_ME'].fillna(df[groupvar+'_target_ME'].mean(), inplace=True)\n",
        "    print('Correlation of', groupvar, '_target_ME:', np.corrcoef(df['target'].values, df[groupvar+'_target_ME'].values)[0][1])\n",
        "    return df\n",
        "\n",
        "# Function for mean encoding with smothing method\n",
        "def me_smoothing(df, groupvar, alpha):\n",
        "  n_objects = df.groupby(groupvar)['target'].transform('count')\n",
        "  meantarget = df.groupby(groupvar)['target'].transform('mean')\n",
        "  df[groupvar+'_target_ME'] = (meantarget * n_objects + 0.3343 * alpha) / (n_objects + 100)\n",
        "  print('Correlation of', groupvar, '_target_ME:', np.corrcoef(df['target'].values, df[groupvar+'_target_ME'].values)[0][1])\n",
        "  return df\n",
        "\n",
        "# Function for kfold mean target encoding\n",
        "def me_kfold(df, folds, groupvar):\n",
        "  df[groupvar+'_target_ME'] = 0\n",
        "  kf = KFold(folds, shuffle = False, random_state = 123)\n",
        "\n",
        "  for tr_ind_ME, val_ind_ME in kf.split(train):\n",
        "    X_tr_ME, X_val_ME = df.loc[tr_ind_ME], df.loc[val_ind_ME]\n",
        "    X_val_ME[groupvar+'_target_ME'] = X_val_ME[groupvar].map(X_tr_ME.groupby(groupvar).target.mean())\n",
        "    df.loc[val_ind_ME] = X_val_ME\n",
        "  df[groupvar+'_target_ME'].fillna(0.3343, inplace=True)\n",
        "  print('Correlation of', groupvar, '_target_ME:', np.corrcoef(df['target'].values, df[groupvar+'_target_ME'].values)[0][1])\n",
        "  return df\n",
        "\n",
        "# Function that creates the lags of given columns\n",
        "def lag_feature(df, lags, col):\n",
        "    tmp = df[['date_block_num','shop_id','item_id', col]]\n",
        "    for i in lags:\n",
        "        shifted = tmp.copy()\n",
        "        shifted.columns = ['date_block_num','shop_id','item_id', col+'_lag_'+ str(i)]\n",
        "        shifted['date_block_num'] += i\n",
        "        shifted[col+'_lag_'+ str(i)] = shifted[col+'_lag_'+ str(i)].astype('float16')\n",
        "        df = pd.merge(df, shifted, on=['date_block_num','shop_id','item_id'], how='left')\n",
        "    return df    "
      ],
      "execution_count": 0,
      "outputs": []
    },
    {
      "cell_type": "code",
      "metadata": {
        "id": "dVmnEFrM66HL",
        "colab_type": "code",
        "colab": {}
      },
      "source": [
        "# Load de the data\n",
        "transactions    = pd.read_csv('/content/drive/My Drive/DataScience/data/competitive-data-science-predict-future-sales/sales_train.csv')\n",
        "items           = pd.read_csv('/content/drive/My Drive/DataScience/data/competitive-data-science-predict-future-sales/items.csv')\n",
        "item_categories = pd.read_csv('/content/drive/My Drive/DataScience/data/competitive-data-science-predict-future-sales/item_categories.csv')\n",
        "shops           = pd.read_csv('/content/drive/My Drive/DataScience/data/competitive-data-science-predict-future-sales/shops.csv')\n",
        "transactions_test    = pd.read_csv('/content/drive/My Drive/DataScience/data/competitive-data-science-predict-future-sales/test.csv')\n"
      ],
      "execution_count": 0,
      "outputs": []
    },
    {
      "cell_type": "code",
      "metadata": {
        "id": "GEKnqvug6-gR",
        "colab_type": "code",
        "colab": {}
      },
      "source": [
        "index_cols = ['shop_id', 'item_id', 'date_block_num']\n",
        "\n",
        "# For every month we create a grid from all shops/items combinations from that month\n",
        "grid = [] \n",
        "for block_num in transactions['date_block_num'].unique():\n",
        "    cur_shops = transactions[transactions['date_block_num']==block_num]['shop_id'].unique()\n",
        "    cur_items = transactions[transactions['date_block_num']==block_num]['item_id'].unique()\n",
        "    grid.append(np.array(list(product(*[cur_shops, cur_items, [block_num]])), dtype = 'int16'))\n",
        "\n",
        "# Turn the grid into pandas dataframe\n",
        "grid = pd.DataFrame(np.vstack(grid), columns = index_cols, dtype = np.int32)\n",
        "\n",
        "# Get aggregated values of sales by shop_id, item_id\n",
        "gb = transactions.groupby(index_cols).agg({'item_cnt_day':'sum'})\n",
        "gb.columns = ['target']\n",
        "gb.reset_index(inplace = True)\n",
        "\n",
        "# Join aggregated data to the grid and sort the data\n",
        "train = pd.merge(grid, gb, how='left',on=index_cols).fillna(0)\n",
        "train['target'] = train['target'].clip(0,20)\n",
        "train.sort_values(['date_block_num','shop_id','item_id'],inplace=True)\n",
        "\n",
        "del grid, gb"
      ],
      "execution_count": 0,
      "outputs": []
    },
    {
      "cell_type": "code",
      "metadata": {
        "id": "PSirxUgkmwbk",
        "colab_type": "code",
        "colab": {}
      },
      "source": [
        "# Add information from items and shops to train set\n",
        "train = pd.merge(train, items, on = ['item_id']) # Join item_name and item category\n",
        "train = pd.merge(train, shops, on = ['shop_id']) # Join shop_name"
      ],
      "execution_count": 0,
      "outputs": []
    },
    {
      "cell_type": "code",
      "metadata": {
        "id": "0MXOiCOMW0Z6",
        "colab_type": "code",
        "colab": {
          "base_uri": "https://localhost:8080/",
          "height": 68
        },
        "outputId": "90df0be6-3c03-4534-ad2d-fb4a82661429"
      },
      "source": [
        "train.columns"
      ],
      "execution_count": 6,
      "outputs": [
        {
          "output_type": "execute_result",
          "data": {
            "text/plain": [
              "Index(['shop_id', 'item_id', 'date_block_num', 'target', 'item_name',\n",
              "       'item_category_id', 'shop_name'],\n",
              "      dtype='object')"
            ]
          },
          "metadata": {
            "tags": []
          },
          "execution_count": 6
        }
      ]
    },
    {
      "cell_type": "code",
      "metadata": {
        "id": "FrWjfu5mnPL2",
        "colab_type": "code",
        "colab": {
          "base_uri": "https://localhost:8080/",
          "height": 207
        },
        "outputId": "ea992d1c-bff2-4d38-9f73-dce88aa3e78a"
      },
      "source": [
        "# Mean encoding with regularization via 5 fold scheme\n",
        "\n",
        "\n",
        "# Simple grouping\n",
        "train = me_kfold(train, 4, 'date_block_num')\n",
        "train = me_kfold(train, 4, 'shop_id')\n",
        "train = me_kfold(train, 4, 'item_category_id')\n",
        "train = me_kfold(train, 4, 'item_id')\n",
        "\n",
        "# Pairs of vars\n",
        "train['date_item'] = train['date_block_num'].astype(str) + train['item_id'].astype(str)\n",
        "train['date_shop'] = train['date_block_num'].astype(str) + train['shop_id'].astype(str)\n",
        "train['date_cat'] = train['date_block_num'].astype(str) + train['item_category_id'].astype(str)\n",
        "train['shop_cat'] = train['shop_id'].astype(str) + train['item_category_id'].astype(str)\n",
        "\n",
        "train = me_kfold(train, 4, 'date_item')\n",
        "train = me_kfold(train, 4, 'date_shop')\n",
        "train = me_kfold(train, 4, 'date_cat')\n",
        "train = me_kfold(train, 4, 'shop_cat')\n",
        "\n",
        "train.drop(['date_item', 'date_shop', 'date_cat', 'shop_cat'], axis = 1, inplace=True)"
      ],
      "execution_count": 7,
      "outputs": [
        {
          "output_type": "stream",
          "text": [
            "/usr/local/lib/python3.6/dist-packages/sklearn/model_selection/_split.py:296: FutureWarning: Setting a random_state has no effect since shuffle is False. This will raise an error in 0.24. You should leave random_state to its default (None), or set shuffle=True.\n",
            "  FutureWarning\n"
          ],
          "name": "stderr"
        },
        {
          "output_type": "stream",
          "text": [
            "Correlation of date_block_num _target_ME: -0.01632423349155974\n",
            "Correlation of shop_id _target_ME: 0.00962391347087641\n",
            "Correlation of item_category_id _target_ME: 0.26457082637426577\n",
            "Correlation of item_id _target_ME: 0.45644416273229144\n",
            "Correlation of date_item _target_ME: 0.6488462032146594\n",
            "Correlation of date_shop _target_ME: 0.0004483097954618552\n",
            "Correlation of date_cat _target_ME: 0.30492393820674407\n",
            "Correlation of shop_cat _target_ME: 0.014518173206861688\n"
          ],
          "name": "stdout"
        }
      ]
    },
    {
      "cell_type": "code",
      "metadata": {
        "id": "y8lsFtHT84V9",
        "colab_type": "code",
        "colab": {}
      },
      "source": [
        "# Add items and shops to test data\n",
        "test = pd.merge(transactions_test, items, on = ['item_id']) # Join item_name and item category\n",
        "test = pd.merge(test, shops, on = ['shop_id']) # Join shop_name\n",
        "\n",
        "# Set ID as index and join train with test data\n",
        "test.set_index('ID', inplace = True)\n",
        "test['date_block_num'] = 34\n",
        "data = pd.concat([train, test], sort = False)\n",
        "data = downcast(data)\n",
        "\n",
        "del items, shops, item_categories, test, train"
      ],
      "execution_count": 0,
      "outputs": []
    },
    {
      "cell_type": "code",
      "metadata": {
        "id": "AvZu80Ox6wKp",
        "colab_type": "code",
        "colab": {
          "base_uri": "https://localhost:8080/",
          "height": 119
        },
        "outputId": "92fa1cf2-aea4-48db-d7f3-88259a3e6362"
      },
      "source": [
        "data.columns"
      ],
      "execution_count": 11,
      "outputs": [
        {
          "output_type": "execute_result",
          "data": {
            "text/plain": [
              "Index(['shop_id', 'item_id', 'date_block_num', 'target', 'item_name',\n",
              "       'item_category_id', 'shop_name', 'date_block_num_target_ME',\n",
              "       'shop_id_target_ME', 'item_category_id_target_ME', 'item_id_target_ME',\n",
              "       'date_item_target_ME', 'date_shop_target_ME', 'date_cat_target_ME',\n",
              "       'shop_cat_target_ME'],\n",
              "      dtype='object')"
            ]
          },
          "metadata": {
            "tags": []
          },
          "execution_count": 11
        }
      ]
    },
    {
      "cell_type": "code",
      "metadata": {
        "id": "koOh6nvY9QeI",
        "colab_type": "code",
        "colab": {
          "base_uri": "https://localhost:8080/",
          "height": 34
        },
        "outputId": "ef5a59bd-8492-41bd-d7e7-7d9c1911765c"
      },
      "source": [
        "# Lagged values\n",
        "ts = time.time()\n",
        "\n",
        "data = lag_feature(data, [1, 2, 3, 4, 5, 12], 'target')\n",
        "data = lag_feature(data, [1, 2, 3, 4, 5, 12], 'date_block_num_target_ME')\n",
        "data = lag_feature(data, [1, 2, 3, 4, 5, 12], 'shop_id_target_ME')\n",
        "data = lag_feature(data, [1, 2, 3, 4, 5, 12], 'item_category_id_target_ME')\n",
        "data = lag_feature(data, [1, 2, 3, 4, 5, 12], 'item_id_target_ME')\n",
        "data = lag_feature(data, [1, 2, 3, 4, 5, 12], 'date_item_target_ME')\n",
        "data = lag_feature(data, [1, 2, 3, 4, 5, 12], 'date_shop_target_ME')\n",
        "data = lag_feature(data, [1, 2, 3, 4, 5, 12], 'date_cat_target_ME')\n",
        "data = lag_feature(data, [1, 2, 3, 4, 5, 12], 'shop_cat_target_ME')\n",
        "\n",
        "data = downcast(data)\n",
        "\n",
        "time.time() - ts"
      ],
      "execution_count": 12,
      "outputs": [
        {
          "output_type": "execute_result",
          "data": {
            "text/plain": [
              "512.8567180633545"
            ]
          },
          "metadata": {
            "tags": []
          },
          "execution_count": 12
        }
      ]
    },
    {
      "cell_type": "code",
      "metadata": {
        "id": "nqegq3ir_og-",
        "colab_type": "code",
        "colab": {}
      },
      "source": [
        "# Drop level 0 lagged features\n",
        "data.drop(['date_block_num_target_ME', 'shop_id_target_ME', 'item_category_id_target_ME', 'item_id_target_ME', 'date_item_target_ME', 'date_shop_target_ME', 'date_cat_target_ME', 'shop_cat_target_ME'], axis = 1, inplace = True) # Drop object columns\n",
        "data = downcast(data)"
      ],
      "execution_count": 0,
      "outputs": []
    },
    {
      "cell_type": "code",
      "metadata": {
        "id": "7PPCCLD79k6z",
        "colab_type": "code",
        "colab": {}
      },
      "source": [
        "data.fillna(0, inplace=True)\n",
        "data.drop(['item_name', 'shop_name'], axis = 1, inplace = True) # Drop object columns\n",
        "\n",
        "X_train = data[(data.date_block_num > 11) & (data.date_block_num < 33)].drop(['target'], axis=1)\n",
        "Y_train = data[(data.date_block_num > 11) & (data.date_block_num < 33)]['target']\n",
        "X_valid = data[data.date_block_num == 33].drop(['target'], axis=1)\n",
        "Y_valid = data[data.date_block_num == 33]['target']\n",
        "X_test = data[data.date_block_num == 34].drop(['target'], axis=1)\n",
        "\n",
        "# del data"
      ],
      "execution_count": 0,
      "outputs": []
    },
    {
      "cell_type": "code",
      "metadata": {
        "id": "2n0rV2l7-TUu",
        "colab_type": "code",
        "colab": {
          "base_uri": "https://localhost:8080/",
          "height": 1000
        },
        "outputId": "33409a48-cbd4-4bd9-9ebb-b69d9eada1b8"
      },
      "source": [
        "ts = time.time()\n",
        "\n",
        "model = XGBRegressor(\n",
        "    tree_method = \"gpu_hist\",\n",
        "    max_depth = 6, # Tree related parameter: determines how deeply each tree is allowed to grow during any boosting round\n",
        "    min_child_weight = 600, # \n",
        "    colsample_bytree=0.8, # percentage of features used per tree. High value can lead to overfitting\n",
        "    n_estimators = 500, # number of trees you want to build.\n",
        "    subsample=0.8, # Boosting parameter: percentage of samples used per tree. Low value can lead to underfitting\n",
        "    eta=0.3, #  Boosting parameter\n",
        "    seed=123)\n",
        "\n",
        "model.fit(\n",
        "    X_train, \n",
        "    Y_train, \n",
        "    eval_metric=\"rmse\", \n",
        "    eval_set=[(X_train, Y_train), (X_valid, Y_valid)], \n",
        "    verbose=True, \n",
        "    early_stopping_rounds = 10)\n",
        "\n",
        "time.time() - ts\n"
      ],
      "execution_count": 17,
      "outputs": [
        {
          "output_type": "stream",
          "text": [
            "[15:12:40] WARNING: /workspace/src/objective/regression_obj.cu:152: reg:linear is now deprecated in favor of reg:squarederror.\n",
            "[0]\tvalidation_0-rmse:1.16716\tvalidation_1-rmse:1.13058\n",
            "Multiple eval metrics have been passed: 'validation_1-rmse' will be used for early stopping.\n",
            "\n",
            "Will train until validation_1-rmse hasn't improved in 10 rounds.\n",
            "[1]\tvalidation_0-rmse:1.12392\tvalidation_1-rmse:1.09804\n",
            "[2]\tvalidation_0-rmse:1.08803\tvalidation_1-rmse:1.07178\n",
            "[3]\tvalidation_0-rmse:1.05726\tvalidation_1-rmse:1.04984\n",
            "[4]\tvalidation_0-rmse:1.03591\tvalidation_1-rmse:1.03512\n",
            "[5]\tvalidation_0-rmse:1.01295\tvalidation_1-rmse:1.01985\n",
            "[6]\tvalidation_0-rmse:0.994252\tvalidation_1-rmse:1.0079\n",
            "[7]\tvalidation_0-rmse:0.97835\tvalidation_1-rmse:0.99768\n",
            "[8]\tvalidation_0-rmse:0.96699\tvalidation_1-rmse:0.990129\n",
            "[9]\tvalidation_0-rmse:0.954957\tvalidation_1-rmse:0.983294\n",
            "[10]\tvalidation_0-rmse:0.945085\tvalidation_1-rmse:0.977714\n",
            "[11]\tvalidation_0-rmse:0.937607\tvalidation_1-rmse:0.973448\n",
            "[12]\tvalidation_0-rmse:0.9311\tvalidation_1-rmse:0.969434\n",
            "[13]\tvalidation_0-rmse:0.924625\tvalidation_1-rmse:0.966504\n",
            "[14]\tvalidation_0-rmse:0.918723\tvalidation_1-rmse:0.962381\n",
            "[15]\tvalidation_0-rmse:0.914342\tvalidation_1-rmse:0.960072\n",
            "[16]\tvalidation_0-rmse:0.91043\tvalidation_1-rmse:0.958125\n",
            "[17]\tvalidation_0-rmse:0.907282\tvalidation_1-rmse:0.956867\n",
            "[18]\tvalidation_0-rmse:0.903686\tvalidation_1-rmse:0.955503\n",
            "[19]\tvalidation_0-rmse:0.901218\tvalidation_1-rmse:0.954632\n",
            "[20]\tvalidation_0-rmse:0.899005\tvalidation_1-rmse:0.953716\n",
            "[21]\tvalidation_0-rmse:0.896985\tvalidation_1-rmse:0.952876\n",
            "[22]\tvalidation_0-rmse:0.895084\tvalidation_1-rmse:0.952244\n",
            "[23]\tvalidation_0-rmse:0.893603\tvalidation_1-rmse:0.951842\n",
            "[24]\tvalidation_0-rmse:0.891995\tvalidation_1-rmse:0.95177\n",
            "[25]\tvalidation_0-rmse:0.890774\tvalidation_1-rmse:0.951524\n",
            "[26]\tvalidation_0-rmse:0.888472\tvalidation_1-rmse:0.949439\n",
            "[27]\tvalidation_0-rmse:0.887069\tvalidation_1-rmse:0.948341\n",
            "[28]\tvalidation_0-rmse:0.886108\tvalidation_1-rmse:0.947912\n",
            "[29]\tvalidation_0-rmse:0.885012\tvalidation_1-rmse:0.947648\n",
            "[30]\tvalidation_0-rmse:0.883943\tvalidation_1-rmse:0.947255\n",
            "[31]\tvalidation_0-rmse:0.883002\tvalidation_1-rmse:0.947036\n",
            "[32]\tvalidation_0-rmse:0.881455\tvalidation_1-rmse:0.946175\n",
            "[33]\tvalidation_0-rmse:0.880675\tvalidation_1-rmse:0.946289\n",
            "[34]\tvalidation_0-rmse:0.879589\tvalidation_1-rmse:0.945501\n",
            "[35]\tvalidation_0-rmse:0.878796\tvalidation_1-rmse:0.945227\n",
            "[36]\tvalidation_0-rmse:0.878219\tvalidation_1-rmse:0.944785\n",
            "[37]\tvalidation_0-rmse:0.877456\tvalidation_1-rmse:0.944898\n",
            "[38]\tvalidation_0-rmse:0.876781\tvalidation_1-rmse:0.944523\n",
            "[39]\tvalidation_0-rmse:0.876066\tvalidation_1-rmse:0.944028\n",
            "[40]\tvalidation_0-rmse:0.875161\tvalidation_1-rmse:0.943524\n",
            "[41]\tvalidation_0-rmse:0.874481\tvalidation_1-rmse:0.943305\n",
            "[42]\tvalidation_0-rmse:0.873913\tvalidation_1-rmse:0.943282\n",
            "[43]\tvalidation_0-rmse:0.872829\tvalidation_1-rmse:0.942244\n",
            "[44]\tvalidation_0-rmse:0.872482\tvalidation_1-rmse:0.941949\n",
            "[45]\tvalidation_0-rmse:0.872066\tvalidation_1-rmse:0.941832\n",
            "[46]\tvalidation_0-rmse:0.87161\tvalidation_1-rmse:0.941685\n",
            "[47]\tvalidation_0-rmse:0.871385\tvalidation_1-rmse:0.941504\n",
            "[48]\tvalidation_0-rmse:0.87041\tvalidation_1-rmse:0.941085\n",
            "[49]\tvalidation_0-rmse:0.869944\tvalidation_1-rmse:0.941109\n",
            "[50]\tvalidation_0-rmse:0.86938\tvalidation_1-rmse:0.940516\n",
            "[51]\tvalidation_0-rmse:0.86888\tvalidation_1-rmse:0.940821\n",
            "[52]\tvalidation_0-rmse:0.868385\tvalidation_1-rmse:0.940499\n",
            "[53]\tvalidation_0-rmse:0.868167\tvalidation_1-rmse:0.940608\n",
            "[54]\tvalidation_0-rmse:0.86688\tvalidation_1-rmse:0.939231\n",
            "[55]\tvalidation_0-rmse:0.865834\tvalidation_1-rmse:0.938892\n",
            "[56]\tvalidation_0-rmse:0.865089\tvalidation_1-rmse:0.938595\n",
            "[57]\tvalidation_0-rmse:0.864825\tvalidation_1-rmse:0.938548\n",
            "[58]\tvalidation_0-rmse:0.864569\tvalidation_1-rmse:0.938665\n",
            "[59]\tvalidation_0-rmse:0.86303\tvalidation_1-rmse:0.937599\n",
            "[60]\tvalidation_0-rmse:0.862414\tvalidation_1-rmse:0.937192\n",
            "[61]\tvalidation_0-rmse:0.862144\tvalidation_1-rmse:0.937395\n",
            "[62]\tvalidation_0-rmse:0.861954\tvalidation_1-rmse:0.937474\n",
            "[63]\tvalidation_0-rmse:0.861768\tvalidation_1-rmse:0.937283\n",
            "[64]\tvalidation_0-rmse:0.86149\tvalidation_1-rmse:0.937574\n",
            "[65]\tvalidation_0-rmse:0.861255\tvalidation_1-rmse:0.93746\n",
            "[66]\tvalidation_0-rmse:0.860959\tvalidation_1-rmse:0.937248\n",
            "[67]\tvalidation_0-rmse:0.860692\tvalidation_1-rmse:0.937032\n",
            "[68]\tvalidation_0-rmse:0.860317\tvalidation_1-rmse:0.936515\n",
            "[69]\tvalidation_0-rmse:0.85984\tvalidation_1-rmse:0.936078\n",
            "[70]\tvalidation_0-rmse:0.859353\tvalidation_1-rmse:0.93606\n",
            "[71]\tvalidation_0-rmse:0.859175\tvalidation_1-rmse:0.936072\n",
            "[72]\tvalidation_0-rmse:0.85895\tvalidation_1-rmse:0.936122\n",
            "[73]\tvalidation_0-rmse:0.858715\tvalidation_1-rmse:0.935996\n",
            "[74]\tvalidation_0-rmse:0.858396\tvalidation_1-rmse:0.935918\n",
            "[75]\tvalidation_0-rmse:0.857972\tvalidation_1-rmse:0.93606\n",
            "[76]\tvalidation_0-rmse:0.856478\tvalidation_1-rmse:0.934974\n",
            "[77]\tvalidation_0-rmse:0.856326\tvalidation_1-rmse:0.934876\n",
            "[78]\tvalidation_0-rmse:0.855872\tvalidation_1-rmse:0.934357\n",
            "[79]\tvalidation_0-rmse:0.855281\tvalidation_1-rmse:0.934144\n",
            "[80]\tvalidation_0-rmse:0.854933\tvalidation_1-rmse:0.93422\n",
            "[81]\tvalidation_0-rmse:0.854123\tvalidation_1-rmse:0.933628\n",
            "[82]\tvalidation_0-rmse:0.853757\tvalidation_1-rmse:0.933266\n",
            "[83]\tvalidation_0-rmse:0.85363\tvalidation_1-rmse:0.933306\n",
            "[84]\tvalidation_0-rmse:0.853446\tvalidation_1-rmse:0.933508\n",
            "[85]\tvalidation_0-rmse:0.853286\tvalidation_1-rmse:0.933593\n",
            "[86]\tvalidation_0-rmse:0.852478\tvalidation_1-rmse:0.933697\n",
            "[87]\tvalidation_0-rmse:0.852243\tvalidation_1-rmse:0.933658\n",
            "[88]\tvalidation_0-rmse:0.852093\tvalidation_1-rmse:0.933836\n",
            "[89]\tvalidation_0-rmse:0.85193\tvalidation_1-rmse:0.933781\n",
            "[90]\tvalidation_0-rmse:0.851697\tvalidation_1-rmse:0.933697\n",
            "[91]\tvalidation_0-rmse:0.851485\tvalidation_1-rmse:0.933975\n",
            "[92]\tvalidation_0-rmse:0.850825\tvalidation_1-rmse:0.933728\n",
            "Stopping. Best iteration:\n",
            "[82]\tvalidation_0-rmse:0.853757\tvalidation_1-rmse:0.933266\n",
            "\n"
          ],
          "name": "stdout"
        },
        {
          "output_type": "execute_result",
          "data": {
            "text/plain": [
              "643.2530152797699"
            ]
          },
          "metadata": {
            "tags": []
          },
          "execution_count": 17
        }
      ]
    },
    {
      "cell_type": "code",
      "metadata": {
        "id": "rkUnAPYa-qfc",
        "colab_type": "code",
        "colab": {
          "base_uri": "https://localhost:8080/",
          "height": 282
        },
        "outputId": "23f732ad-b5bb-42e5-87c3-78ca9587b3be"
      },
      "source": [
        "feat_importances = pd.Series(model.feature_importances_, index=X_train.columns)\n",
        "feat_importances.nlargest(15).plot(kind='barh')"
      ],
      "execution_count": 18,
      "outputs": [
        {
          "output_type": "execute_result",
          "data": {
            "text/plain": [
              "<matplotlib.axes._subplots.AxesSubplot at 0x7f1995fd89b0>"
            ]
          },
          "metadata": {
            "tags": []
          },
          "execution_count": 18
        },
        {
          "output_type": "display_data",
          "data": {
            "image/png": "[encoded data removed]",
            "text/plain": [
              "<Figure size 432x288 with 1 Axes>"
            ]
          },
          "metadata": {
            "tags": [],
            "needs_background": "light"
          }
        }
      ]
    },
    {
      "cell_type": "code",
      "metadata": {
        "id": "8gj3WoGm-sd7",
        "colab_type": "code",
        "colab": {}
      },
      "source": [
        "Y_test = model.predict(X_test).clip(0, 20)\n",
        "testdata = X_test\n",
        "testdata['Y_test'] = Y_test\n",
        "\n",
        "# Add target variable to transactions_test and leave only ID and target\n",
        "transactions_test.reset_index(inplace = True)\n",
        "submition = pd.merge(transactions_test, testdata[['shop_id', 'item_id', 'Y_test']], on = ['shop_id', 'item_id'])\n",
        "submition = submition[['ID', 'Y_test']]\n",
        "submition.columns = ['ID', 'item_cnt_month']"
      ],
      "execution_count": 0,
      "outputs": []
    },
    {
      "cell_type": "code",
      "metadata": {
        "id": "OaaBIjeh-s48",
        "colab_type": "code",
        "colab": {}
      },
      "source": [
        "# Export results\n",
        "submition.to_csv('V6_4foldsmE.csv', index=False)\n",
        "files.download('V6_4foldsmE.csv')"
      ],
      "execution_count": 0,
      "outputs": []
    },
    {
      "cell_type": "markdown",
      "metadata": {
        "id": "k2WPL_ByIZmg",
        "colab_type": "text"
      },
      "source": [
        ""
      ]
    }
  ]
}