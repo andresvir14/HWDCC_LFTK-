{
  "nbformat": 4,
  "nbformat_minor": 0,
  "metadata": {
    "colab": {
      "name": "HWDCC-LFTK Final Proyect.ipynb",
      "provenance": [],
      "collapsed_sections": [],
      "machine_shape": "hm",
      "mount_file_id": "18yVGbVoPNkJFI_ZrnlYuu-UU-7Ra8lRh",
      "authorship_tag": "ABX9TyPqpQLFk1d0OYhQvKY2xtub",
      "include_colab_link": true
    },
    "kernelspec": {
      "name": "python3",
      "display_name": "Python 3"
    },
    "accelerator": "GPU"
  },
  "cells": [
    {
      "cell_type": "markdown",
      "metadata": {
        "id": "view-in-github",
        "colab_type": "text"
      },
      "source": [
        "<a href=\"https://colab.research.google.com/github/andresvir14/HWDCC_LFTK-/blob/master/HWDCC_LFTK_Final_Proyect.ipynb\" target=\"_parent\"><img src=\"https://colab.research.google.com/assets/colab-badge.svg\" alt=\"Open In Colab\"/></a>"
      ]
    },
    {
      "cell_type": "code",
      "metadata": {
        "id": "Xr-u9bHh6qbA",
        "colab_type": "code",
        "colab": {
          "base_uri": "https://localhost:8080/",
          "height": 71
        },
        "outputId": "e8fad111-ba0c-4dc5-cddc-90c4f24bb436"
      },
      "source": [
        "# Import libraries\n",
        "# Basic libraries\n",
        "import pandas as pd\n",
        "import numpy as np\n",
        "\n",
        "# Preprocesing and feature extraction\n",
        "from itertools import product\n",
        "from sklearn import preprocessing\n",
        "from sklearn.feature_extraction.text import TfidfVectorizer\n",
        "\n",
        "# Modeling\n",
        "from sklearn.linear_model import LinearRegression\n",
        "from xgboost import XGBRegressor\n",
        "from xgboost import plot_importance\n",
        "\n",
        "# Ploting\n",
        "import matplotlib.pyplot as plt\n",
        "from matplotlib.pyplot import figure\n",
        "import seaborn as sns\n",
        "\n",
        "# To deal with downloaded files\n",
        "from google.colab import files\n",
        "\n",
        "# Others\n",
        "import time"
      ],
      "execution_count": 1,
      "outputs": [
        {
          "output_type": "stream",
          "text": [
            "/usr/local/lib/python3.6/dist-packages/statsmodels/tools/_testing.py:19: FutureWarning: pandas.util.testing is deprecated. Use the functions in the public API at pandas.testing instead.\n",
            "  import pandas.util.testing as tm\n"
          ],
          "name": "stderr"
        }
      ]
    },
    {
      "cell_type": "code",
      "metadata": {
        "id": "RWhrGXi38Jom",
        "colab_type": "code",
        "colab": {}
      },
      "source": [
        "# Functions used\n",
        "\n",
        "# Downcast variables \n",
        "def downcast(df):\n",
        "  '''\n",
        "    Change columns types from 64 to 32 bits\n",
        "  '''\n",
        "  float64columns = df.select_dtypes(['float64']).columns.tolist()\n",
        "  int64columns = df.select_dtypes(['int64']).columns.tolist()\n",
        "  df[float64columns] = df[float64columns].astype('float32')\n",
        "  df[int64columns] = df[int64columns].astype('int32')\n",
        "  return df\n",
        "\n",
        "# Averages of target variables\n",
        "def averagevalues(df, group, target):\n",
        "  '''\n",
        "  Takes a group of variables (from one two three) and a target variables to return the average \n",
        "  '''\n",
        "  grouped = df.groupby(group).agg({target: ['mean']})\n",
        "  \n",
        "  if (len(group) == 1):\n",
        "    grouped.columns = [group[0]+'_avg_'+target]\n",
        "  elif (len(group) == 2):\n",
        "    grouped.columns = [group[0]+'_'+group[1]+'_avg_'+target]\n",
        "  else:\n",
        "    grouped.columns = [group[0]+'_'+group[1]+'-'+group[2]+'_avg_'+target]\n",
        "\n",
        "  grouped.reset_index(inplace=True)\n",
        "  df = pd.merge(df, grouped, on=group, how='left')\n",
        "  return df\n",
        "\n",
        "# Function that creates the lags of given columns\n",
        "def lag_feature(df, lags, col):\n",
        "    tmp = df[['date_block_num','shop_id','item_id', col]]\n",
        "    for i in lags:\n",
        "        shifted = tmp.copy()\n",
        "        shifted.columns = ['date_block_num','shop_id','item_id', col+'_lag_'+ str(i)]\n",
        "        shifted['date_block_num'] += i\n",
        "        shifted[col+'_lag_'+ str(i)] = shifted[col+'_lag_'+ str(i)].astype('float16')\n",
        "        df = pd.merge(df, shifted, on=['date_block_num','shop_id','item_id'], how='left')\n",
        "    return df    "
      ],
      "execution_count": 0,
      "outputs": []
    },
    {
      "cell_type": "code",
      "metadata": {
        "id": "dVmnEFrM66HL",
        "colab_type": "code",
        "colab": {}
      },
      "source": [
        "# Load de the data\n",
        "transactions    = pd.read_csv('/content/drive/My Drive/DataScience/data/competitive-data-science-predict-future-sales/sales_train.csv')\n",
        "items           = pd.read_csv('/content/drive/My Drive/DataScience/data/competitive-data-science-predict-future-sales/items.csv')\n",
        "item_categories = pd.read_csv('/content/drive/My Drive/DataScience/data/competitive-data-science-predict-future-sales/item_categories.csv')\n",
        "shops           = pd.read_csv('/content/drive/My Drive/DataScience/data/competitive-data-science-predict-future-sales/shops.csv')\n",
        "transactions_test    = pd.read_csv('/content/drive/My Drive/DataScience/data/competitive-data-science-predict-future-sales/test.csv')\n"
      ],
      "execution_count": 0,
      "outputs": []
    },
    {
      "cell_type": "code",
      "metadata": {
        "id": "GEKnqvug6-gR",
        "colab_type": "code",
        "colab": {}
      },
      "source": [
        "index_cols = ['shop_id', 'item_id', 'date_block_num']\n",
        "\n",
        "# For every month we create a grid from all shops/items combinations from that month\n",
        "grid = [] \n",
        "for block_num in transactions['date_block_num'].unique():\n",
        "    cur_shops = transactions[transactions['date_block_num']==block_num]['shop_id'].unique()\n",
        "    cur_items = transactions[transactions['date_block_num']==block_num]['item_id'].unique()\n",
        "    grid.append(np.array(list(product(*[cur_shops, cur_items, [block_num]])), dtype = 'int16'))\n",
        "\n",
        "# Turn the grid into pandas dataframe\n",
        "grid = pd.DataFrame(np.vstack(grid), columns = index_cols, dtype = np.int32)\n",
        "\n",
        "# Get aggregated values of sales by shop_id, item_id\n",
        "gb = transactions.groupby(index_cols).agg({'item_cnt_day':'sum'})\n",
        "gb.columns = ['target']\n",
        "gb.reset_index(inplace = True)\n",
        "\n",
        "# Join aggregated data to the grid and sort the data\n",
        "train = pd.merge(grid, gb, how='left',on=index_cols).fillna(0)\n",
        "train['target'] = train['target'].clip(0,20)\n",
        "train.sort_values(['date_block_num','shop_id','item_id'],inplace=True)\n",
        "\n",
        "del grid, gb"
      ],
      "execution_count": 0,
      "outputs": []
    },
    {
      "cell_type": "code",
      "metadata": {
        "id": "PSirxUgkmwbk",
        "colab_type": "code",
        "colab": {}
      },
      "source": [
        "# Add information from items and shops to train set\n",
        "train = pd.merge(train, items, on = ['item_id']) # Join item_name and item category\n",
        "train = pd.merge(train, shops, on = ['shop_id']) # Join shop_name"
      ],
      "execution_count": 0,
      "outputs": []
    },
    {
      "cell_type": "code",
      "metadata": {
        "id": "FrWjfu5mnPL2",
        "colab_type": "code",
        "colab": {
          "base_uri": "https://localhost:8080/",
          "height": 360
        },
        "outputId": "ab3c06df-2faa-4c3c-8fb0-2789fb0b270e"
      },
      "source": [
        "# Mean encoding with regularization via 5 fold scheme\n",
        "from sklearn.model_selection import KFold\n",
        "\n",
        "kf = KFold(5, shuffle = False, random_state = 123)\n",
        "\n",
        "train['date_block_target_ME'] = 0\n",
        "#train['shop_target_ME'] = 0\n",
        "train['item_target_ME'] = 0\n",
        "train['item_cat_target_ME'] = 0\n",
        "\n",
        "\n",
        "for tr_ind_ME, val_ind_ME in kf.split(train):\n",
        "    X_tr_ME, X_val_ME = train.iloc[tr_ind_ME], train.iloc[val_ind_ME]\n",
        "    \n",
        "    X_val_ME['date_block_target_ME'] = X_val_ME['date_block_num'].map(X_tr_ME.groupby('date_block_num').target.mean())\n",
        " #   X_val_ME['shop_target_ME'] = X_val_ME['shop_id'].map(X_tr_ME.groupby('shop_id').target.mean())\n",
        "    X_val_ME['item_target_ME'] = X_val_ME['item_id'].map(X_tr_ME.groupby('item_id').target.mean())\n",
        "    X_val_ME['item_cat_target_ME'] = X_val_ME['item_category_id'].map(X_tr_ME.groupby('item_category_id').target.mean())\n",
        "\n",
        "    train.iloc[val_ind_ME] = X_val_ME\n",
        "\n",
        "# Fill nas with the mean of target for all the rows\n",
        "ME_cols = train.filter(regex=(\"ME\")).columns\n",
        "train[ME_cols.tolist()] = train[ME_cols.tolist()].fillna(train['target'].mean)\n"
      ],
      "execution_count": 7,
      "outputs": [
        {
          "output_type": "stream",
          "text": [
            "/usr/local/lib/python3.6/dist-packages/sklearn/model_selection/_split.py:296: FutureWarning: Setting a random_state has no effect since shuffle is False. This will raise an error in 0.24. You should leave random_state to its default (None), or set shuffle=True.\n",
            "  FutureWarning\n",
            "/usr/local/lib/python3.6/dist-packages/ipykernel_launcher.py:14: SettingWithCopyWarning: \n",
            "A value is trying to be set on a copy of a slice from a DataFrame.\n",
            "Try using .loc[row_indexer,col_indexer] = value instead\n",
            "\n",
            "See the caveats in the documentation: https://pandas.pydata.org/pandas-docs/stable/user_guide/indexing.html#returning-a-view-versus-a-copy\n",
            "  \n",
            "/usr/local/lib/python3.6/dist-packages/ipykernel_launcher.py:16: SettingWithCopyWarning: \n",
            "A value is trying to be set on a copy of a slice from a DataFrame.\n",
            "Try using .loc[row_indexer,col_indexer] = value instead\n",
            "\n",
            "See the caveats in the documentation: https://pandas.pydata.org/pandas-docs/stable/user_guide/indexing.html#returning-a-view-versus-a-copy\n",
            "  app.launch_new_instance()\n",
            "/usr/local/lib/python3.6/dist-packages/ipykernel_launcher.py:17: SettingWithCopyWarning: \n",
            "A value is trying to be set on a copy of a slice from a DataFrame.\n",
            "Try using .loc[row_indexer,col_indexer] = value instead\n",
            "\n",
            "See the caveats in the documentation: https://pandas.pydata.org/pandas-docs/stable/user_guide/indexing.html#returning-a-view-versus-a-copy\n"
          ],
          "name": "stderr"
        }
      ]
    },
    {
      "cell_type": "code",
      "metadata": {
        "id": "y8lsFtHT84V9",
        "colab_type": "code",
        "colab": {}
      },
      "source": [
        "# Add itesm and shops to test data\n",
        "test = pd.merge(transactions_test, items, on = ['item_id']) # Join item_name and item category\n",
        "test = pd.merge(test, shops, on = ['shop_id']) # Join shop_name\n",
        "\n",
        "# Set ID as index and join train with test data\n",
        "test.set_index('ID', inplace = True)\n",
        "test['date_block_num'] = 34\n",
        "data = pd.concat([train, test], sort = False)\n",
        "data = downcast(data)\n",
        "\n",
        "del items, shops, item_categories, train, test"
      ],
      "execution_count": 0,
      "outputs": []
    },
    {
      "cell_type": "code",
      "metadata": {
        "id": "wc2r0LYG87sj",
        "colab_type": "code",
        "colab": {
          "base_uri": "https://localhost:8080/",
          "height": 204
        },
        "outputId": "598d2d11-1f34-48e8-dd81-ec8bfb7e522c"
      },
      "source": [
        "data.isnull().sum()\n",
        "#data.tail()"
      ],
      "execution_count": 10,
      "outputs": [
        {
          "output_type": "execute_result",
          "data": {
            "text/plain": [
              "shop_id                      0\n",
              "item_id                      0\n",
              "date_block_num               0\n",
              "target                  214200\n",
              "item_name                    0\n",
              "item_category_id             0\n",
              "shop_name                    0\n",
              "date_block_target_ME    214200\n",
              "item_target_ME          214200\n",
              "item_cat_target_ME      214200\n",
              "dtype: int64"
            ]
          },
          "metadata": {
            "tags": []
          },
          "execution_count": 10
        }
      ]
    },
    {
      "cell_type": "code",
      "metadata": {
        "id": "iGiwdsb1mNfH",
        "colab_type": "code",
        "colab": {
          "base_uri": "https://localhost:8080/",
          "height": 85
        },
        "outputId": "2ef2715b-54b3-4f4b-f888-a7bed9c0433f"
      },
      "source": [
        "data.columns"
      ],
      "execution_count": 11,
      "outputs": [
        {
          "output_type": "execute_result",
          "data": {
            "text/plain": [
              "Index(['shop_id', 'item_id', 'date_block_num', 'target', 'item_name',\n",
              "       'item_category_id', 'shop_name', 'date_block_target_ME',\n",
              "       'item_target_ME', 'item_cat_target_ME'],\n",
              "      dtype='object')"
            ]
          },
          "metadata": {
            "tags": []
          },
          "execution_count": 11
        }
      ]
    },
    {
      "cell_type": "code",
      "metadata": {
        "id": "koOh6nvY9QeI",
        "colab_type": "code",
        "colab": {
          "base_uri": "https://localhost:8080/",
          "height": 34
        },
        "outputId": "bf496f26-17a9-400e-88d8-8d9a884714ea"
      },
      "source": [
        "# Lagged values\n",
        "ts = time.time()\n",
        "\n",
        "data = lag_feature(data, [1, 2, 3, 4, 5, 12], 'target')\n",
        "data = lag_feature(data, [1, 2, 3, 4, 5, 12], 'date_block_target_ME')\n",
        "#data = lag_feature(data, [1, 2, 3, 4, 5, 12], 'shop_target_ME')\n",
        "data = lag_feature(data, [1, 2, 3, 4, 5, 12], 'item_target_ME')\n",
        "data = lag_feature(data, [1, 2, 3, 4, 5, 12], 'item_cat_target_ME')\n",
        "\n",
        "data = downcast(data)\n",
        "\n",
        "time.time() - ts"
      ],
      "execution_count": 12,
      "outputs": [
        {
          "output_type": "execute_result",
          "data": {
            "text/plain": [
              "202.31437182426453"
            ]
          },
          "metadata": {
            "tags": []
          },
          "execution_count": 12
        }
      ]
    },
    {
      "cell_type": "code",
      "metadata": {
        "id": "nqegq3ir_og-",
        "colab_type": "code",
        "colab": {}
      },
      "source": [
        "# Drop level one features\n",
        "data.drop(['date_block_target_ME', 'item_target_ME', 'item_cat_target_ME'], axis = 1, inplace = True) # Drop object columns"
      ],
      "execution_count": 0,
      "outputs": []
    },
    {
      "cell_type": "code",
      "metadata": {
        "id": "Yi1uDMAWOapq",
        "colab_type": "code",
        "colab": {}
      },
      "source": [
        "# Drop some level variables (lag 0)\n",
        "data = downcast(data)"
      ],
      "execution_count": 0,
      "outputs": []
    },
    {
      "cell_type": "code",
      "metadata": {
        "id": "7PPCCLD79k6z",
        "colab_type": "code",
        "colab": {}
      },
      "source": [
        "data.fillna(0, inplace=True)\n",
        "data.drop(['item_name', 'shop_name'], axis = 1, inplace = True) # Drop object columns\n",
        "\n",
        "X_train = data[(data.date_block_num > 11) & (data.date_block_num < 33)].drop(['target'], axis=1)\n",
        "Y_train = data[(data.date_block_num > 11) & (data.date_block_num < 33)]['target']\n",
        "X_valid = data[data.date_block_num == 33].drop(['target'], axis=1)\n",
        "Y_valid = data[data.date_block_num == 33]['target']\n",
        "X_test = data[data.date_block_num == 34].drop(['target'], axis=1)\n",
        "\n",
        "del data"
      ],
      "execution_count": 0,
      "outputs": []
    },
    {
      "cell_type": "code",
      "metadata": {
        "id": "2n0rV2l7-TUu",
        "colab_type": "code",
        "colab": {
          "base_uri": "https://localhost:8080/",
          "height": 1000
        },
        "outputId": "cd684c04-ebb8-4eb7-98e9-3ab0b9a756b9"
      },
      "source": [
        "ts = time.time()\n",
        "\n",
        "model = XGBRegressor(\n",
        "    tree_method = \"gpu_hist\",\n",
        "    max_depth = 6, # Tree related parameter: determines how deeply each tree is allowed to grow during any boosting round\n",
        "    min_child_weight = 600, # \n",
        "    colsample_bytree=0.8, # percentage of features used per tree. High value can lead to overfitting\n",
        "    n_estimators = 500, # number of trees you want to build.\n",
        "    subsample=0.8, # Boosting parameter: percentage of samples used per tree. Low value can lead to underfitting\n",
        "    eta=0.3, #  Boosting parameter\n",
        "    seed=123)\n",
        "\n",
        "model.fit(\n",
        "    X_train, \n",
        "    Y_train, \n",
        "    eval_metric=\"rmse\", \n",
        "    eval_set=[(X_train, Y_train), (X_valid, Y_valid)], \n",
        "    verbose=True, \n",
        "    early_stopping_rounds = 10)\n",
        "\n",
        "time.time() - ts\n"
      ],
      "execution_count": 22,
      "outputs": [
        {
          "output_type": "stream",
          "text": [
            "[22:37:40] WARNING: /workspace/src/objective/regression_obj.cu:152: reg:linear is now deprecated in favor of reg:squarederror.\n",
            "[0]\tvalidation_0-rmse:1.1584\tvalidation_1-rmse:1.1242\n",
            "Multiple eval metrics have been passed: 'validation_1-rmse' will be used for early stopping.\n",
            "\n",
            "Will train until validation_1-rmse hasn't improved in 10 rounds.\n",
            "[1]\tvalidation_0-rmse:1.11709\tvalidation_1-rmse:1.09437\n",
            "[2]\tvalidation_0-rmse:1.08279\tvalidation_1-rmse:1.07006\n",
            "[3]\tvalidation_0-rmse:1.05953\tvalidation_1-rmse:1.05099\n",
            "[4]\tvalidation_0-rmse:1.03794\tvalidation_1-rmse:1.03486\n",
            "[5]\tvalidation_0-rmse:1.01982\tvalidation_1-rmse:1.02228\n",
            "[6]\tvalidation_0-rmse:0.999423\tvalidation_1-rmse:1.00936\n",
            "[7]\tvalidation_0-rmse:0.986333\tvalidation_1-rmse:1.00174\n",
            "[8]\tvalidation_0-rmse:0.970963\tvalidation_1-rmse:0.993061\n",
            "[9]\tvalidation_0-rmse:0.961072\tvalidation_1-rmse:0.98713\n",
            "[10]\tvalidation_0-rmse:0.949588\tvalidation_1-rmse:0.981171\n",
            "[11]\tvalidation_0-rmse:0.940442\tvalidation_1-rmse:0.976186\n",
            "[12]\tvalidation_0-rmse:0.932576\tvalidation_1-rmse:0.972643\n",
            "[13]\tvalidation_0-rmse:0.925982\tvalidation_1-rmse:0.969381\n",
            "[14]\tvalidation_0-rmse:0.920568\tvalidation_1-rmse:0.966773\n",
            "[15]\tvalidation_0-rmse:0.916735\tvalidation_1-rmse:0.964602\n",
            "[16]\tvalidation_0-rmse:0.912146\tvalidation_1-rmse:0.961677\n",
            "[17]\tvalidation_0-rmse:0.908666\tvalidation_1-rmse:0.960412\n",
            "[18]\tvalidation_0-rmse:0.905461\tvalidation_1-rmse:0.958784\n",
            "[19]\tvalidation_0-rmse:0.902984\tvalidation_1-rmse:0.957587\n",
            "[20]\tvalidation_0-rmse:0.899649\tvalidation_1-rmse:0.955116\n",
            "[21]\tvalidation_0-rmse:0.897608\tvalidation_1-rmse:0.9545\n",
            "[22]\tvalidation_0-rmse:0.895918\tvalidation_1-rmse:0.953674\n",
            "[23]\tvalidation_0-rmse:0.894102\tvalidation_1-rmse:0.95243\n",
            "[24]\tvalidation_0-rmse:0.892783\tvalidation_1-rmse:0.952431\n",
            "[25]\tvalidation_0-rmse:0.890603\tvalidation_1-rmse:0.950681\n",
            "[26]\tvalidation_0-rmse:0.889315\tvalidation_1-rmse:0.950173\n",
            "[27]\tvalidation_0-rmse:0.888304\tvalidation_1-rmse:0.949809\n",
            "[28]\tvalidation_0-rmse:0.887171\tvalidation_1-rmse:0.94945\n",
            "[29]\tvalidation_0-rmse:0.886174\tvalidation_1-rmse:0.949149\n",
            "[30]\tvalidation_0-rmse:0.885252\tvalidation_1-rmse:0.9492\n",
            "[31]\tvalidation_0-rmse:0.884369\tvalidation_1-rmse:0.948146\n",
            "[32]\tvalidation_0-rmse:0.883388\tvalidation_1-rmse:0.94739\n",
            "[33]\tvalidation_0-rmse:0.882801\tvalidation_1-rmse:0.946938\n",
            "[34]\tvalidation_0-rmse:0.880722\tvalidation_1-rmse:0.945071\n",
            "[35]\tvalidation_0-rmse:0.8799\tvalidation_1-rmse:0.944956\n",
            "[36]\tvalidation_0-rmse:0.879106\tvalidation_1-rmse:0.944758\n",
            "[37]\tvalidation_0-rmse:0.878554\tvalidation_1-rmse:0.94472\n",
            "[38]\tvalidation_0-rmse:0.877851\tvalidation_1-rmse:0.944526\n",
            "[39]\tvalidation_0-rmse:0.877488\tvalidation_1-rmse:0.944221\n",
            "[40]\tvalidation_0-rmse:0.876637\tvalidation_1-rmse:0.943502\n",
            "[41]\tvalidation_0-rmse:0.875738\tvalidation_1-rmse:0.943677\n",
            "[42]\tvalidation_0-rmse:0.874216\tvalidation_1-rmse:0.942722\n",
            "[43]\tvalidation_0-rmse:0.873424\tvalidation_1-rmse:0.943115\n",
            "[44]\tvalidation_0-rmse:0.872872\tvalidation_1-rmse:0.942828\n",
            "[45]\tvalidation_0-rmse:0.872068\tvalidation_1-rmse:0.942393\n",
            "[46]\tvalidation_0-rmse:0.87178\tvalidation_1-rmse:0.942493\n",
            "[47]\tvalidation_0-rmse:0.871148\tvalidation_1-rmse:0.942676\n",
            "[48]\tvalidation_0-rmse:0.870415\tvalidation_1-rmse:0.942126\n",
            "[49]\tvalidation_0-rmse:0.869797\tvalidation_1-rmse:0.94189\n",
            "[50]\tvalidation_0-rmse:0.869201\tvalidation_1-rmse:0.94122\n",
            "[51]\tvalidation_0-rmse:0.868551\tvalidation_1-rmse:0.940849\n",
            "[52]\tvalidation_0-rmse:0.867007\tvalidation_1-rmse:0.93934\n",
            "[53]\tvalidation_0-rmse:0.866395\tvalidation_1-rmse:0.939233\n",
            "[54]\tvalidation_0-rmse:0.866195\tvalidation_1-rmse:0.939363\n",
            "[55]\tvalidation_0-rmse:0.86603\tvalidation_1-rmse:0.939188\n",
            "[56]\tvalidation_0-rmse:0.865377\tvalidation_1-rmse:0.939093\n",
            "[57]\tvalidation_0-rmse:0.864807\tvalidation_1-rmse:0.938934\n",
            "[58]\tvalidation_0-rmse:0.864641\tvalidation_1-rmse:0.938759\n",
            "[59]\tvalidation_0-rmse:0.863873\tvalidation_1-rmse:0.938564\n",
            "[60]\tvalidation_0-rmse:0.863441\tvalidation_1-rmse:0.938277\n",
            "[61]\tvalidation_0-rmse:0.862785\tvalidation_1-rmse:0.937741\n",
            "[62]\tvalidation_0-rmse:0.862493\tvalidation_1-rmse:0.937599\n",
            "[63]\tvalidation_0-rmse:0.86154\tvalidation_1-rmse:0.937135\n",
            "[64]\tvalidation_0-rmse:0.860268\tvalidation_1-rmse:0.936758\n",
            "[65]\tvalidation_0-rmse:0.859847\tvalidation_1-rmse:0.936679\n",
            "[66]\tvalidation_0-rmse:0.859454\tvalidation_1-rmse:0.936368\n",
            "[67]\tvalidation_0-rmse:0.859302\tvalidation_1-rmse:0.936265\n",
            "[68]\tvalidation_0-rmse:0.858182\tvalidation_1-rmse:0.936246\n",
            "[69]\tvalidation_0-rmse:0.857538\tvalidation_1-rmse:0.936572\n",
            "[70]\tvalidation_0-rmse:0.856775\tvalidation_1-rmse:0.936258\n",
            "[71]\tvalidation_0-rmse:0.856211\tvalidation_1-rmse:0.936413\n",
            "[72]\tvalidation_0-rmse:0.855985\tvalidation_1-rmse:0.936512\n",
            "[73]\tvalidation_0-rmse:0.855701\tvalidation_1-rmse:0.936467\n",
            "[74]\tvalidation_0-rmse:0.855338\tvalidation_1-rmse:0.936428\n",
            "[75]\tvalidation_0-rmse:0.854734\tvalidation_1-rmse:0.936036\n",
            "[76]\tvalidation_0-rmse:0.854166\tvalidation_1-rmse:0.935719\n",
            "[77]\tvalidation_0-rmse:0.853493\tvalidation_1-rmse:0.935623\n",
            "[78]\tvalidation_0-rmse:0.852919\tvalidation_1-rmse:0.935588\n",
            "[79]\tvalidation_0-rmse:0.852452\tvalidation_1-rmse:0.935613\n",
            "[80]\tvalidation_0-rmse:0.852246\tvalidation_1-rmse:0.935632\n",
            "[81]\tvalidation_0-rmse:0.851886\tvalidation_1-rmse:0.935482\n",
            "[82]\tvalidation_0-rmse:0.851785\tvalidation_1-rmse:0.935351\n",
            "[83]\tvalidation_0-rmse:0.851431\tvalidation_1-rmse:0.935169\n",
            "[84]\tvalidation_0-rmse:0.851316\tvalidation_1-rmse:0.935012\n",
            "[85]\tvalidation_0-rmse:0.851029\tvalidation_1-rmse:0.934894\n",
            "[86]\tvalidation_0-rmse:0.850547\tvalidation_1-rmse:0.934752\n",
            "[87]\tvalidation_0-rmse:0.8501\tvalidation_1-rmse:0.934242\n",
            "[88]\tvalidation_0-rmse:0.849579\tvalidation_1-rmse:0.933733\n",
            "[89]\tvalidation_0-rmse:0.849206\tvalidation_1-rmse:0.933748\n",
            "[90]\tvalidation_0-rmse:0.848906\tvalidation_1-rmse:0.933657\n",
            "[91]\tvalidation_0-rmse:0.848605\tvalidation_1-rmse:0.933468\n",
            "[92]\tvalidation_0-rmse:0.848238\tvalidation_1-rmse:0.933391\n",
            "[93]\tvalidation_0-rmse:0.84795\tvalidation_1-rmse:0.933107\n",
            "[94]\tvalidation_0-rmse:0.847789\tvalidation_1-rmse:0.933147\n",
            "[95]\tvalidation_0-rmse:0.84729\tvalidation_1-rmse:0.932995\n",
            "[96]\tvalidation_0-rmse:0.847215\tvalidation_1-rmse:0.932908\n",
            "[97]\tvalidation_0-rmse:0.846929\tvalidation_1-rmse:0.932801\n",
            "[98]\tvalidation_0-rmse:0.846638\tvalidation_1-rmse:0.932521\n",
            "[99]\tvalidation_0-rmse:0.846261\tvalidation_1-rmse:0.93246\n",
            "[100]\tvalidation_0-rmse:0.846084\tvalidation_1-rmse:0.932559\n",
            "[101]\tvalidation_0-rmse:0.845696\tvalidation_1-rmse:0.932369\n",
            "[102]\tvalidation_0-rmse:0.845576\tvalidation_1-rmse:0.932244\n",
            "[103]\tvalidation_0-rmse:0.845337\tvalidation_1-rmse:0.932432\n",
            "[104]\tvalidation_0-rmse:0.84514\tvalidation_1-rmse:0.932625\n",
            "[105]\tvalidation_0-rmse:0.844936\tvalidation_1-rmse:0.932592\n",
            "[106]\tvalidation_0-rmse:0.844818\tvalidation_1-rmse:0.93239\n",
            "[107]\tvalidation_0-rmse:0.844688\tvalidation_1-rmse:0.932301\n",
            "[108]\tvalidation_0-rmse:0.84433\tvalidation_1-rmse:0.932032\n",
            "[109]\tvalidation_0-rmse:0.84424\tvalidation_1-rmse:0.932076\n",
            "[110]\tvalidation_0-rmse:0.844049\tvalidation_1-rmse:0.932005\n",
            "[111]\tvalidation_0-rmse:0.843693\tvalidation_1-rmse:0.931615\n",
            "[112]\tvalidation_0-rmse:0.843608\tvalidation_1-rmse:0.931603\n",
            "[113]\tvalidation_0-rmse:0.843365\tvalidation_1-rmse:0.931461\n",
            "[114]\tvalidation_0-rmse:0.843189\tvalidation_1-rmse:0.931428\n",
            "[115]\tvalidation_0-rmse:0.842971\tvalidation_1-rmse:0.931473\n",
            "[116]\tvalidation_0-rmse:0.842714\tvalidation_1-rmse:0.93184\n",
            "[117]\tvalidation_0-rmse:0.842499\tvalidation_1-rmse:0.932044\n",
            "[118]\tvalidation_0-rmse:0.842263\tvalidation_1-rmse:0.932305\n",
            "[119]\tvalidation_0-rmse:0.841944\tvalidation_1-rmse:0.932495\n",
            "[120]\tvalidation_0-rmse:0.841688\tvalidation_1-rmse:0.932395\n",
            "[121]\tvalidation_0-rmse:0.841554\tvalidation_1-rmse:0.932608\n",
            "[122]\tvalidation_0-rmse:0.84123\tvalidation_1-rmse:0.932562\n",
            "[123]\tvalidation_0-rmse:0.841174\tvalidation_1-rmse:0.93261\n",
            "[124]\tvalidation_0-rmse:0.840963\tvalidation_1-rmse:0.932423\n",
            "Stopping. Best iteration:\n",
            "[114]\tvalidation_0-rmse:0.843189\tvalidation_1-rmse:0.931428\n",
            "\n"
          ],
          "name": "stdout"
        },
        {
          "output_type": "execute_result",
          "data": {
            "text/plain": [
              "642.5967996120453"
            ]
          },
          "metadata": {
            "tags": []
          },
          "execution_count": 22
        }
      ]
    },
    {
      "cell_type": "code",
      "metadata": {
        "id": "rkUnAPYa-qfc",
        "colab_type": "code",
        "colab": {
          "base_uri": "https://localhost:8080/",
          "height": 282
        },
        "outputId": "8f33e9f0-28b9-4c07-95bd-b12a2408fa2b"
      },
      "source": [
        "feat_importances = pd.Series(model.feature_importances_, index=X_train.columns)\n",
        "feat_importances.nlargest(15).plot(kind='barh')"
      ],
      "execution_count": 23,
      "outputs": [
        {
          "output_type": "execute_result",
          "data": {
            "text/plain": [
              "<matplotlib.axes._subplots.AxesSubplot at 0x7f9243b6de80>"
            ]
          },
          "metadata": {
            "tags": []
          },
          "execution_count": 23
        },
        {
          "output_type": "display_data",
          "data": {
            "image/png": "[encoded data removed]",
            "text/plain": [
              "<Figure size 432x288 with 1 Axes>"
            ]
          },
          "metadata": {
            "tags": [],
            "needs_background": "light"
          }
        }
      ]
    },
    {
      "cell_type": "code",
      "metadata": {
        "id": "8gj3WoGm-sd7",
        "colab_type": "code",
        "colab": {}
      },
      "source": [
        "Y_test = model.predict(X_test).clip(0, 20)\n",
        "testdata = X_test\n",
        "testdata['Y_test'] = Y_test\n",
        "\n",
        "# Add target variable to transactions_test and leave only ID and target\n",
        "transactions_test.reset_index(inplace = True)\n",
        "submition = pd.merge(transactions_test, testdata[['shop_id', 'item_id', 'Y_test']], on = ['shop_id', 'item_id'])\n",
        "submition = submition[['ID', 'Y_test']]\n",
        "submition.columns = ['ID', 'item_cnt_month']"
      ],
      "execution_count": 0,
      "outputs": []
    },
    {
      "cell_type": "code",
      "metadata": {
        "id": "OaaBIjeh-s48",
        "colab_type": "code",
        "colab": {}
      },
      "source": [
        "# Export results\n",
        "submition.to_csv('V3.csv', index=False)\n",
        "files.download('V3.csv')"
      ],
      "execution_count": 0,
      "outputs": []
    },
    {
      "cell_type": "code",
      "metadata": {
        "id": "n7gZ1J9UjUAm",
        "colab_type": "code",
        "colab": {}
      },
      "source": [
        "X_train.columns"
      ],
      "execution_count": 0,
      "outputs": []
    },
    {
      "cell_type": "markdown",
      "metadata": {
        "id": "k2WPL_ByIZmg",
        "colab_type": "text"
      },
      "source": [
        ""
      ]
    }
  ]
}