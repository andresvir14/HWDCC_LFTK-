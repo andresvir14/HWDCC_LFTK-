{
  "nbformat": 4,
  "nbformat_minor": 0,
  "metadata": {
    "colab": {
      "name": "HWDCC-LFTK Final Proyect.ipynb",
      "provenance": [],
      "collapsed_sections": [],
      "machine_shape": "hm",
      "mount_file_id": "18yVGbVoPNkJFI_ZrnlYuu-UU-7Ra8lRh",
      "authorship_tag": "ABX9TyN156OVgqtDi72EMpc1g/Uu",
      "include_colab_link": true
    },
    "kernelspec": {
      "name": "python3",
      "display_name": "Python 3"
    },
    "accelerator": "GPU"
  },
  "cells": [
    {
      "cell_type": "markdown",
      "metadata": {
        "id": "view-in-github",
        "colab_type": "text"
      },
      "source": [
        "<a href=\"https://colab.research.google.com/github/andresvir14/HWDCC_LFTK-/blob/master/HWDCC_LFTK_Final_Proyect.ipynb\" target=\"_parent\"><img src=\"https://colab.research.google.com/assets/colab-badge.svg\" alt=\"Open In Colab\"/></a>"
      ]
    },
    {
      "cell_type": "code",
      "metadata": {
        "id": "Xr-u9bHh6qbA",
        "colab_type": "code",
        "colab": {
          "base_uri": "https://localhost:8080/",
          "height": 71
        },
        "outputId": "dfd658bd-d5b1-4a6e-ede4-7d6748f4ef24"
      },
      "source": [
        "# Import libraries\n",
        "# Basic libraries\n",
        "import pandas as pd\n",
        "import numpy as np\n",
        "\n",
        "# Preprocesing and feature extraction\n",
        "from sklearn.model_selection import KFold\n",
        "from itertools import product\n",
        "from sklearn import preprocessing\n",
        "from sklearn.feature_extraction.text import TfidfVectorizer\n",
        "\n",
        "# Modeling\n",
        "from sklearn.linear_model import LinearRegression\n",
        "from xgboost import XGBRegressor\n",
        "from xgboost import plot_importance\n",
        "\n",
        "# Ploting\n",
        "import matplotlib.pyplot as plt\n",
        "from matplotlib.pyplot import figure\n",
        "import seaborn as sns\n",
        "\n",
        "# To deal with downloaded files\n",
        "from google.colab import files\n",
        "\n",
        "# Others\n",
        "import time"
      ],
      "execution_count": 1,
      "outputs": [
        {
          "output_type": "stream",
          "text": [
            "/usr/local/lib/python3.6/dist-packages/statsmodels/tools/_testing.py:19: FutureWarning: pandas.util.testing is deprecated. Use the functions in the public API at pandas.testing instead.\n",
            "  import pandas.util.testing as tm\n"
          ],
          "name": "stderr"
        }
      ]
    },
    {
      "cell_type": "code",
      "metadata": {
        "id": "RWhrGXi38Jom",
        "colab_type": "code",
        "colab": {}
      },
      "source": [
        "# Functions used\n",
        "\n",
        "# Downcast variables \n",
        "def downcast(df):\n",
        "  '''\n",
        "    Change columns types from 64 to 32 bits\n",
        "  '''\n",
        "  float64columns = df.select_dtypes(['float64']).columns.tolist()\n",
        "  int64columns = df.select_dtypes(['int64']).columns.tolist()\n",
        "  df[float64columns] = df[float64columns].astype('float32')\n",
        "  df[int64columns] = df[int64columns].astype('int32')\n",
        "  return df\n",
        "\n",
        "# Averages of target variables\n",
        "def averagevalues(df, group, target):\n",
        "  '''\n",
        "  Takes a group of variables (from one two three) and a target variables to return the average \n",
        "  '''\n",
        "  grouped = df.groupby(group).agg({target: ['mean']})\n",
        "  \n",
        "  if (len(group) == 1):\n",
        "    grouped.columns = [group[0]+'_avg_'+target]\n",
        "  elif (len(group) == 2):\n",
        "    grouped.columns = [group[0]+'_'+group[1]+'_avg_'+target]\n",
        "  else:\n",
        "    grouped.columns = [group[0]+'_'+group[1]+'-'+group[2]+'_avg_'+target]\n",
        "\n",
        "  grouped.reset_index(inplace=True)\n",
        "  df = pd.merge(df, grouped, on=group, how='left')\n",
        "  return df\n",
        "\n",
        "# Function for mean encodings using LOO scheme\n",
        "def meaneconloo(df, groupvar):\n",
        "    \"\"\"\n",
        "    df: Pandas data frame that contains categorical and target features\n",
        "    catfeature: feature we want to create the mean encoding regularized through LOO scheme\n",
        "    \"\"\"\n",
        "    target_sum = df.groupby(groupvar)['target'].transform('sum')\n",
        "    n_objects  = df.groupby(groupvar)['target'].transform('count')\n",
        "    df[groupvar+'_target_ME'] = (target_sum - df['target']) / (n_objects - 1)\n",
        "    df[groupvar+'_target_ME'].fillna(df[groupvar+'_target_ME'].mean(), inplace=True)\n",
        "    print('Correlation of', groupvar, '_target_ME:', np.corrcoef(df['target'].values, df[groupvar+'_target_ME'].values)[0][1])\n",
        "    return df\n",
        "\n",
        "# Function for mean encoding with smothing method\n",
        "def me_smoothing(df, groupvar, alpha):\n",
        "  n_objects = df.groupby(groupvar)['target'].transform('count')\n",
        "  meantarget = df.groupby(groupvar)['target'].transform('mean')\n",
        "  df[groupvar+'_target_ME'] = (meantarget * n_objects + 0.3343 * alpha) / (n_objects + 100)\n",
        "  print('Correlation of', groupvar, '_target_ME:', np.corrcoef(df['target'].values, df[groupvar+'_target_ME'].values)[0][1])\n",
        "  return df\n",
        "\n",
        "# Function for kfold mean target encoding\n",
        "def me_kfold(df, folds, groupvar):\n",
        "  df[groupvar+'_target_ME'] = 0\n",
        "  kf = KFold(folds, shuffle = False, random_state = 123)\n",
        "\n",
        "  for tr_ind_ME, val_ind_ME in kf.split(train):\n",
        "    X_tr_ME, X_val_ME = df.loc[tr_ind_ME], df.loc[val_ind_ME]\n",
        "    X_val_ME[groupvar+'_target_ME'] = X_val_ME[groupvar].map(X_tr_ME.groupby(groupvar).target.mean())\n",
        "    df.loc[val_ind_ME] = X_val_ME\n",
        "  df[groupvar+'_target_ME'].fillna(0.3343, inplace=True)\n",
        "  print('Correlation of', groupvar, '_target_ME:', np.corrcoef(df['target'].values, df[groupvar+'_target_ME'].values)[0][1])\n",
        "  return df\n",
        "\n",
        "# Function that creates the lags of given columns\n",
        "def lag_feature(df, lags, col):\n",
        "    tmp = df[['date_block_num','shop_id','item_id', col]]\n",
        "    for i in lags:\n",
        "        shifted = tmp.copy()\n",
        "        shifted.columns = ['date_block_num','shop_id','item_id', col+'_lag_'+ str(i)]\n",
        "        shifted['date_block_num'] += i\n",
        "        shifted[col+'_lag_'+ str(i)] = shifted[col+'_lag_'+ str(i)].astype('float16')\n",
        "        df = pd.merge(df, shifted, on=['date_block_num','shop_id','item_id'], how='left')\n",
        "    return df    "
      ],
      "execution_count": 0,
      "outputs": []
    },
    {
      "cell_type": "code",
      "metadata": {
        "id": "dVmnEFrM66HL",
        "colab_type": "code",
        "colab": {}
      },
      "source": [
        "# Load de the data\n",
        "transactions    = pd.read_csv('/content/drive/My Drive/DataScience/data/competitive-data-science-predict-future-sales/sales_train.csv')\n",
        "items           = pd.read_csv('/content/drive/My Drive/DataScience/data/competitive-data-science-predict-future-sales/items.csv')\n",
        "item_categories = pd.read_csv('/content/drive/My Drive/DataScience/data/competitive-data-science-predict-future-sales/item_categories.csv')\n",
        "shops           = pd.read_csv('/content/drive/My Drive/DataScience/data/competitive-data-science-predict-future-sales/shops.csv')\n",
        "transactions_test    = pd.read_csv('/content/drive/My Drive/DataScience/data/competitive-data-science-predict-future-sales/test.csv')\n"
      ],
      "execution_count": 0,
      "outputs": []
    },
    {
      "cell_type": "code",
      "metadata": {
        "id": "GEKnqvug6-gR",
        "colab_type": "code",
        "colab": {}
      },
      "source": [
        "index_cols = ['shop_id', 'item_id', 'date_block_num']\n",
        "\n",
        "# For every month we create a grid from all shops/items combinations from that month\n",
        "grid = [] \n",
        "for block_num in transactions['date_block_num'].unique():\n",
        "    cur_shops = transactions[transactions['date_block_num']==block_num]['shop_id'].unique()\n",
        "    cur_items = transactions[transactions['date_block_num']==block_num]['item_id'].unique()\n",
        "    grid.append(np.array(list(product(*[cur_shops, cur_items, [block_num]])), dtype = 'int16'))\n",
        "\n",
        "# Turn the grid into pandas dataframe\n",
        "grid = pd.DataFrame(np.vstack(grid), columns = index_cols, dtype = np.int32)\n",
        "\n",
        "# Get aggregated values of sales by shop_id, item_id\n",
        "gb = transactions.groupby(index_cols).agg({'item_cnt_day':'sum'})\n",
        "gb.columns = ['target']\n",
        "gb.reset_index(inplace = True)\n",
        "\n",
        "# Join aggregated data to the grid and sort the data\n",
        "train = pd.merge(grid, gb, how='left',on=index_cols).fillna(0)\n",
        "train['target'] = train['target'].clip(0,20)\n",
        "train.sort_values(['date_block_num','shop_id','item_id'],inplace=True)\n",
        "\n",
        "del grid, gb"
      ],
      "execution_count": 0,
      "outputs": []
    },
    {
      "cell_type": "code",
      "metadata": {
        "id": "PSirxUgkmwbk",
        "colab_type": "code",
        "colab": {}
      },
      "source": [
        "# Add information from items and shops to train set\n",
        "train = pd.merge(train, items, on = ['item_id']) # Join item_name and item category\n",
        "train = pd.merge(train, shops, on = ['shop_id']) # Join shop_name"
      ],
      "execution_count": 0,
      "outputs": []
    },
    {
      "cell_type": "code",
      "metadata": {
        "id": "0MXOiCOMW0Z6",
        "colab_type": "code",
        "colab": {
          "base_uri": "https://localhost:8080/",
          "height": 68
        },
        "outputId": "b8663364-1c2e-4fa1-d6d5-b859676e2fb1"
      },
      "source": [
        "train.columns"
      ],
      "execution_count": 6,
      "outputs": [
        {
          "output_type": "execute_result",
          "data": {
            "text/plain": [
              "Index(['shop_id', 'item_id', 'date_block_num', 'target', 'item_name',\n",
              "       'item_category_id', 'shop_name'],\n",
              "      dtype='object')"
            ]
          },
          "metadata": {
            "tags": []
          },
          "execution_count": 6
        }
      ]
    },
    {
      "cell_type": "code",
      "metadata": {
        "id": "FrWjfu5mnPL2",
        "colab_type": "code",
        "colab": {
          "base_uri": "https://localhost:8080/",
          "height": 153
        },
        "outputId": "b805c587-2c49-40b8-d8be-a37ebfd56705"
      },
      "source": [
        "# Mean encoding with regularization smothing alpha 200\n",
        "\n",
        "# Simple grouping\n",
        "train = me_smoothing(train, 'date_block_num', 200)\n",
        "train = me_smoothing(train, 'shop_id', 200)\n",
        "train = me_smoothing(train, 'item_category_id', 200)\n",
        "train = me_smoothing(train, 'item_id', 200)\n",
        "\n",
        "# Pairs of vars\n",
        "train['date_item'] = train['date_block_num'].astype(str) + train['item_id'].astype(str)\n",
        "train['date_shop'] = train['date_block_num'].astype(str) + train['shop_id'].astype(str)\n",
        "train['date_cat'] = train['date_block_num'].astype(str) + train['item_category_id'].astype(str)\n",
        "train['shop_cat'] = train['shop_id'].astype(str) + train['item_category_id'].astype(str)\n",
        "\n",
        "train = me_smoothing(train, 'date_item', 200)\n",
        "train = me_smoothing(train, 'date_shop', 200)\n",
        "train = me_smoothing(train, 'date_cat', 200)\n",
        "train = me_smoothing(train, 'shop_cat', 200)\n",
        "\n",
        "train.drop(['date_item', 'date_shop', 'date_cat', 'shop_cat'], axis = 1, inplace=True)"
      ],
      "execution_count": 7,
      "outputs": [
        {
          "output_type": "stream",
          "text": [
            "Correlation of date_block_num _target_ME: 0.03537972921251327\n",
            "Correlation of shop_id _target_ME: 0.1698071567861257\n",
            "Correlation of item_category_id _target_ME: 0.2795260593567541\n",
            "Correlation of item_id _target_ME: 0.47321023000016027\n",
            "Correlation of date_item _target_ME: 0.6803105456855745\n",
            "Correlation of date_shop _target_ME: 0.17735409607780533\n",
            "Correlation of date_cat _target_ME: 0.2968952879573555\n",
            "Correlation of shop_cat _target_ME: 0.3682206393322811\n"
          ],
          "name": "stdout"
        }
      ]
    },
    {
      "cell_type": "code",
      "metadata": {
        "id": "y8lsFtHT84V9",
        "colab_type": "code",
        "colab": {}
      },
      "source": [
        "# Add items and shops to test data\n",
        "test = pd.merge(transactions_test, items, on = ['item_id']) # Join item_name and item category\n",
        "test = pd.merge(test, shops, on = ['shop_id']) # Join shop_name\n",
        "\n",
        "# Set ID as index and join train with test data\n",
        "test.set_index('ID', inplace = True)\n",
        "test['date_block_num'] = 34\n",
        "data = pd.concat([train, test], sort = False)\n",
        "data = downcast(data)\n",
        "\n",
        "del items, shops, item_categories, test, train"
      ],
      "execution_count": 0,
      "outputs": []
    },
    {
      "cell_type": "code",
      "metadata": {
        "id": "AvZu80Ox6wKp",
        "colab_type": "code",
        "colab": {
          "base_uri": "https://localhost:8080/",
          "height": 119
        },
        "outputId": "2ef2d821-b0b9-41d5-b7db-742c31354fd0"
      },
      "source": [
        "data.columns"
      ],
      "execution_count": 9,
      "outputs": [
        {
          "output_type": "execute_result",
          "data": {
            "text/plain": [
              "Index(['shop_id', 'item_id', 'date_block_num', 'target', 'item_name',\n",
              "       'item_category_id', 'shop_name', 'date_block_num_target_ME',\n",
              "       'shop_id_target_ME', 'item_category_id_target_ME', 'item_id_target_ME',\n",
              "       'date_item_target_ME', 'date_shop_target_ME', 'date_cat_target_ME',\n",
              "       'shop_cat_target_ME'],\n",
              "      dtype='object')"
            ]
          },
          "metadata": {
            "tags": []
          },
          "execution_count": 9
        }
      ]
    },
    {
      "cell_type": "code",
      "metadata": {
        "id": "koOh6nvY9QeI",
        "colab_type": "code",
        "colab": {
          "base_uri": "https://localhost:8080/",
          "height": 34
        },
        "outputId": "28f748a5-999b-441c-f9bd-68d98421b6f3"
      },
      "source": [
        "# Lagged values\n",
        "ts = time.time()\n",
        "\n",
        "data = lag_feature(data, [1, 2, 3, 4, 5, 12], 'target')\n",
        "data = lag_feature(data, [1, 2, 3, 4, 5, 12], 'date_block_num_target_ME')\n",
        "data = lag_feature(data, [1, 2, 3, 4, 5, 12], 'shop_id_target_ME')\n",
        "data = lag_feature(data, [1, 2, 3, 4, 5, 12], 'item_category_id_target_ME')\n",
        "data = lag_feature(data, [1, 2, 3, 4, 5, 12], 'item_id_target_ME')\n",
        "data = lag_feature(data, [1, 2, 3, 4, 5, 12], 'date_item_target_ME')\n",
        "data = lag_feature(data, [1, 2, 3, 4, 5, 12], 'date_shop_target_ME')\n",
        "data = lag_feature(data, [1, 2, 3, 4, 5, 12], 'date_cat_target_ME')\n",
        "data = lag_feature(data, [1, 2, 3, 4, 5, 12], 'shop_cat_target_ME')\n",
        "\n",
        "data = downcast(data)\n",
        "\n",
        "time.time() - ts"
      ],
      "execution_count": 10,
      "outputs": [
        {
          "output_type": "execute_result",
          "data": {
            "text/plain": [
              "523.9502229690552"
            ]
          },
          "metadata": {
            "tags": []
          },
          "execution_count": 10
        }
      ]
    },
    {
      "cell_type": "code",
      "metadata": {
        "id": "nqegq3ir_og-",
        "colab_type": "code",
        "colab": {}
      },
      "source": [
        "# Drop level 0 lagged features\n",
        "data.drop(['date_block_num_target_ME', 'shop_id_target_ME', 'item_category_id_target_ME', 'item_id_target_ME', 'date_item_target_ME', 'date_shop_target_ME', 'date_cat_target_ME', 'shop_cat_target_ME'], axis = 1, inplace = True) # Drop object columns\n",
        "data = downcast(data)"
      ],
      "execution_count": 0,
      "outputs": []
    },
    {
      "cell_type": "code",
      "metadata": {
        "id": "7PPCCLD79k6z",
        "colab_type": "code",
        "colab": {}
      },
      "source": [
        "data.fillna(0, inplace=True)\n",
        "data.drop(['item_name', 'shop_name'], axis = 1, inplace = True) # Drop object columns\n",
        "\n",
        "X_train = data[(data.date_block_num > 11) & (data.date_block_num < 33)].drop(['target'], axis=1)\n",
        "Y_train = data[(data.date_block_num > 11) & (data.date_block_num < 33)]['target']\n",
        "X_valid = data[data.date_block_num == 33].drop(['target'], axis=1)\n",
        "Y_valid = data[data.date_block_num == 33]['target']\n",
        "X_test = data[data.date_block_num == 34].drop(['target'], axis=1)\n",
        "\n",
        "# del data"
      ],
      "execution_count": 0,
      "outputs": []
    },
    {
      "cell_type": "code",
      "metadata": {
        "id": "2n0rV2l7-TUu",
        "colab_type": "code",
        "colab": {
          "base_uri": "https://localhost:8080/",
          "height": 1000
        },
        "outputId": "8563586e-14bd-4043-88de-e2317bb492d4"
      },
      "source": [
        "ts = time.time()\n",
        "\n",
        "model = XGBRegressor(\n",
        "    tree_method = \"gpu_hist\",\n",
        "    max_depth = 6, # Tree related parameter: determines how deeply each tree is allowed to grow during any boosting round\n",
        "    min_child_weight = 600, # \n",
        "    colsample_bytree=0.8, # percentage of features used per tree. High value can lead to overfitting\n",
        "    n_estimators = 500, # number of trees you want to build.\n",
        "    subsample=0.8, # Boosting parameter: percentage of samples used per tree. Low value can lead to underfitting\n",
        "    eta=0.3, #  Boosting parameter\n",
        "    seed=123)\n",
        "\n",
        "model.fit(\n",
        "    X_train, \n",
        "    Y_train, \n",
        "    eval_metric=\"rmse\", \n",
        "    eval_set=[(X_train, Y_train), (X_valid, Y_valid)], \n",
        "    verbose=True, \n",
        "    early_stopping_rounds = 10)\n",
        "\n",
        "time.time() - ts\n"
      ],
      "execution_count": 13,
      "outputs": [
        {
          "output_type": "stream",
          "text": [
            "[16:40:00] WARNING: /workspace/src/objective/regression_obj.cu:152: reg:linear is now deprecated in favor of reg:squarederror.\n",
            "[0]\tvalidation_0-rmse:1.16234\tvalidation_1-rmse:1.12778\n",
            "Multiple eval metrics have been passed: 'validation_1-rmse' will be used for early stopping.\n",
            "\n",
            "Will train until validation_1-rmse hasn't improved in 10 rounds.\n",
            "[1]\tvalidation_0-rmse:1.11849\tvalidation_1-rmse:1.09426\n",
            "[2]\tvalidation_0-rmse:1.0819\tvalidation_1-rmse:1.06754\n",
            "[3]\tvalidation_0-rmse:1.05032\tvalidation_1-rmse:1.0452\n",
            "[4]\tvalidation_0-rmse:1.02561\tvalidation_1-rmse:1.02813\n",
            "[5]\tvalidation_0-rmse:1.00294\tvalidation_1-rmse:1.01339\n",
            "[6]\tvalidation_0-rmse:0.983773\tvalidation_1-rmse:1.00066\n",
            "[7]\tvalidation_0-rmse:0.967331\tvalidation_1-rmse:0.990976\n",
            "[8]\tvalidation_0-rmse:0.953475\tvalidation_1-rmse:0.982044\n",
            "[9]\tvalidation_0-rmse:0.941864\tvalidation_1-rmse:0.975045\n",
            "[10]\tvalidation_0-rmse:0.931676\tvalidation_1-rmse:0.970084\n",
            "[11]\tvalidation_0-rmse:0.923318\tvalidation_1-rmse:0.965803\n",
            "[12]\tvalidation_0-rmse:0.916364\tvalidation_1-rmse:0.962603\n",
            "[13]\tvalidation_0-rmse:0.909854\tvalidation_1-rmse:0.959514\n",
            "[14]\tvalidation_0-rmse:0.90408\tvalidation_1-rmse:0.956794\n",
            "[15]\tvalidation_0-rmse:0.899434\tvalidation_1-rmse:0.954945\n",
            "[16]\tvalidation_0-rmse:0.894829\tvalidation_1-rmse:0.951663\n",
            "[17]\tvalidation_0-rmse:0.891471\tvalidation_1-rmse:0.950396\n",
            "[18]\tvalidation_0-rmse:0.887713\tvalidation_1-rmse:0.949204\n",
            "[19]\tvalidation_0-rmse:0.88481\tvalidation_1-rmse:0.948426\n",
            "[20]\tvalidation_0-rmse:0.882392\tvalidation_1-rmse:0.947651\n",
            "[21]\tvalidation_0-rmse:0.88043\tvalidation_1-rmse:0.947037\n",
            "[22]\tvalidation_0-rmse:0.878252\tvalidation_1-rmse:0.946569\n",
            "[23]\tvalidation_0-rmse:0.876465\tvalidation_1-rmse:0.945564\n",
            "[24]\tvalidation_0-rmse:0.874863\tvalidation_1-rmse:0.945252\n",
            "[25]\tvalidation_0-rmse:0.871959\tvalidation_1-rmse:0.942106\n",
            "[26]\tvalidation_0-rmse:0.870344\tvalidation_1-rmse:0.941648\n",
            "[27]\tvalidation_0-rmse:0.868422\tvalidation_1-rmse:0.939947\n",
            "[28]\tvalidation_0-rmse:0.86748\tvalidation_1-rmse:0.939277\n",
            "[29]\tvalidation_0-rmse:0.866433\tvalidation_1-rmse:0.938464\n",
            "[30]\tvalidation_0-rmse:0.865244\tvalidation_1-rmse:0.938007\n",
            "[31]\tvalidation_0-rmse:0.863374\tvalidation_1-rmse:0.936375\n",
            "[32]\tvalidation_0-rmse:0.861677\tvalidation_1-rmse:0.935202\n",
            "[33]\tvalidation_0-rmse:0.8608\tvalidation_1-rmse:0.935133\n",
            "[34]\tvalidation_0-rmse:0.860064\tvalidation_1-rmse:0.935154\n",
            "[35]\tvalidation_0-rmse:0.859251\tvalidation_1-rmse:0.935052\n",
            "[36]\tvalidation_0-rmse:0.858333\tvalidation_1-rmse:0.934638\n",
            "[37]\tvalidation_0-rmse:0.85773\tvalidation_1-rmse:0.934356\n",
            "[38]\tvalidation_0-rmse:0.856787\tvalidation_1-rmse:0.933467\n",
            "[39]\tvalidation_0-rmse:0.856148\tvalidation_1-rmse:0.933328\n",
            "[40]\tvalidation_0-rmse:0.855545\tvalidation_1-rmse:0.933021\n",
            "[41]\tvalidation_0-rmse:0.854844\tvalidation_1-rmse:0.932302\n",
            "[42]\tvalidation_0-rmse:0.854257\tvalidation_1-rmse:0.932434\n",
            "[43]\tvalidation_0-rmse:0.852389\tvalidation_1-rmse:0.931179\n",
            "[44]\tvalidation_0-rmse:0.85131\tvalidation_1-rmse:0.930646\n",
            "[45]\tvalidation_0-rmse:0.850888\tvalidation_1-rmse:0.930816\n",
            "[46]\tvalidation_0-rmse:0.849994\tvalidation_1-rmse:0.930513\n",
            "[47]\tvalidation_0-rmse:0.849618\tvalidation_1-rmse:0.930061\n",
            "[48]\tvalidation_0-rmse:0.849237\tvalidation_1-rmse:0.930019\n",
            "[49]\tvalidation_0-rmse:0.848324\tvalidation_1-rmse:0.929523\n",
            "[50]\tvalidation_0-rmse:0.847524\tvalidation_1-rmse:0.928855\n",
            "[51]\tvalidation_0-rmse:0.846922\tvalidation_1-rmse:0.928989\n",
            "[52]\tvalidation_0-rmse:0.846425\tvalidation_1-rmse:0.928985\n",
            "[53]\tvalidation_0-rmse:0.84603\tvalidation_1-rmse:0.928953\n",
            "[54]\tvalidation_0-rmse:0.84544\tvalidation_1-rmse:0.928049\n",
            "[55]\tvalidation_0-rmse:0.844518\tvalidation_1-rmse:0.927156\n",
            "[56]\tvalidation_0-rmse:0.844205\tvalidation_1-rmse:0.926923\n",
            "[57]\tvalidation_0-rmse:0.843668\tvalidation_1-rmse:0.926424\n",
            "[58]\tvalidation_0-rmse:0.843387\tvalidation_1-rmse:0.926472\n",
            "[59]\tvalidation_0-rmse:0.842664\tvalidation_1-rmse:0.925818\n",
            "[60]\tvalidation_0-rmse:0.84176\tvalidation_1-rmse:0.925245\n",
            "[61]\tvalidation_0-rmse:0.841501\tvalidation_1-rmse:0.925094\n",
            "[62]\tvalidation_0-rmse:0.841001\tvalidation_1-rmse:0.924932\n",
            "[63]\tvalidation_0-rmse:0.840635\tvalidation_1-rmse:0.924792\n",
            "[64]\tvalidation_0-rmse:0.840034\tvalidation_1-rmse:0.924269\n",
            "[65]\tvalidation_0-rmse:0.839716\tvalidation_1-rmse:0.924016\n",
            "[66]\tvalidation_0-rmse:0.839502\tvalidation_1-rmse:0.923875\n",
            "[67]\tvalidation_0-rmse:0.839302\tvalidation_1-rmse:0.924002\n",
            "[68]\tvalidation_0-rmse:0.839058\tvalidation_1-rmse:0.924352\n",
            "[69]\tvalidation_0-rmse:0.838229\tvalidation_1-rmse:0.924445\n",
            "[70]\tvalidation_0-rmse:0.837843\tvalidation_1-rmse:0.924692\n",
            "[71]\tvalidation_0-rmse:0.83762\tvalidation_1-rmse:0.924798\n",
            "[72]\tvalidation_0-rmse:0.837391\tvalidation_1-rmse:0.924657\n",
            "[73]\tvalidation_0-rmse:0.836831\tvalidation_1-rmse:0.924565\n",
            "[74]\tvalidation_0-rmse:0.836631\tvalidation_1-rmse:0.924492\n",
            "[75]\tvalidation_0-rmse:0.836314\tvalidation_1-rmse:0.924072\n",
            "[76]\tvalidation_0-rmse:0.835752\tvalidation_1-rmse:0.923978\n",
            "Stopping. Best iteration:\n",
            "[66]\tvalidation_0-rmse:0.839502\tvalidation_1-rmse:0.923875\n",
            "\n"
          ],
          "name": "stdout"
        },
        {
          "output_type": "execute_result",
          "data": {
            "text/plain": [
              "397.4745829105377"
            ]
          },
          "metadata": {
            "tags": []
          },
          "execution_count": 13
        }
      ]
    },
    {
      "cell_type": "code",
      "metadata": {
        "id": "rkUnAPYa-qfc",
        "colab_type": "code",
        "colab": {
          "base_uri": "https://localhost:8080/",
          "height": 282
        },
        "outputId": "5d3ca0d0-e404-4a04-9a20-c8b7ff04d8f0"
      },
      "source": [
        "feat_importances = pd.Series(model.feature_importances_, index=X_train.columns)\n",
        "feat_importances.nlargest(15).plot(kind='barh')"
      ],
      "execution_count": 14,
      "outputs": [
        {
          "output_type": "execute_result",
          "data": {
            "text/plain": [
              "<matplotlib.axes._subplots.AxesSubplot at 0x7f58bfd20240>"
            ]
          },
          "metadata": {
            "tags": []
          },
          "execution_count": 14
        },
        {
          "output_type": "display_data",
          "data": {
            "image/png": "[encoded data removed]",
            "text/plain": [
              "<Figure size 432x288 with 1 Axes>"
            ]
          },
          "metadata": {
            "tags": [],
            "needs_background": "light"
          }
        }
      ]
    },
    {
      "cell_type": "code",
      "metadata": {
        "id": "8gj3WoGm-sd7",
        "colab_type": "code",
        "colab": {}
      },
      "source": [
        "Y_test = model.predict(X_test).clip(0, 20)\n",
        "testdata = X_test\n",
        "testdata['Y_test'] = Y_test\n",
        "\n",
        "# Add target variable to transactions_test and leave only ID and target\n",
        "transactions_test.reset_index(inplace = True)\n",
        "submition = pd.merge(transactions_test, testdata[['shop_id', 'item_id', 'Y_test']], on = ['shop_id', 'item_id'])\n",
        "submition = submition[['ID', 'Y_test']]\n",
        "submition.columns = ['ID', 'item_cnt_month']"
      ],
      "execution_count": 0,
      "outputs": []
    },
    {
      "cell_type": "code",
      "metadata": {
        "id": "OaaBIjeh-s48",
        "colab_type": "code",
        "colab": {}
      },
      "source": [
        "# Export results\n",
        "submition.to_csv('V9_Smooth200_Train11.csv', index=False)\n",
        "files.download('V9_Smooth200_Train11.csv')"
      ],
      "execution_count": 0,
      "outputs": []
    },
    {
      "cell_type": "markdown",
      "metadata": {
        "id": "k2WPL_ByIZmg",
        "colab_type": "text"
      },
      "source": [
        ""
      ]
    }
  ]
}