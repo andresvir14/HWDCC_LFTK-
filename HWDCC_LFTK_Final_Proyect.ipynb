{
  "nbformat": 4,
  "nbformat_minor": 0,
  "metadata": {
    "colab": {
      "name": "HWDCC-LFTK Final Proyect.ipynb",
      "provenance": [],
      "collapsed_sections": [],
      "machine_shape": "hm",
      "mount_file_id": "18yVGbVoPNkJFI_ZrnlYuu-UU-7Ra8lRh",
      "authorship_tag": "ABX9TyMr06IMQEik2+ox8+uzRyBS",
      "include_colab_link": true
    },
    "kernelspec": {
      "name": "python3",
      "display_name": "Python 3"
    },
    "accelerator": "GPU"
  },
  "cells": [
    {
      "cell_type": "markdown",
      "metadata": {
        "id": "view-in-github",
        "colab_type": "text"
      },
      "source": [
        "<a href=\"https://colab.research.google.com/github/andresvir14/HWDCC_LFTK-/blob/master/HWDCC_LFTK_Final_Proyect.ipynb\" target=\"_parent\"><img src=\"https://colab.research.google.com/assets/colab-badge.svg\" alt=\"Open In Colab\"/></a>"
      ]
    },
    {
      "cell_type": "code",
      "metadata": {
        "id": "Xr-u9bHh6qbA",
        "colab_type": "code",
        "colab": {
          "base_uri": "https://localhost:8080/",
          "height": 71
        },
        "outputId": "4a46fd48-7e73-47b1-b39a-168784993c54"
      },
      "source": [
        "# Import libraries\n",
        "# Basic libraries\n",
        "import pandas as pd\n",
        "import numpy as np\n",
        "\n",
        "# Preprocesing and feature extraction\n",
        "from sklearn.model_selection import KFold\n",
        "from itertools import product\n",
        "from sklearn import preprocessing\n",
        "from sklearn.feature_extraction.text import TfidfVectorizer\n",
        "\n",
        "# Modeling\n",
        "from sklearn.linear_model import LinearRegression\n",
        "from xgboost import XGBRegressor\n",
        "from xgboost import plot_importance\n",
        "\n",
        "# Ploting\n",
        "import matplotlib.pyplot as plt\n",
        "from matplotlib.pyplot import figure\n",
        "import seaborn as sns\n",
        "\n",
        "# To deal with downloaded files\n",
        "from google.colab import files\n",
        "\n",
        "# Others\n",
        "import time"
      ],
      "execution_count": 1,
      "outputs": [
        {
          "output_type": "stream",
          "text": [
            "/usr/local/lib/python3.6/dist-packages/statsmodels/tools/_testing.py:19: FutureWarning: pandas.util.testing is deprecated. Use the functions in the public API at pandas.testing instead.\n",
            "  import pandas.util.testing as tm\n"
          ],
          "name": "stderr"
        }
      ]
    },
    {
      "cell_type": "code",
      "metadata": {
        "id": "RWhrGXi38Jom",
        "colab_type": "code",
        "colab": {}
      },
      "source": [
        "# Functions used\n",
        "\n",
        "# Downcast variables \n",
        "def downcast(df):\n",
        "  '''\n",
        "    Change columns types from 64 to 32 bits\n",
        "  '''\n",
        "  float64columns = df.select_dtypes(['float64']).columns.tolist()\n",
        "  int64columns = df.select_dtypes(['int64']).columns.tolist()\n",
        "  df[float64columns] = df[float64columns].astype('float32')\n",
        "  df[int64columns] = df[int64columns].astype('int32')\n",
        "  return df\n",
        "\n",
        "# Averages of target variables\n",
        "def averagevalues(df, group, target):\n",
        "  '''\n",
        "  Takes a group of variables (from one two three) and a target variables to return the average \n",
        "  '''\n",
        "  grouped = df.groupby(group).agg({target: ['mean']})\n",
        "  \n",
        "  if (len(group) == 1):\n",
        "    grouped.columns = [group[0]+'_avg_'+target]\n",
        "  elif (len(group) == 2):\n",
        "    grouped.columns = [group[0]+'_'+group[1]+'_avg_'+target]\n",
        "  else:\n",
        "    grouped.columns = [group[0]+'_'+group[1]+'-'+group[2]+'_avg_'+target]\n",
        "\n",
        "  grouped.reset_index(inplace=True)\n",
        "  df = pd.merge(df, grouped, on=group, how='left')\n",
        "  return df\n",
        "\n",
        "# Function for mean encodings using LOO scheme\n",
        "def meaneconloo(df, groupvar):\n",
        "    \"\"\"\n",
        "    df: Pandas data frame that contains categorical and target features\n",
        "    catfeature: feature we want to create the mean encoding regularized through LOO scheme\n",
        "    \"\"\"\n",
        "    target_sum = df.groupby(groupvar)['target'].transform('sum')\n",
        "    n_objects  = df.groupby(groupvar)['target'].transform('count')\n",
        "    df[groupvar+'_target_ME'] = (target_sum - df['target']) / (n_objects - 1)\n",
        "    df[groupvar+'_target_ME'].fillna(df[groupvar+'_target_ME'].mean(), inplace=True)\n",
        "    print('Correlation of', groupvar, '_target_ME:', np.corrcoef(df['target'].values, df[groupvar+'_target_ME'].values)[0][1])\n",
        "    return df\n",
        "\n",
        "# Function for mean encoding with smothing method\n",
        "def me_smoothing(df, groupvar, alpha):\n",
        "  n_objects = df.groupby(groupvar)['target'].transform('count')\n",
        "  meantarget = df.groupby(groupvar)['target'].transform('mean')\n",
        "  df[groupvar+'_target_ME'] = (meantarget * n_objects + 0.3343 * alpha) / (n_objects + alpha)\n",
        "  print('Correlation of', groupvar, '_target_ME:', np.corrcoef(df['target'].values, df[groupvar+'_target_ME'].values)[0][1])\n",
        "  return df\n",
        "\n",
        "# Function for kfold mean target encoding\n",
        "def me_kfold(df, folds, groupvar):\n",
        "  df[groupvar+'_target_ME'] = 0\n",
        "  kf = KFold(folds, shuffle = False, random_state = 123)\n",
        "\n",
        "  for tr_ind_ME, val_ind_ME in kf.split(train):\n",
        "    X_tr_ME, X_val_ME = df.loc[tr_ind_ME], df.loc[val_ind_ME]\n",
        "    X_val_ME[groupvar+'_target_ME'] = X_val_ME[groupvar].map(X_tr_ME.groupby(groupvar).target.mean())\n",
        "    df.loc[val_ind_ME] = X_val_ME\n",
        "  df[groupvar+'_target_ME'].fillna(0.3343, inplace=True)\n",
        "  print('Correlation of', groupvar, '_target_ME:', np.corrcoef(df['target'].values, df[groupvar+'_target_ME'].values)[0][1])\n",
        "  return df\n",
        "\n",
        "# Function that creates the lags of given columns\n",
        "def lag_feature(df, lags, col):\n",
        "    tmp = df[['date_block_num','shop_id','item_id', col]]\n",
        "    for i in lags:\n",
        "        shifted = tmp.copy()\n",
        "        shifted.columns = ['date_block_num','shop_id','item_id', col+'_lag_'+ str(i)]\n",
        "        shifted['date_block_num'] += i\n",
        "        shifted[col+'_lag_'+ str(i)] = shifted[col+'_lag_'+ str(i)].astype('float16')\n",
        "        df = pd.merge(df, shifted, on=['date_block_num','shop_id','item_id'], how='left')\n",
        "    return df    "
      ],
      "execution_count": 0,
      "outputs": []
    },
    {
      "cell_type": "code",
      "metadata": {
        "id": "dVmnEFrM66HL",
        "colab_type": "code",
        "colab": {}
      },
      "source": [
        "# Load de the data\n",
        "transactions    = pd.read_csv('/content/drive/My Drive/DataScience/data/competitive-data-science-predict-future-sales/sales_train.csv')\n",
        "items           = pd.read_csv('/content/drive/My Drive/DataScience/data/competitive-data-science-predict-future-sales/items.csv')\n",
        "item_categories = pd.read_csv('/content/drive/My Drive/DataScience/data/competitive-data-science-predict-future-sales/item_categories.csv')\n",
        "shops           = pd.read_csv('/content/drive/My Drive/DataScience/data/competitive-data-science-predict-future-sales/shops.csv')\n",
        "transactions_test    = pd.read_csv('/content/drive/My Drive/DataScience/data/competitive-data-science-predict-future-sales/test.csv')\n"
      ],
      "execution_count": 0,
      "outputs": []
    },
    {
      "cell_type": "code",
      "metadata": {
        "id": "GEKnqvug6-gR",
        "colab_type": "code",
        "colab": {}
      },
      "source": [
        "index_cols = ['shop_id', 'item_id', 'date_block_num']\n",
        "\n",
        "# For every month we create a grid from all shops/items combinations from that month\n",
        "grid = [] \n",
        "for block_num in transactions['date_block_num'].unique():\n",
        "    cur_shops = transactions[transactions['date_block_num']==block_num]['shop_id'].unique()\n",
        "    cur_items = transactions[transactions['date_block_num']==block_num]['item_id'].unique()\n",
        "    grid.append(np.array(list(product(*[cur_shops, cur_items, [block_num]])), dtype = 'int16'))\n",
        "\n",
        "# Turn the grid into pandas dataframe\n",
        "grid = pd.DataFrame(np.vstack(grid), columns = index_cols, dtype = np.int32)\n",
        "\n",
        "# Get aggregated values of sales by shop_id, item_id\n",
        "gb = transactions.groupby(index_cols).agg({'item_cnt_day':'sum'})\n",
        "gb.columns = ['target']\n",
        "gb.reset_index(inplace = True)\n",
        "\n",
        "# Join aggregated data to the grid and sort the data\n",
        "train = pd.merge(grid, gb, how='left',on=index_cols).fillna(0)\n",
        "train['target'] = train['target'].clip(0,20)\n",
        "train.sort_values(['date_block_num','shop_id','item_id'],inplace=True)\n",
        "\n",
        "del grid, gb"
      ],
      "execution_count": 0,
      "outputs": []
    },
    {
      "cell_type": "code",
      "metadata": {
        "id": "y8lsFtHT84V9",
        "colab_type": "code",
        "colab": {}
      },
      "source": [
        "# Set ID as index and join train with test data\n",
        "transactions_test.set_index('ID', inplace = True)\n",
        "transactions_test['date_block_num'] = 34\n",
        "data = pd.concat([train, transactions_test], sort = False)\n",
        "data = downcast(data)\n",
        "\n",
        "del train"
      ],
      "execution_count": 0,
      "outputs": []
    },
    {
      "cell_type": "code",
      "metadata": {
        "id": "IemcyYVfcVG9",
        "colab_type": "code",
        "colab": {}
      },
      "source": [
        "# Add items and shops to test data\n",
        "data = pd.merge(data, items, on = ['item_id']) # Join item_name and item category\n",
        "data = pd.merge(data, shops, on = ['shop_id']) # Join shop_name\n",
        "del items, shops, item_categories, "
      ],
      "execution_count": 0,
      "outputs": []
    },
    {
      "cell_type": "code",
      "metadata": {
        "id": "6rb3wkSlchry",
        "colab_type": "code",
        "colab": {}
      },
      "source": [
        "data.columns\n",
        "data.fillna(0, inplace = True)"
      ],
      "execution_count": 0,
      "outputs": []
    },
    {
      "cell_type": "code",
      "metadata": {
        "id": "PJRsartIdv7L",
        "colab_type": "code",
        "colab": {
          "base_uri": "https://localhost:8080/",
          "height": 153
        },
        "outputId": "fe9be6a4-4098-496f-b554-6d923cd91172"
      },
      "source": [
        "data.isnull().sum()"
      ],
      "execution_count": 8,
      "outputs": [
        {
          "output_type": "execute_result",
          "data": {
            "text/plain": [
              "shop_id             0\n",
              "item_id             0\n",
              "date_block_num      0\n",
              "target              0\n",
              "item_name           0\n",
              "item_category_id    0\n",
              "shop_name           0\n",
              "dtype: int64"
            ]
          },
          "metadata": {
            "tags": []
          },
          "execution_count": 8
        }
      ]
    },
    {
      "cell_type": "code",
      "metadata": {
        "id": "FrWjfu5mnPL2",
        "colab_type": "code",
        "colab": {
          "base_uri": "https://localhost:8080/",
          "height": 153
        },
        "outputId": "a1fbd644-8295-4d52-84d4-4467c99ab442"
      },
      "source": [
        "# Mean encoding with smothing regularization  \n",
        "data\n",
        "# Simple grouping\n",
        "data = me_smoothing(data, 'date_block_num', 500)\n",
        "data = me_smoothing(data, 'shop_id', 500)\n",
        "data = me_smoothing(data, 'item_category_id', 500)\n",
        "data = me_smoothing(data, 'item_id', 500)\n",
        "\n",
        "# Pairs of vars\n",
        "data['date_item'] = data['date_block_num'].astype(str) + data['item_id'].astype(str)\n",
        "data['date_shop'] = data['date_block_num'].astype(str) + data['shop_id'].astype(str)\n",
        "data['date_cat'] = data['date_block_num'].astype(str) + data['item_category_id'].astype(str)\n",
        "data['shop_cat'] = data['shop_id'].astype(str) + data['item_category_id'].astype(str)\n",
        "\n",
        "data = me_smoothing(data, 'date_item', 500)\n",
        "data = me_smoothing(data, 'date_shop', 500)\n",
        "data = me_smoothing(data, 'date_cat', 500)\n",
        "data = me_smoothing(data, 'shop_cat', 500)\n",
        "\n",
        "data.drop(['date_item', 'date_shop', 'date_cat', 'shop_cat'], axis = 1, inplace=True)"
      ],
      "execution_count": 9,
      "outputs": [
        {
          "output_type": "stream",
          "text": [
            "Correlation of date_block_num _target_ME: 0.04893691632788347\n",
            "Correlation of shop_id _target_ME: 0.1685017646854669\n",
            "Correlation of item_category_id _target_ME: 0.27379027511592735\n",
            "Correlation of item_id _target_ME: 0.45574349833694433\n",
            "Correlation of date_item _target_ME: 0.6770975498262551\n",
            "Correlation of date_shop _target_ME: 0.18021221881439792\n",
            "Correlation of date_cat _target_ME: 0.26063798449917097\n",
            "Correlation of shop_cat _target_ME: 0.3341013272564833\n"
          ],
          "name": "stdout"
        }
      ]
    },
    {
      "cell_type": "code",
      "metadata": {
        "id": "AvZu80Ox6wKp",
        "colab_type": "code",
        "colab": {
          "base_uri": "https://localhost:8080/",
          "height": 119
        },
        "outputId": "8eecb0c9-48ff-42de-8921-d1535e253a1c"
      },
      "source": [
        "data.columns"
      ],
      "execution_count": 10,
      "outputs": [
        {
          "output_type": "execute_result",
          "data": {
            "text/plain": [
              "Index(['shop_id', 'item_id', 'date_block_num', 'target', 'item_name',\n",
              "       'item_category_id', 'shop_name', 'date_block_num_target_ME',\n",
              "       'shop_id_target_ME', 'item_category_id_target_ME', 'item_id_target_ME',\n",
              "       'date_item_target_ME', 'date_shop_target_ME', 'date_cat_target_ME',\n",
              "       'shop_cat_target_ME'],\n",
              "      dtype='object')"
            ]
          },
          "metadata": {
            "tags": []
          },
          "execution_count": 10
        }
      ]
    },
    {
      "cell_type": "code",
      "metadata": {
        "id": "koOh6nvY9QeI",
        "colab_type": "code",
        "colab": {
          "base_uri": "https://localhost:8080/",
          "height": 34
        },
        "outputId": "990c2c2b-d7f1-488d-c684-93f5771ede2c"
      },
      "source": [
        "# Lagged values\n",
        "ts = time.time()\n",
        "\n",
        "data = lag_feature(data, [1, 2, 3, 4, 5, 12], 'target')\n",
        "data = lag_feature(data, [1, 2, 3, 4, 5, 12], 'date_block_num_target_ME')\n",
        "data = lag_feature(data, [1, 2, 3, 4, 5, 12], 'shop_id_target_ME')\n",
        "data = lag_feature(data, [1, 2, 3, 4, 5, 12], 'item_category_id_target_ME')\n",
        "data = lag_feature(data, [1, 2, 3, 4, 5, 12], 'item_id_target_ME')\n",
        "data = lag_feature(data, [1, 2, 3, 4, 5, 12], 'date_item_target_ME')\n",
        "data = lag_feature(data, [1, 2, 3, 4, 5, 12], 'date_shop_target_ME')\n",
        "data = lag_feature(data, [1, 2, 3, 4, 5, 12], 'date_cat_target_ME')\n",
        "data = lag_feature(data, [1, 2, 3, 4, 5, 12], 'shop_cat_target_ME')\n",
        "\n",
        "data = downcast(data)\n",
        "\n",
        "time.time() - ts"
      ],
      "execution_count": 11,
      "outputs": [
        {
          "output_type": "execute_result",
          "data": {
            "text/plain": [
              "374.68431401252747"
            ]
          },
          "metadata": {
            "tags": []
          },
          "execution_count": 11
        }
      ]
    },
    {
      "cell_type": "code",
      "metadata": {
        "id": "nqegq3ir_og-",
        "colab_type": "code",
        "colab": {}
      },
      "source": [
        "# Drop level 0 lagged features\n",
        "data.drop(['date_block_num_target_ME', 'shop_id_target_ME', 'item_category_id_target_ME', 'item_id_target_ME', 'date_item_target_ME', 'date_shop_target_ME', 'date_cat_target_ME', 'shop_cat_target_ME'], axis = 1, inplace = True) # Drop object columns\n",
        "data = downcast(data)"
      ],
      "execution_count": 0,
      "outputs": []
    },
    {
      "cell_type": "code",
      "metadata": {
        "id": "7PPCCLD79k6z",
        "colab_type": "code",
        "colab": {}
      },
      "source": [
        "data.fillna(0, inplace=True)\n",
        "data.drop(['item_name', 'shop_name'], axis = 1, inplace = True) # Drop object columns\n",
        "\n",
        "X_train = data[(data.date_block_num > 11) & (data.date_block_num < 33)].drop(['target'], axis=1)\n",
        "Y_train = data[(data.date_block_num > 11) & (data.date_block_num < 33)]['target']\n",
        "X_valid = data[data.date_block_num == 33].drop(['target'], axis=1)\n",
        "Y_valid = data[data.date_block_num == 33]['target']\n",
        "X_test = data[data.date_block_num == 34].drop(['target'], axis=1)\n",
        "\n",
        "# del data"
      ],
      "execution_count": 0,
      "outputs": []
    },
    {
      "cell_type": "code",
      "metadata": {
        "id": "2n0rV2l7-TUu",
        "colab_type": "code",
        "colab": {
          "base_uri": "https://localhost:8080/",
          "height": 1000
        },
        "outputId": "5fb1e981-aa81-4e0d-afe6-c461b6b6fcdf"
      },
      "source": [
        "ts = time.time()\n",
        "\n",
        "model = XGBRegressor(\n",
        "    tree_method = \"gpu_hist\",\n",
        "    max_depth = 6, # Tree related parameter: determines how deeply each tree is allowed to grow during any boosting round\n",
        "    min_child_weight = 600, # \n",
        "    colsample_bytree=0.8, # percentage of features used per tree. High value can lead to overfitting\n",
        "    n_estimators = 500, # number of trees you want to build.\n",
        "    subsample=0.8, # Boosting parameter: percentage of samples used per tree. Low value can lead to underfitting\n",
        "    eta=0.3, #  Boosting parameter\n",
        "    seed=123)\n",
        "\n",
        "model.fit(\n",
        "    X_train, \n",
        "    Y_train, \n",
        "    eval_metric=\"rmse\", \n",
        "    eval_set=[(X_train, Y_train), (X_valid, Y_valid)], \n",
        "    verbose=True, \n",
        "    early_stopping_rounds = 10)\n",
        "\n",
        "time.time() - ts\n"
      ],
      "execution_count": 21,
      "outputs": [
        {
          "output_type": "stream",
          "text": [
            "[21:31:09] WARNING: /workspace/src/objective/regression_obj.cu:152: reg:linear is now deprecated in favor of reg:squarederror.\n",
            "[0]\tvalidation_0-rmse:1.15838\tvalidation_1-rmse:1.12813\n",
            "Multiple eval metrics have been passed: 'validation_1-rmse' will be used for early stopping.\n",
            "\n",
            "Will train until validation_1-rmse hasn't improved in 10 rounds.\n",
            "[1]\tvalidation_0-rmse:1.11622\tvalidation_1-rmse:1.09638\n",
            "[2]\tvalidation_0-rmse:1.08068\tvalidation_1-rmse:1.06928\n",
            "[3]\tvalidation_0-rmse:1.05055\tvalidation_1-rmse:1.04754\n",
            "[4]\tvalidation_0-rmse:1.02709\tvalidation_1-rmse:1.03051\n",
            "[5]\tvalidation_0-rmse:1.00453\tvalidation_1-rmse:1.01509\n",
            "[6]\tvalidation_0-rmse:0.986167\tvalidation_1-rmse:1.00211\n",
            "[7]\tvalidation_0-rmse:0.970495\tvalidation_1-rmse:0.991998\n",
            "[8]\tvalidation_0-rmse:0.957058\tvalidation_1-rmse:0.9832\n",
            "[9]\tvalidation_0-rmse:0.945725\tvalidation_1-rmse:0.975343\n",
            "[10]\tvalidation_0-rmse:0.935872\tvalidation_1-rmse:0.969804\n",
            "[11]\tvalidation_0-rmse:0.927089\tvalidation_1-rmse:0.964773\n",
            "[12]\tvalidation_0-rmse:0.919222\tvalidation_1-rmse:0.960214\n",
            "[13]\tvalidation_0-rmse:0.912985\tvalidation_1-rmse:0.957285\n",
            "[14]\tvalidation_0-rmse:0.9076\tvalidation_1-rmse:0.954431\n",
            "[15]\tvalidation_0-rmse:0.90347\tvalidation_1-rmse:0.952121\n",
            "[16]\tvalidation_0-rmse:0.899372\tvalidation_1-rmse:0.950018\n",
            "[17]\tvalidation_0-rmse:0.896197\tvalidation_1-rmse:0.948372\n",
            "[18]\tvalidation_0-rmse:0.892776\tvalidation_1-rmse:0.946277\n",
            "[19]\tvalidation_0-rmse:0.889602\tvalidation_1-rmse:0.944883\n",
            "[20]\tvalidation_0-rmse:0.886884\tvalidation_1-rmse:0.943774\n",
            "[21]\tvalidation_0-rmse:0.883238\tvalidation_1-rmse:0.940686\n",
            "[22]\tvalidation_0-rmse:0.881008\tvalidation_1-rmse:0.940148\n",
            "[23]\tvalidation_0-rmse:0.87932\tvalidation_1-rmse:0.939603\n",
            "[24]\tvalidation_0-rmse:0.877662\tvalidation_1-rmse:0.939218\n",
            "[25]\tvalidation_0-rmse:0.874854\tvalidation_1-rmse:0.936399\n",
            "[26]\tvalidation_0-rmse:0.87334\tvalidation_1-rmse:0.935789\n",
            "[27]\tvalidation_0-rmse:0.871967\tvalidation_1-rmse:0.935428\n",
            "[28]\tvalidation_0-rmse:0.870982\tvalidation_1-rmse:0.935013\n",
            "[29]\tvalidation_0-rmse:0.869897\tvalidation_1-rmse:0.934295\n",
            "[30]\tvalidation_0-rmse:0.868667\tvalidation_1-rmse:0.93371\n",
            "[31]\tvalidation_0-rmse:0.866717\tvalidation_1-rmse:0.932354\n",
            "[32]\tvalidation_0-rmse:0.865732\tvalidation_1-rmse:0.931941\n",
            "[33]\tvalidation_0-rmse:0.864863\tvalidation_1-rmse:0.931751\n",
            "[34]\tvalidation_0-rmse:0.863435\tvalidation_1-rmse:0.930628\n",
            "[35]\tvalidation_0-rmse:0.862738\tvalidation_1-rmse:0.930823\n",
            "[36]\tvalidation_0-rmse:0.86196\tvalidation_1-rmse:0.930456\n",
            "[37]\tvalidation_0-rmse:0.861371\tvalidation_1-rmse:0.93028\n",
            "[38]\tvalidation_0-rmse:0.860492\tvalidation_1-rmse:0.930163\n",
            "[39]\tvalidation_0-rmse:0.859751\tvalidation_1-rmse:0.929975\n",
            "[40]\tvalidation_0-rmse:0.859272\tvalidation_1-rmse:0.929826\n",
            "[41]\tvalidation_0-rmse:0.858825\tvalidation_1-rmse:0.92941\n",
            "[42]\tvalidation_0-rmse:0.858043\tvalidation_1-rmse:0.929148\n",
            "[43]\tvalidation_0-rmse:0.856658\tvalidation_1-rmse:0.928277\n",
            "[44]\tvalidation_0-rmse:0.855583\tvalidation_1-rmse:0.927972\n",
            "[45]\tvalidation_0-rmse:0.855047\tvalidation_1-rmse:0.927883\n",
            "[46]\tvalidation_0-rmse:0.854128\tvalidation_1-rmse:0.927409\n",
            "[47]\tvalidation_0-rmse:0.853829\tvalidation_1-rmse:0.927196\n",
            "[48]\tvalidation_0-rmse:0.852578\tvalidation_1-rmse:0.926266\n",
            "[49]\tvalidation_0-rmse:0.852208\tvalidation_1-rmse:0.926174\n",
            "[50]\tvalidation_0-rmse:0.851943\tvalidation_1-rmse:0.925979\n",
            "[51]\tvalidation_0-rmse:0.85124\tvalidation_1-rmse:0.925314\n",
            "[52]\tvalidation_0-rmse:0.850375\tvalidation_1-rmse:0.924716\n",
            "[53]\tvalidation_0-rmse:0.849579\tvalidation_1-rmse:0.924355\n",
            "[54]\tvalidation_0-rmse:0.847561\tvalidation_1-rmse:0.923416\n",
            "[55]\tvalidation_0-rmse:0.847076\tvalidation_1-rmse:0.923362\n",
            "[56]\tvalidation_0-rmse:0.846229\tvalidation_1-rmse:0.922983\n",
            "[57]\tvalidation_0-rmse:0.845869\tvalidation_1-rmse:0.922845\n",
            "[58]\tvalidation_0-rmse:0.845533\tvalidation_1-rmse:0.92288\n",
            "[59]\tvalidation_0-rmse:0.845201\tvalidation_1-rmse:0.922615\n",
            "[60]\tvalidation_0-rmse:0.844444\tvalidation_1-rmse:0.922216\n",
            "[61]\tvalidation_0-rmse:0.843979\tvalidation_1-rmse:0.922115\n",
            "[62]\tvalidation_0-rmse:0.843758\tvalidation_1-rmse:0.922181\n",
            "[63]\tvalidation_0-rmse:0.843371\tvalidation_1-rmse:0.92189\n",
            "[64]\tvalidation_0-rmse:0.842816\tvalidation_1-rmse:0.921557\n",
            "[65]\tvalidation_0-rmse:0.842401\tvalidation_1-rmse:0.921513\n",
            "[66]\tvalidation_0-rmse:0.842117\tvalidation_1-rmse:0.921433\n",
            "[67]\tvalidation_0-rmse:0.841838\tvalidation_1-rmse:0.921336\n",
            "[68]\tvalidation_0-rmse:0.841195\tvalidation_1-rmse:0.921064\n",
            "[69]\tvalidation_0-rmse:0.840756\tvalidation_1-rmse:0.920729\n",
            "[70]\tvalidation_0-rmse:0.840576\tvalidation_1-rmse:0.920609\n",
            "[71]\tvalidation_0-rmse:0.840311\tvalidation_1-rmse:0.920562\n",
            "[72]\tvalidation_0-rmse:0.839822\tvalidation_1-rmse:0.920487\n",
            "[73]\tvalidation_0-rmse:0.839623\tvalidation_1-rmse:0.920368\n",
            "[74]\tvalidation_0-rmse:0.839304\tvalidation_1-rmse:0.920327\n",
            "[75]\tvalidation_0-rmse:0.839049\tvalidation_1-rmse:0.920301\n",
            "[76]\tvalidation_0-rmse:0.838692\tvalidation_1-rmse:0.919896\n",
            "[77]\tvalidation_0-rmse:0.837613\tvalidation_1-rmse:0.919648\n",
            "[78]\tvalidation_0-rmse:0.837322\tvalidation_1-rmse:0.91968\n",
            "[79]\tvalidation_0-rmse:0.836762\tvalidation_1-rmse:0.9193\n",
            "[80]\tvalidation_0-rmse:0.836377\tvalidation_1-rmse:0.919281\n",
            "[81]\tvalidation_0-rmse:0.835483\tvalidation_1-rmse:0.91889\n",
            "[82]\tvalidation_0-rmse:0.835257\tvalidation_1-rmse:0.918693\n",
            "[83]\tvalidation_0-rmse:0.835071\tvalidation_1-rmse:0.918563\n",
            "[84]\tvalidation_0-rmse:0.834333\tvalidation_1-rmse:0.918372\n",
            "[85]\tvalidation_0-rmse:0.834111\tvalidation_1-rmse:0.918139\n",
            "[86]\tvalidation_0-rmse:0.833889\tvalidation_1-rmse:0.917952\n",
            "[87]\tvalidation_0-rmse:0.833692\tvalidation_1-rmse:0.917872\n",
            "[88]\tvalidation_0-rmse:0.833461\tvalidation_1-rmse:0.917792\n",
            "[89]\tvalidation_0-rmse:0.833344\tvalidation_1-rmse:0.917639\n",
            "[90]\tvalidation_0-rmse:0.83278\tvalidation_1-rmse:0.917594\n",
            "[91]\tvalidation_0-rmse:0.832556\tvalidation_1-rmse:0.917564\n",
            "[92]\tvalidation_0-rmse:0.832263\tvalidation_1-rmse:0.917467\n",
            "[93]\tvalidation_0-rmse:0.831955\tvalidation_1-rmse:0.91727\n",
            "[94]\tvalidation_0-rmse:0.831638\tvalidation_1-rmse:0.917073\n",
            "[95]\tvalidation_0-rmse:0.831453\tvalidation_1-rmse:0.91688\n",
            "[96]\tvalidation_0-rmse:0.831289\tvalidation_1-rmse:0.916776\n",
            "[97]\tvalidation_0-rmse:0.831162\tvalidation_1-rmse:0.916794\n",
            "[98]\tvalidation_0-rmse:0.830591\tvalidation_1-rmse:0.916537\n",
            "[99]\tvalidation_0-rmse:0.830331\tvalidation_1-rmse:0.916489\n",
            "[100]\tvalidation_0-rmse:0.830068\tvalidation_1-rmse:0.916322\n",
            "[101]\tvalidation_0-rmse:0.829938\tvalidation_1-rmse:0.916536\n",
            "[102]\tvalidation_0-rmse:0.829815\tvalidation_1-rmse:0.916525\n",
            "[103]\tvalidation_0-rmse:0.829537\tvalidation_1-rmse:0.916471\n",
            "[104]\tvalidation_0-rmse:0.829257\tvalidation_1-rmse:0.916218\n",
            "[105]\tvalidation_0-rmse:0.828982\tvalidation_1-rmse:0.915947\n",
            "[106]\tvalidation_0-rmse:0.828851\tvalidation_1-rmse:0.915888\n",
            "[107]\tvalidation_0-rmse:0.828169\tvalidation_1-rmse:0.915797\n",
            "[108]\tvalidation_0-rmse:0.827879\tvalidation_1-rmse:0.915328\n",
            "[109]\tvalidation_0-rmse:0.827738\tvalidation_1-rmse:0.915322\n",
            "[110]\tvalidation_0-rmse:0.827598\tvalidation_1-rmse:0.915284\n",
            "[111]\tvalidation_0-rmse:0.827337\tvalidation_1-rmse:0.915159\n",
            "[112]\tvalidation_0-rmse:0.827215\tvalidation_1-rmse:0.915169\n",
            "[113]\tvalidation_0-rmse:0.827041\tvalidation_1-rmse:0.915043\n",
            "[114]\tvalidation_0-rmse:0.826972\tvalidation_1-rmse:0.914929\n",
            "[115]\tvalidation_0-rmse:0.826568\tvalidation_1-rmse:0.914796\n",
            "[116]\tvalidation_0-rmse:0.826444\tvalidation_1-rmse:0.914643\n",
            "[117]\tvalidation_0-rmse:0.826308\tvalidation_1-rmse:0.914626\n",
            "[118]\tvalidation_0-rmse:0.826198\tvalidation_1-rmse:0.914527\n",
            "[119]\tvalidation_0-rmse:0.826029\tvalidation_1-rmse:0.914518\n",
            "[120]\tvalidation_0-rmse:0.825779\tvalidation_1-rmse:0.914613\n",
            "[121]\tvalidation_0-rmse:0.825603\tvalidation_1-rmse:0.914505\n",
            "[122]\tvalidation_0-rmse:0.825518\tvalidation_1-rmse:0.914482\n",
            "[123]\tvalidation_0-rmse:0.825383\tvalidation_1-rmse:0.914433\n",
            "[124]\tvalidation_0-rmse:0.825001\tvalidation_1-rmse:0.914354\n",
            "[125]\tvalidation_0-rmse:0.824778\tvalidation_1-rmse:0.914234\n",
            "[126]\tvalidation_0-rmse:0.824628\tvalidation_1-rmse:0.914228\n",
            "[127]\tvalidation_0-rmse:0.82439\tvalidation_1-rmse:0.914178\n",
            "[128]\tvalidation_0-rmse:0.824287\tvalidation_1-rmse:0.914139\n",
            "[129]\tvalidation_0-rmse:0.824199\tvalidation_1-rmse:0.914103\n",
            "[130]\tvalidation_0-rmse:0.824104\tvalidation_1-rmse:0.913992\n",
            "[131]\tvalidation_0-rmse:0.823902\tvalidation_1-rmse:0.914068\n",
            "[132]\tvalidation_0-rmse:0.823638\tvalidation_1-rmse:0.913975\n",
            "[133]\tvalidation_0-rmse:0.823503\tvalidation_1-rmse:0.913972\n",
            "[134]\tvalidation_0-rmse:0.823386\tvalidation_1-rmse:0.913883\n",
            "[135]\tvalidation_0-rmse:0.823285\tvalidation_1-rmse:0.913868\n",
            "[136]\tvalidation_0-rmse:0.823029\tvalidation_1-rmse:0.913811\n",
            "[137]\tvalidation_0-rmse:0.822556\tvalidation_1-rmse:0.913565\n",
            "[138]\tvalidation_0-rmse:0.822329\tvalidation_1-rmse:0.913553\n",
            "[139]\tvalidation_0-rmse:0.822184\tvalidation_1-rmse:0.913427\n",
            "[140]\tvalidation_0-rmse:0.822069\tvalidation_1-rmse:0.913381\n",
            "[141]\tvalidation_0-rmse:0.821983\tvalidation_1-rmse:0.913333\n",
            "[142]\tvalidation_0-rmse:0.821025\tvalidation_1-rmse:0.913339\n",
            "[143]\tvalidation_0-rmse:0.820924\tvalidation_1-rmse:0.913257\n",
            "[144]\tvalidation_0-rmse:0.820819\tvalidation_1-rmse:0.91323\n",
            "[145]\tvalidation_0-rmse:0.820742\tvalidation_1-rmse:0.913184\n",
            "[146]\tvalidation_0-rmse:0.820544\tvalidation_1-rmse:0.913149\n",
            "[147]\tvalidation_0-rmse:0.820407\tvalidation_1-rmse:0.913042\n",
            "[148]\tvalidation_0-rmse:0.820338\tvalidation_1-rmse:0.913009\n",
            "[149]\tvalidation_0-rmse:0.820207\tvalidation_1-rmse:0.912891\n",
            "[150]\tvalidation_0-rmse:0.819671\tvalidation_1-rmse:0.913167\n",
            "[151]\tvalidation_0-rmse:0.819472\tvalidation_1-rmse:0.913131\n",
            "[152]\tvalidation_0-rmse:0.818987\tvalidation_1-rmse:0.913476\n",
            "[153]\tvalidation_0-rmse:0.81873\tvalidation_1-rmse:0.913409\n",
            "[154]\tvalidation_0-rmse:0.818501\tvalidation_1-rmse:0.913598\n",
            "[155]\tvalidation_0-rmse:0.818379\tvalidation_1-rmse:0.913449\n",
            "[156]\tvalidation_0-rmse:0.818135\tvalidation_1-rmse:0.91354\n",
            "[157]\tvalidation_0-rmse:0.817986\tvalidation_1-rmse:0.913443\n",
            "[158]\tvalidation_0-rmse:0.817857\tvalidation_1-rmse:0.913258\n",
            "[159]\tvalidation_0-rmse:0.817672\tvalidation_1-rmse:0.913319\n",
            "Stopping. Best iteration:\n",
            "[149]\tvalidation_0-rmse:0.820207\tvalidation_1-rmse:0.912891\n",
            "\n"
          ],
          "name": "stdout"
        },
        {
          "output_type": "execute_result",
          "data": {
            "text/plain": [
              "28.80297589302063"
            ]
          },
          "metadata": {
            "tags": []
          },
          "execution_count": 21
        }
      ]
    },
    {
      "cell_type": "code",
      "metadata": {
        "id": "rkUnAPYa-qfc",
        "colab_type": "code",
        "colab": {
          "base_uri": "https://localhost:8080/",
          "height": 282
        },
        "outputId": "8e58dcfc-53b1-41f4-e957-7a87cc581d03"
      },
      "source": [
        "feat_importances = pd.Series(model.feature_importances_, index=X_train.columns)\n",
        "feat_importances.nlargest(15).plot(kind='barh')"
      ],
      "execution_count": 22,
      "outputs": [
        {
          "output_type": "execute_result",
          "data": {
            "text/plain": [
              "<matplotlib.axes._subplots.AxesSubplot at 0x7f0e2811d828>"
            ]
          },
          "metadata": {
            "tags": []
          },
          "execution_count": 22
        },
        {
          "output_type": "display_data",
          "data": {
            "image/png": "[encoded data removed]",
            "text/plain": [
              "<Figure size 432x288 with 1 Axes>"
            ]
          },
          "metadata": {
            "tags": [],
            "needs_background": "light"
          }
        }
      ]
    },
    {
      "cell_type": "code",
      "metadata": {
        "id": "8gj3WoGm-sd7",
        "colab_type": "code",
        "colab": {}
      },
      "source": [
        "Y_test = model.predict(X_test).clip(0, 20)\n",
        "testdata = X_test\n",
        "testdata['Y_test'] = Y_test\n",
        "\n",
        "# Add target variable to transactions_test and leave only ID and target\n",
        "transactions_test.reset_index(inplace = True)\n",
        "submition = pd.merge(transactions_test, testdata[['shop_id', 'item_id', 'Y_test']], on = ['shop_id', 'item_id'])\n",
        "submition = submition[['ID', 'Y_test']]\n",
        "submition.columns = ['ID', 'item_cnt_month']"
      ],
      "execution_count": 0,
      "outputs": []
    },
    {
      "cell_type": "code",
      "metadata": {
        "id": "OaaBIjeh-s48",
        "colab_type": "code",
        "colab": {}
      },
      "source": [
        "# Export results\n",
        "submition.to_csv('V15_Smooth500_All13.csv', index=False)\n",
        "files.download('V15_Smooth500_All13.csv')"
      ],
      "execution_count": 0,
      "outputs": []
    },
    {
      "cell_type": "markdown",
      "metadata": {
        "id": "k2WPL_ByIZmg",
        "colab_type": "text"
      },
      "source": [
        ""
      ]
    }
  ]
}